{
 "cells": [
  {
   "cell_type": "markdown",
   "id": "705c5d71",
   "metadata": {},
   "source": [
    "**Exercise 1.16.**\n",
    "\n",
    "*In general, the technique of defining an invariant quantity\n",
    "that remains unchanged from state to state is a powerful\n",
    "way to think about the design of iterative algorithms.*"
   ]
  },
  {
   "cell_type": "code",
   "execution_count": 2,
   "id": "3566afc5",
   "metadata": {},
   "outputs": [
    {
     "data": {
      "text/plain": [
       "even?"
      ]
     },
     "execution_count": 2,
     "metadata": {},
     "output_type": "execute_result"
    }
   ],
   "source": [
    "(define (fast-expt b n)\n",
    "  (fast-expt-iter 1 b n))\n",
    "(define (fast-expt-iter a b n)\n",
    "  (cond ((= n 0) a)\n",
    "        ((even? n) (fast-expt-iter a (square b) (/ n 2)))\n",
    "        (else (fast-expt-iter (* a b) (square b) (/ (- n 1) 2)))))\n",
    "\n",
    "(define (even? n)\n",
    "  (= (remainder n 2) 0))"
   ]
  },
  {
   "cell_type": "markdown",
   "id": "29c9d20d",
   "metadata": {},
   "source": [
    "**Exercise 1.17. integer multiplication (Recursive )**\n",
    "\n",
    "*Perform integer multiplication by means of repeated addition.*"
   ]
  },
  {
   "cell_type": "code",
   "execution_count": 1,
   "id": "72990a13",
   "metadata": {},
   "outputs": [
    {
     "data": {
      "text/plain": [
       "halve"
      ]
     },
     "execution_count": 1,
     "metadata": {},
     "output_type": "execute_result"
    }
   ],
   "source": [
    "(define (double x) (+ x x))\n",
    "(define (halve x) (/ x 2))"
   ]
  },
  {
   "cell_type": "code",
   "execution_count": 2,
   "id": "2e7c2979",
   "metadata": {},
   "outputs": [
    {
     "data": {
      "text/plain": [
       "even?"
      ]
     },
     "execution_count": 2,
     "metadata": {},
     "output_type": "execute_result"
    }
   ],
   "source": [
    "(define (* a b)\n",
    "  (cond ((= b 1) a)\n",
    "        ((even? b) (* (double a) (halve b)))\n",
    "        (else (+ a (* (double a) (halve (- b 1)))))))\n",
    "\n",
    "(define (even? n)\n",
    "  (= (remainder n 2) 0))"
   ]
  },
  {
   "cell_type": "code",
   "execution_count": 6,
   "id": "fe430edc",
   "metadata": {},
   "outputs": [
    {
     "data": {
      "text/plain": [
       "14"
      ]
     },
     "execution_count": 6,
     "metadata": {},
     "output_type": "execute_result"
    }
   ],
   "source": [
    "(* 2 7)"
   ]
  },
  {
   "cell_type": "markdown",
   "id": "1d73a26f",
   "metadata": {},
   "source": [
    "**Exercise 1.18. (1.17 iterative )**\n",
    "\n",
    "*Same with Exercise 1.16, add an additional variable `c`.*"
   ]
  },
  {
   "cell_type": "code",
   "execution_count": 5,
   "id": "59844abc",
   "metadata": {},
   "outputs": [
    {
     "data": {
      "text/plain": [
       "even?"
      ]
     },
     "execution_count": 5,
     "metadata": {},
     "output_type": "execute_result"
    }
   ],
   "source": [
    "(define (* a b)\n",
    "  (*-iter a b 0))\n",
    "(define (*-iter a b c) \n",
    "  (cond ((= b 0) c)\n",
    "        ((even? b) (*-iter (double a) (halve b) c))\n",
    "        (else (*-iter (double a) (halve (- b 1)) (+ c a)))))\n",
    "\n",
    "(define (even? n)\n",
    "  (= (remainder n 2) 0))"
   ]
  },
  {
   "cell_type": "markdown",
   "id": "b2354fd4",
   "metadata": {},
   "source": [
    "**Exercise 1.19.**\n",
    "\n",
    "*It is linear algebra. The key is transformation `T`.*\n",
    "\n",
    "$a_{1} = b_{0}q + a_{0}(q + p)$   ①\n",
    "\n",
    "$b_{1} = b_{0}p + a_{0}q$        ②\n",
    "\n",
    "$a_{2} = b_{1}q + a_{1}(q + p)$  ③\n",
    "\n",
    "$b_{2} = b_{1}p + a_{1}q$ ④\n",
    "\n",
    "Apply ①② to ③④,\n",
    "\n",
    "$a_{2} = (b_{0}p + a_{0}q)q + (b_{0}q + a_{0}(q + p))(q + p)$\n",
    "  $= b_{0}(2pq + q^{2}) + a_{0}(2q^{2}+2pq+ p^{2})$\n",
    "  \n",
    "$b_{2} = ((b_{0}p + a_{0}q))p + (b_{0}q + a_{0}(q + p))q$\n",
    "  $=b_{0}(p^{2}+q^{2}) + a_{0}(2pq + q^{2})$\n",
    "  \n",
    "So,\n",
    "\n",
    "$q'=2pq + q^{2}$\n",
    "\n",
    "$p'=p^{2}+q^{2}$"
   ]
  },
  {
   "cell_type": "code",
   "execution_count": 5,
   "id": "4efef4d9",
   "metadata": {},
   "outputs": [
    {
     "data": {
      "text/plain": [
       "update-q"
      ]
     },
     "execution_count": 5,
     "metadata": {},
     "output_type": "execute_result"
    }
   ],
   "source": [
    "(define (update-p p q)\n",
    "  (+ (square p) (square q)))\n",
    "(define (update-q p q)\n",
    "  (+ (* p q) (* p q) (square q)))"
   ]
  },
  {
   "cell_type": "markdown",
   "id": "d48acaaa",
   "metadata": {},
   "source": [
    "```"
   ]
  }
 ],
 "metadata": {
  "kernelspec": {
   "display_name": "MIT Scheme",
   "language": "mit-scheme",
   "name": "mit-scheme"
  },
  "language_info": {
   "codemirror_mode": "scheme",
   "file_extension": ".scm",
   "mimetype": "application/x-scheme",
   "name": "MIT Scheme",
   "pygments_lexer": "scheme",
   "version": "9.2.1"
  }
 },
 "nbformat": 4,
 "nbformat_minor": 5
}
