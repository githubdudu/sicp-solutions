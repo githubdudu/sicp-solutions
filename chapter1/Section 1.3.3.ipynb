{
 "cells": [
  {
   "cell_type": "markdown",
   "id": "0e28b8ae",
   "metadata": {},
   "source": [
    "## Section 1.3.3\n",
    "\n",
    "**Exercise 1.35**\n",
    "\n",
    "*An implement of fixed point procedure.* \n",
    "\n",
    "x = 1 + 1/x  , multiple x to both sides of the equation.\n",
    "\n",
    "x^2 = x + 1,  it is golden ratio φ.\n",
    "\n",
    "The result expected to be .7390822985224023 and 1.6180..."
   ]
  },
  {
   "cell_type": "code",
   "execution_count": 3,
   "id": "7d561632",
   "metadata": {},
   "outputs": [
    {
     "name": "stdout",
     "output_type": "stream",
     "text": [
      ".7390822985224024"
     ]
    }
   ],
   "source": [
    "(define tolerance 0.00001)\n",
    "(define (fixed-point f first-guess)\n",
    "  (define (close-enough? v1 v2)\n",
    "    (< (abs (- v1 v2))\n",
    "    tolerance))\n",
    "  (define (try guess)\n",
    "    (let ((next (f guess)))\n",
    "      (if (close-enough? guess next)\n",
    "          next\n",
    "          (try next))))\n",
    "  (try first-guess))\n",
    "\n",
    "(display (fixed-point cos 1.0))"
   ]
  },
  {
   "cell_type": "code",
   "execution_count": 4,
   "id": "1d5bcd73",
   "metadata": {},
   "outputs": [
    {
     "name": "stdout",
     "output_type": "stream",
     "text": [
      "1.6180327868852458"
     ]
    }
   ],
   "source": [
    ";x = 1 + 1/x  , multiple x to both sides of the equation\n",
    ";x^2 = x + 1,  it is golden ratio φ\n",
    "(display (fixed-point (lambda (x) (+ 1 (/ 1 x))) 1.0))"
   ]
  },
  {
   "cell_type": "markdown",
   "id": "f460cfa1",
   "metadata": {},
   "source": [
    "**Exercise 1.36**\n",
    "\n",
    "*Another implement of fixed point. Also help to understand the iteration procedure and there is a speed of converging which average damping would accelerate it.*\n",
    "\n",
    "We can count from below. The steps it takes with average damp is much smaller. To reach the tolerance 1e-5,without average damp needs 34 steps while with average dame needs 9 steps."
   ]
  },
  {
   "cell_type": "code",
   "execution_count": 1,
   "id": "fce18df1",
   "metadata": {},
   "outputs": [
    {
     "data": {
      "text/plain": [
       "average"
      ]
     },
     "execution_count": 1,
     "metadata": {},
     "output_type": "execute_result"
    }
   ],
   "source": [
    "(define tolerance 0.00001)\n",
    "(define (fixed-point-with-print f first-guess)\n",
    "  (define (close-enough? v1 v2)\n",
    "    (< (abs (- v1 v2))\n",
    "    tolerance))\n",
    "  (define (try guess steps)\n",
    "    (let ((next (f guess)))\n",
    "      (newline)\n",
    "      (display \"steps: \") (display steps)\n",
    ";;       (display \" guess: \") (display guess)\n",
    "      (display \", \")\n",
    "      (display \"next \") (display next)\n",
    "      (if (close-enough? guess next)\n",
    "          next\n",
    "          (try next (+ 1 steps)))))\n",
    "  (newline) (display \"Begin guess: \") (display f) \n",
    "  (try first-guess 1)\n",
    "  (newline))\n",
    "(define (average x y)\n",
    "  (/ (+ x y) 2))"
   ]
  },
  {
   "cell_type": "code",
   "execution_count": 2,
   "id": "737cffa3",
   "metadata": {
    "collapsed": true
   },
   "outputs": [
    {
     "name": "stdout",
     "output_type": "stream",
     "text": [
      "\n",
      "Begin guess: #[compound-procedure 14]\n",
      "steps: 1, next 9.965784284662087\n",
      "steps: 2, next 3.004472209841214\n",
      "steps: 3, next 6.279195757507157\n",
      "steps: 4, next 3.759850702401539\n",
      "steps: 5, next 5.215843784925895\n",
      "steps: 6, next 4.182207192401397\n",
      "steps: 7, next 4.8277650983445906\n",
      "steps: 8, next 4.387593384662677\n",
      "steps: 9, next 4.671250085763899\n",
      "steps: 10, next 4.481403616895052\n",
      "steps: 11, next 4.6053657460929\n",
      "steps: 12, next 4.5230849678718865\n",
      "steps: 13, next 4.577114682047341\n",
      "steps: 14, next 4.541382480151454\n",
      "steps: 15, next 4.564903245230833\n",
      "steps: 16, next 4.549372679303342\n",
      "steps: 17, next 4.559606491913287\n",
      "steps: 18, next 4.552853875788271\n",
      "steps: 19, next 4.557305529748263\n",
      "steps: 20, next 4.554369064436181\n",
      "steps: 21, next 4.556305311532999\n",
      "steps: 22, next 4.555028263573554\n",
      "steps: 23, next 4.555870396702851\n",
      "steps: 24, next 4.555315001192079\n",
      "steps: 25, next 4.5556812635433275\n",
      "steps: 26, next 4.555439715736846\n",
      "steps: 27, next 4.555599009998291\n",
      "steps: 28, next 4.555493957531389\n",
      "steps: 29, next 4.555563237292884\n",
      "steps: 30, next 4.555517548417651\n",
      "steps: 31, next 4.555547679306398\n",
      "steps: 32, next 4.555527808516254\n",
      "steps: 33, next 4.555540912917957\n",
      "steps: 34, next 4.555532270803653\n",
      "\n",
      "Begin guess: #[compound-procedure 15]\n",
      "steps: 1, next 5.9828921423310435\n",
      "steps: 2, next 4.922168721308343\n",
      "steps: 3, next 4.628224318195455\n",
      "steps: 4, next 4.568346513136242\n",
      "steps: 5, next 4.5577305909237005\n",
      "steps: 6, next 4.555909809045131\n",
      "steps: 7, next 4.555599411610624\n",
      "steps: 8, next 4.5555465521473675\n",
      "steps: 9, next 4.555537551999825\n"
     ]
    }
   ],
   "source": [
    "(fixed-point-with-print (lambda (x) (/ (log 1000) (log x))) 2.0)\n",
    "(fixed-point-with-print (lambda (x) (average (/ (log 1000) (log x)) x)) 2.0)"
   ]
  },
  {
   "cell_type": "markdown",
   "id": "7bd2efb9",
   "metadata": {},
   "source": [
    "**Exercise 1.37**\n",
    "\n",
    "*Introduced another powerful method for finding roots of equation: **An infinite continued fraction.** Next two exercises are all about this.*\n",
    "\n",
    "How large must you make k in order to get an approximation that is accurate to 4 decimal places?\n",
    "\n",
    "Write a test function to show every k from 1 to n and check the accuracy. It took k=11, after that the 4th digits after decimal stabled."
   ]
  },
  {
   "cell_type": "code",
   "execution_count": 1,
   "id": "900128f9",
   "metadata": {},
   "outputs": [
    {
     "data": {
      "text/plain": [
       "cont-frac"
      ]
     },
     "execution_count": 1,
     "metadata": {},
     "output_type": "execute_result"
    }
   ],
   "source": [
    "(define (cont-frac n d k)\n",
    "  (define (iter k frac)\n",
    "    (if (= 0 k) \n",
    "        frac\n",
    "        (iter (- k 1) (/ (n k) (+ (d k) frac)))))\n",
    "  (iter k 0))"
   ]
  },
  {
   "cell_type": "code",
   "execution_count": 2,
   "id": "dffe17f0",
   "metadata": {},
   "outputs": [
    {
     "data": {
      "text/plain": [
       "cont-frac2"
      ]
     },
     "execution_count": 2,
     "metadata": {},
     "output_type": "execute_result"
    }
   ],
   "source": [
    "(define (cont-frac2 n d k)\n",
    "  (define (frac-rec i) \n",
    "     (/ (n i) \n",
    "        (+ (d i) \n",
    "           (if (> i k) \n",
    "               0 \n",
    "               (frac-rec (+ i 1)))))) \n",
    "  (frac-rec 1)) "
   ]
  },
  {
   "cell_type": "code",
   "execution_count": 3,
   "id": "ff1b3850",
   "metadata": {},
   "outputs": [
    {
     "data": {
      "text/plain": [
       "test"
      ]
     },
     "execution_count": 3,
     "metadata": {},
     "output_type": "execute_result"
    }
   ],
   "source": [
    "(define (test k count)\n",
    "  (if (= count k)\n",
    "      #t\n",
    "      (begin \n",
    "        (display (cont-frac (lambda (i) 1.0) (lambda (i) 1.0) k))\n",
    "        (newline)\n",
    "        (test (+ k 1) count))))  \n"
   ]
  },
  {
   "cell_type": "code",
   "execution_count": 4,
   "id": "47d8efd2",
   "metadata": {},
   "outputs": [
    {
     "data": {
      "text/plain": [
       ".6179775280898876"
      ]
     },
     "execution_count": 4,
     "metadata": {},
     "output_type": "execute_result"
    }
   ],
   "source": [
    "(cont-frac (lambda (i) 1.0) (lambda (i) 1.0) 10) ; .6179775280898876"
   ]
  },
  {
   "cell_type": "code",
   "execution_count": 5,
   "id": "b0c94160",
   "metadata": {},
   "outputs": [
    {
     "data": {
      "text/plain": [
       ".6180339887498948"
      ]
     },
     "execution_count": 5,
     "metadata": {},
     "output_type": "execute_result"
    }
   ],
   "source": [
    "(cont-frac (lambda (i) 1.0) (lambda (i) 1.0) 100) ; .6180339887498948"
   ]
  },
  {
   "cell_type": "code",
   "execution_count": 6,
   "id": "58193978",
   "metadata": {
    "collapsed": true
   },
   "outputs": [
    {
     "name": "stdout",
     "output_type": "stream",
     "text": [
      "1.\n",
      ".5\n",
      ".6666666666666666\n",
      ".6000000000000001\n",
      ".625\n",
      ".6153846153846154\n",
      ".6190476190476191\n",
      ".6176470588235294\n",
      ".6181818181818182\n",
      "1.\n",
      ".5\n",
      ".6666666666666666\n",
      ".6000000000000001\n",
      ".625\n",
      ".6153846153846154\n",
      ".6190476190476191\n",
      ".6176470588235294\n",
      ".6181818181818182\n",
      ".6179775280898876\n",
      ".6180555555555556\n",
      ".6180257510729613\n",
      ".6180371352785146\n",
      ".6180327868852459\n",
      ".6180344478216819\n",
      ".6180338134001252\n",
      ".6180340557275542\n",
      ".6180339631667064\n",
      ".6180339985218034\n"
     ]
    },
    {
     "data": {
      "text/plain": [
       "#t"
      ]
     },
     "execution_count": 6,
     "metadata": {},
     "output_type": "execute_result"
    }
   ],
   "source": [
    "(test 1 10)\n",
    "(test 1 20)"
   ]
  },
  {
   "cell_type": "markdown",
   "id": "efd25595",
   "metadata": {},
   "source": [
    "**Exercise 1.38**\n",
    "\n",
    "*- **Euler’s expansion** to calculate e number, aka, Euler's number. 2.718281828459045…*\n",
    "\n",
    "The procedure `euler-number` below calculates `(e-2)`."
   ]
  },
  {
   "cell_type": "code",
   "execution_count": 2,
   "id": "4c112797",
   "metadata": {},
   "outputs": [
    {
     "data": {
      "text/plain": [
       "cont-frac"
      ]
     },
     "execution_count": 2,
     "metadata": {},
     "output_type": "execute_result"
    }
   ],
   "source": [
    "(define (cont-frac n d k)\n",
    "  (define (iter k frac)\n",
    "    (if (= 0 k) \n",
    "        frac\n",
    "        (iter (- k 1) (/ (n k) (+ (d k) frac)))))\n",
    "  (iter k 0))"
   ]
  },
  {
   "cell_type": "code",
   "execution_count": 4,
   "id": "d1b02095",
   "metadata": {},
   "outputs": [
    {
     "data": {
      "text/plain": [
       ".7182818284590453"
      ]
     },
     "execution_count": 4,
     "metadata": {},
     "output_type": "execute_result"
    }
   ],
   "source": [
    "(define (special? n)\n",
    "  (= (remainder (- n 2) 3) 0)) ; 2,5,8,11\n",
    "(define (euler-number k)\n",
    "  (let ((n (+ k 1))) \n",
    "    (if (= (remainder n 3) 0)\n",
    "        (* 2 n 1/3)\n",
    "        1)))\n",
    "(cont-frac (lambda (x) 1.0) euler-number 100) ; e-2  Euler's number: e"
   ]
  },
  {
   "cell_type": "markdown",
   "id": "a30e592c",
   "metadata": {},
   "source": [
    "**Exercise 1.39**\n",
    "\n",
    "*Introduced  **Lambert’s formula**, which is a special case of continued fraction to calculate **tangent** .*"
   ]
  },
  {
   "cell_type": "code",
   "execution_count": 6,
   "id": "223b0bd9",
   "metadata": {},
   "outputs": [
    {
     "data": {
      "text/plain": [
       "tan-cf"
      ]
     },
     "execution_count": 6,
     "metadata": {},
     "output_type": "execute_result"
    }
   ],
   "source": [
    "(define (tan-cf x k)\n",
    "  (define sqrx (square x))\n",
    "  (define (iter k frac)\n",
    "    (if (= 1 k) \n",
    "        (/ x (- (* 2 k) 1 frac))\n",
    "        (iter (- k 1) (/ sqrx (- (* 2 k) 1 frac)))))\n",
    "  (iter k 0))"
   ]
  },
  {
   "cell_type": "code",
   "execution_count": 7,
   "id": "c59b54b9",
   "metadata": {},
   "outputs": [
    {
     "data": {
      "text/plain": [
       ".9999986732059835"
      ]
     },
     "execution_count": 7,
     "metadata": {},
     "output_type": "execute_result"
    }
   ],
   "source": [
    "(tan-cf (/ 3.14159 4) 100) ; 1.0"
   ]
  }
 ],
 "metadata": {
  "kernelspec": {
   "display_name": "MIT Scheme",
   "language": "mit-scheme",
   "name": "mit-scheme"
  },
  "language_info": {
   "codemirror_mode": "scheme",
   "file_extension": ".scm",
   "mimetype": "application/x-scheme",
   "name": "MIT Scheme",
   "pygments_lexer": "scheme",
   "version": "9.2.1"
  }
 },
 "nbformat": 4,
 "nbformat_minor": 5
}
