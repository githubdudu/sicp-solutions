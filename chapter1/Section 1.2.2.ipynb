{
 "cells": [
  {
   "cell_type": "markdown",
   "id": "7453f0d2",
   "metadata": {},
   "source": [
    "**Exercise 1.11.**\n",
    "\n"
   ]
  },
  {
   "cell_type": "code",
   "execution_count": 1,
   "id": "6b9b7b0f",
   "metadata": {},
   "outputs": [
    {
     "data": {
      "text/plain": [
       "f"
      ]
     },
     "execution_count": 1,
     "metadata": {},
     "output_type": "execute_result"
    }
   ],
   "source": [
    "; Recursive\n",
    "; f(n) = n if n<3 and f(n) = f(n - 1) + 2f(n - 2) + 3f(n - 3)\n",
    "(define (f n)\n",
    "    (if (< n 3)\n",
    "        n\n",
    "        (+ (f (- n 1)) (* 2 (f (- n 2))) (* 3 (f (- n 3))))))"
   ]
  },
  {
   "cell_type": "code",
   "execution_count": 2,
   "id": "efb63c00",
   "metadata": {},
   "outputs": [
    {
     "data": {
      "text/plain": [
       "f"
      ]
     },
     "execution_count": 2,
     "metadata": {},
     "output_type": "execute_result"
    }
   ],
   "source": [
    "; Iterative\n",
    "(define (f n)\n",
    "  (define (iter-f a b c n)\n",
    "    (if (<= n 3)\n",
    "        a \n",
    "        (iter-f (+ a (* b 2) (* c 3))\n",
    "                a\n",
    "                b\n",
    "                (- n 1))))\n",
    "  (if (<= n 3)\n",
    "      n\n",
    "      (iter-f 2 1 0 n)))\n"
   ]
  },
  {
   "cell_type": "markdown",
   "id": "9e67ca2b",
   "metadata": {},
   "source": [
    "**Exercise 1.12.**"
   ]
  },
  {
   "cell_type": "code",
   "execution_count": 3,
   "id": "aef704e6",
   "metadata": {},
   "outputs": [
    {
     "data": {
      "text/plain": [
       "pascal"
      ]
     },
     "execution_count": 3,
     "metadata": {},
     "output_type": "execute_result"
    }
   ],
   "source": [
    "(define (pascal x y) \n",
    "  (if (or (= x y) (= y 0))\n",
    "      1\n",
    "      (+ (pascal (- x 1) y) (pascal (- x 1) (- y 1)))))\n"
   ]
  },
  {
   "cell_type": "code",
   "execution_count": null,
   "id": "e8ea23ee",
   "metadata": {},
   "outputs": [],
   "source": []
  }
 ],
 "metadata": {
  "kernelspec": {
   "display_name": "MIT Scheme",
   "language": "mit-scheme",
   "name": "mit-scheme"
  },
  "language_info": {
   "codemirror_mode": "scheme",
   "file_extension": ".scm",
   "mimetype": "application/x-scheme",
   "name": "MIT Scheme",
   "pygments_lexer": "scheme",
   "version": "9.2.1"
  }
 },
 "nbformat": 4,
 "nbformat_minor": 5
}
