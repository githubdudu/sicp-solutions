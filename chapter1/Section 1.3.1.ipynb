{
 "cells": [
  {
   "cell_type": "markdown",
   "id": "18434889",
   "metadata": {},
   "source": [
    "## Section 1.3.1\n",
    "\n",
    "**Exercse 1.29**\n",
    "\n",
    "*Simpson’s Rule is a more accurate method of numerical integration.*\n",
    "\n",
    "Notice, the f here is not same as the f in the sigma notation.\n",
    "\n",
    "**Simpson’s Rule**\n",
    "\n",
    "h = (b - a)/n\n",
    "\n",
    "h/3(y0 + 4y1 + 2y2 +... 2yn-2 + 4yn-1 + yn)\n",
    "\n",
    "yk = f(a + kh)\n"
   ]
  },
  {
   "cell_type": "code",
   "execution_count": null,
   "id": "881e74f5",
   "metadata": {},
   "outputs": [],
   "source": [
    "; sum (version in the book)\n",
    "(define (sum f a next b)\n",
    "  (if (> a b) \n",
    "      0 \n",
    "      (+ (f a)\n",
    "         (sum f (next a) next b))))"
   ]
  },
  {
   "cell_type": "code",
   "execution_count": 3,
   "id": "fd33b445",
   "metadata": {},
   "outputs": [
    {
     "data": {
      "text/plain": [
       "integral-simp"
      ]
     },
     "execution_count": 3,
     "metadata": {},
     "output_type": "execute_result"
    }
   ],
   "source": [
    "(define (integral-simp f a b n)\n",
    "  (define h (/ (- b a) n))\n",
    "  (define (update-x x)\n",
    "          (+ x h))\n",
    "  (define (co k) \n",
    "    (if (or (= k 0) (= k n)) \n",
    "        1 \n",
    "        (if (even? k) \n",
    "            2 \n",
    "            4)))\n",
    "  (define (sum x k)\n",
    "    (if (> x b) \n",
    "        0 \n",
    "        (+ (* (co k) (f x))\n",
    "          (sum (update-x x) (+ k 1)))))\n",
    "  \n",
    "  (* (/ h 3) (sum a 0)))"
   ]
  },
  {
   "cell_type": "code",
   "execution_count": 4,
   "id": "1b28ee35",
   "metadata": {},
   "outputs": [
    {
     "data": {
      "text/plain": [
       "47/243"
      ]
     },
     "execution_count": 4,
     "metadata": {},
     "output_type": "execute_result"
    }
   ],
   "source": [
    "(define (cube x) (* x x x))\n",
    "(integral-simp cube 0 1 3)"
   ]
  },
  {
   "cell_type": "markdown",
   "id": "9101e435",
   "metadata": {},
   "source": [
    "**Exercse 1.30**\n",
    "\n",
    "*The iterative sum procedure.*"
   ]
  },
  {
   "cell_type": "code",
   "execution_count": 6,
   "id": "2e6553e8",
   "metadata": {},
   "outputs": [
    {
     "data": {
      "text/plain": [
       "sum"
      ]
     },
     "execution_count": 6,
     "metadata": {},
     "output_type": "execute_result"
    }
   ],
   "source": [
    "; sum (version in the book)\n",
    "(define (sum-old term a next b)\n",
    "  (if (> a b) \n",
    "      0 \n",
    "      (+ (term a)\n",
    "         (sum-old term (next a) next b))))\n",
    "\n",
    "; Solution\n",
    "(define (sum term a next b)\n",
    "  (define (iter a result)\n",
    "    (if (> a b)\n",
    "        result\n",
    "        (iter (next a) (+ result (term a)))))\n",
    "  (iter a 0))\n",
    "  "
   ]
  },
  {
   "cell_type": "markdown",
   "id": "5afdf632",
   "metadata": {},
   "source": [
    "**Exercse 1.31**\n",
    "\n",
    "*Apply the concept of abstractions from sum to product.*\n",
    "\n",
    "*Also implement this to a formula to calculate Pi.*\n"
   ]
  },
  {
   "cell_type": "code",
   "execution_count": 6,
   "id": "703dac7c",
   "metadata": {},
   "outputs": [
    {
     "data": {
      "text/plain": [
       "product"
      ]
     },
     "execution_count": 6,
     "metadata": {},
     "output_type": "execute_result"
    }
   ],
   "source": [
    "; Product\n",
    "(define (product term a next b)\n",
    "  (define (iter answer a)\n",
    "    (if (> a b)\n",
    "        answer\n",
    "        (iter (* answer (term a)) (next a))))\n",
    "  (iter 1 a))"
   ]
  },
  {
   "cell_type": "markdown",
   "id": "11d69284",
   "metadata": {},
   "source": [
    "Define `factorial` in terms of `product`:"
   ]
  },
  {
   "cell_type": "code",
   "execution_count": 7,
   "id": "533ab73b",
   "metadata": {},
   "outputs": [
    {
     "data": {
      "text/plain": [
       "factorial"
      ]
     },
     "execution_count": 7,
     "metadata": {},
     "output_type": "execute_result"
    }
   ],
   "source": [
    "(define (factorial n)\n",
    "  (define (f-term x) x)\n",
    "  (define (inc x) (+ x 1))\n",
    "  (product f-term 1 inc n))"
   ]
  },
  {
   "cell_type": "markdown",
   "id": "51f7c825",
   "metadata": {},
   "source": [
    "Compute pi using `product`: \n",
    "\n",
    "`exact->inexact` is a procedure convert fraction to decimal version. 1/4 -> .25"
   ]
  },
  {
   "cell_type": "code",
   "execution_count": 8,
   "id": "a5ede9db",
   "metadata": {},
   "outputs": [
    {
     "data": {
      "text/plain": [
       "pi-product"
      ]
     },
     "execution_count": 8,
     "metadata": {},
     "output_type": "execute_result"
    }
   ],
   "source": [
    "(define (pi-product a b)\n",
    "  (define (pi-term x)\n",
    "    (/ (* 2 2 x (+ x 1)) (square (+ x x 1))))\n",
    "  (define (pi-next x)\n",
    "    (+ x 1))\n",
    "  (* 4 (product pi-term a pi-next b)))"
   ]
  },
  {
   "cell_type": "code",
   "execution_count": 9,
   "id": "13a22390",
   "metadata": {},
   "outputs": [
    {
     "name": "stdout",
     "output_type": "stream",
     "text": [
      "3.1493784731686008"
     ]
    }
   ],
   "source": [
    "(display (exact->inexact (pi-product 1 100)))"
   ]
  },
  {
   "cell_type": "markdown",
   "id": "e9dd0983",
   "metadata": {},
   "source": [
    "Another recursive `produce` solution."
   ]
  },
  {
   "cell_type": "code",
   "execution_count": 10,
   "id": "e7172592",
   "metadata": {},
   "outputs": [
    {
     "data": {
      "text/plain": [
       "product-recursive"
      ]
     },
     "execution_count": 10,
     "metadata": {},
     "output_type": "execute_result"
    }
   ],
   "source": [
    "; solution 1.31b\n",
    "(define (product-recursive term a next b)\n",
    "  (if (> a b)\n",
    "      1\n",
    "      (* (term a ) (product-recursive term (next a ) next b))))"
   ]
  },
  {
   "cell_type": "markdown",
   "id": "4f8bdf0c",
   "metadata": {},
   "source": [
    "**Exercse 1.32**\n",
    "\n",
    "*A more general procedure that can decribe both `sum` and `product`.*"
   ]
  },
  {
   "cell_type": "code",
   "execution_count": 1,
   "id": "344fcffc",
   "metadata": {},
   "outputs": [
    {
     "data": {
      "text/plain": [
       "accumulate"
      ]
     },
     "execution_count": 1,
     "metadata": {},
     "output_type": "execute_result"
    }
   ],
   "source": [
    "(define (accumulate combiner null-value term a next b)\n",
    "  (if (> a b) \n",
    "      null-value\n",
    "      (combiner (term a) (accumulate combiner null-value term (next a) next b))))\n",
    "\n",
    "(define (sum term a next b)\n",
    "  (accumulate + 0 term a next b))\n",
    "(define (product term a next b)\n",
    "  (accumulate * 1 term a next b))\n",
    "\n",
    "; iter version\n",
    "(define (accumulate combiner null-value term a next b)\n",
    "  (define (iter a answer)\n",
    "    (if (> a b)\n",
    "        answer\n",
    "        (iter (next a) (combiner (term a) answer))))\n",
    "  (iter a null-value))\n"
   ]
  },
  {
   "cell_type": "markdown",
   "id": "8d02ad03",
   "metadata": {},
   "source": [
    "**Exercse 1.33**\n",
    "\n",
    "*An even more general version of `accumulate`. A filter added.* \n",
    "\n",
    "*Very much like the `Array.prototype.reduce()` and `Array.prototype.filter()` in JavaScript.* "
   ]
  },
  {
   "cell_type": "code",
   "execution_count": 2,
   "id": "8e0c1b4e",
   "metadata": {},
   "outputs": [
    {
     "data": {
      "text/plain": [
       "filtered-accumulate"
      ]
     },
     "execution_count": 2,
     "metadata": {},
     "output_type": "execute_result"
    }
   ],
   "source": [
    "(define (filtered-accumulate combiner null-value term a next b filter)\n",
    "  (define (iter a answer)\n",
    "    (if (> a b)\n",
    "        answer\n",
    "        (if (filter a) (iter (next a) (combiner (term a) answer))\n",
    "            (iter (next a) answer))))\n",
    "  (iter a null-value))"
   ]
  },
  {
   "cell_type": "code",
   "execution_count": 3,
   "id": "11e2db27",
   "metadata": {},
   "outputs": [
    {
     "data": {
      "text/plain": [
       "prime?"
      ]
     },
     "execution_count": 3,
     "metadata": {},
     "output_type": "execute_result"
    }
   ],
   "source": [
    "(define (prime? n)\n",
    "  (define (smallest-divisor n) (find-divisor n 2))\n",
    "  (define (find-divisor n test-divisor)\n",
    "    (cond ((> (square test-divisor) n) n)\n",
    "          ((divides? test-divisor n) test-divisor)\n",
    "          (else (find-divisor n (+ test-divisor 1)))))\n",
    "  (define (divides? a b) (= (remainder b a) 0))\n",
    "    (and (> n 1) (= n (smallest-divisor n))))"
   ]
  },
  {
   "cell_type": "code",
   "execution_count": 4,
   "id": "32b171fe",
   "metadata": {},
   "outputs": [
    {
     "data": {
      "text/plain": [
       "answer-a"
      ]
     },
     "execution_count": 4,
     "metadata": {},
     "output_type": "execute_result"
    }
   ],
   "source": [
    ";solution 1.33a\n",
    "(define (answer-a a b)\n",
    "  (define (inc x) (+ 1 x))\n",
    "  (filtered-accumulate + 0 square a inc b prime?))\n"
   ]
  },
  {
   "cell_type": "code",
   "execution_count": 5,
   "id": "81a3c926",
   "metadata": {},
   "outputs": [
    {
     "data": {
      "text/plain": [
       "answer-b"
      ]
     },
     "execution_count": 5,
     "metadata": {},
     "output_type": "execute_result"
    }
   ],
   "source": [
    ";solution 1.33b\n",
    "(define (answer-b n) \n",
    "  (define (id x) x)\n",
    "  (define (inc x) (+ 1 x))\n",
    "  (define (gcd-filter? x)\n",
    "    (= (gcd x n) 1))\n",
    "  (define (gcd a b)\n",
    "    (if (= b 0)\n",
    "        a \n",
    "        (gcd b (remainder a b))))\n",
    "  (filtered-accumulate * 1 id 1 inc n gcd-filter?))"
   ]
  },
  {
   "cell_type": "code",
   "execution_count": 6,
   "id": "3a4fdb9b",
   "metadata": {},
   "outputs": [
    {
     "data": {
      "text/plain": [
       "38"
      ]
     },
     "execution_count": 6,
     "metadata": {},
     "output_type": "execute_result"
    }
   ],
   "source": [
    ";test\n",
    "(answer-a 1 5) ;38"
   ]
  },
  {
   "cell_type": "code",
   "execution_count": 7,
   "id": "2e5901fd",
   "metadata": {},
   "outputs": [
    {
     "data": {
      "text/plain": [
       "189"
      ]
     },
     "execution_count": 7,
     "metadata": {},
     "output_type": "execute_result"
    }
   ],
   "source": [
    "(answer-b 10) ;189"
   ]
  },
  {
   "cell_type": "code",
   "execution_count": null,
   "id": "9dd434a0",
   "metadata": {},
   "outputs": [],
   "source": []
  }
 ],
 "metadata": {
  "kernelspec": {
   "display_name": "MIT Scheme",
   "language": "mit-scheme",
   "name": "mit-scheme"
  },
  "language_info": {
   "codemirror_mode": "scheme",
   "file_extension": ".scm",
   "mimetype": "application/x-scheme",
   "name": "MIT Scheme",
   "pygments_lexer": "scheme",
   "version": "9.2.1"
  }
 },
 "nbformat": 4,
 "nbformat_minor": 5
}
