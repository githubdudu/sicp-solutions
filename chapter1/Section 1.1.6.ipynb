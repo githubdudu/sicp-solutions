{
 "cells": [
  {
   "cell_type": "markdown",
   "id": "a3b66adf",
   "metadata": {},
   "source": [
    "**Exercise 1.1**\n",
    "\n",
    "Run each in REPL and know result.\n",
    "\n",
    "$\\frac{5 + 4 + (2 − (3 − (6 + \\frac{4}{5})))}{3(6 − 2)(2 − 7)}$"
   ]
  },
  {
   "cell_type": "markdown",
   "id": "104cf748",
   "metadata": {},
   "source": [
    "**Exercise 1.2**"
   ]
  },
  {
   "cell_type": "code",
   "execution_count": 4,
   "id": "31da8845",
   "metadata": {},
   "outputs": [
    {
     "data": {
      "text/plain": [
       "-37/150"
      ]
     },
     "execution_count": 4,
     "metadata": {},
     "output_type": "execute_result"
    }
   ],
   "source": [
    "(/ (+ 5 4 (- 2 (- 3 (+ 6 (/ 4 5))))) \n",
    "   (* 3 (- 6 2) (- 2 7)))"
   ]
  },
  {
   "cell_type": "markdown",
   "id": "191a8e86",
   "metadata": {},
   "source": [
    "**Exercise 1.3**"
   ]
  },
  {
   "cell_type": "code",
   "execution_count": 7,
   "id": "22fcd163",
   "metadata": {},
   "outputs": [
    {
     "data": {
      "text/plain": [
       "two-larger"
      ]
     },
     "execution_count": 7,
     "metadata": {},
     "output_type": "execute_result"
    }
   ],
   "source": [
    "(define (two-larger a b c)\n",
    "        (cond ((and (< a b) (< a c)) (+ (square b) (square c)))\n",
    "              ((and (< b a) (< b c)) (+ (square a) (square c)))\n",
    "              (else (+ (square a) (square b)))))"
   ]
  },
  {
   "cell_type": "code",
   "execution_count": 8,
   "id": "df324b48",
   "metadata": {},
   "outputs": [
    {
     "data": {
      "text/plain": [
       "41"
      ]
     },
     "execution_count": 8,
     "metadata": {},
     "output_type": "execute_result"
    }
   ],
   "source": [
    "(two-larger 3 4 5)"
   ]
  },
  {
   "cell_type": "markdown",
   "id": "d5110361",
   "metadata": {},
   "source": [
    "**Exercise 1.4**\n",
    "\n",
    "If b > 0, a + b; if b <= 0, a - b. So it is a + |b|"
   ]
  },
  {
   "cell_type": "code",
   "execution_count": 11,
   "id": "7002eca2",
   "metadata": {},
   "outputs": [
    {
     "data": {
      "text/plain": [
       "a-plus-abs-b"
      ]
     },
     "execution_count": 11,
     "metadata": {},
     "output_type": "execute_result"
    }
   ],
   "source": [
    "(define (a-plus-abs-b a b)\n",
    "        ((if (> b 0) + -) a b))"
   ]
  },
  {
   "cell_type": "markdown",
   "id": "ee4e4538",
   "metadata": {},
   "source": [
    "**Exercise 1.5**"
   ]
  },
  {
   "cell_type": "code",
   "execution_count": 1,
   "id": "643754eb",
   "metadata": {},
   "outputs": [
    {
     "data": {
      "text/plain": [
       "test"
      ]
     },
     "execution_count": 1,
     "metadata": {},
     "output_type": "execute_result"
    }
   ],
   "source": [
    "(define (p) (p))\n",
    "(define (test x y)\n",
    "    (if (= x 0) 0 y))"
   ]
  },
  {
   "cell_type": "code",
   "execution_count": null,
   "id": "ffb88190",
   "metadata": {},
   "outputs": [],
   "source": [
    "(test 0 (p))"
   ]
  },
  {
   "cell_type": "markdown",
   "id": "e1244da6",
   "metadata": {},
   "source": [
    ";applicative-order \n",
    "\n",
    "    (test 0 (p)) ; eval (p), (p) becomes (p)\n",
    "\n",
    "    (test 0 (p)) \n",
    "\n",
    "    ...\n",
    "\n",
    "    endless loop\n",
    "\n",
    ";normal-order\n",
    "\n",
    "    (test 0 (p))\n",
    "\n",
    "    (if (= 0 0) 0 (p)) ; eval 0\n",
    "\n",
    "    0\n",
    "\n",
    "answer is 0."
   ]
  },
  {
   "cell_type": "code",
   "execution_count": null,
   "id": "17936456",
   "metadata": {},
   "outputs": [],
   "source": []
  }
 ],
 "metadata": {
  "kernelspec": {
   "display_name": "MIT Scheme",
   "language": "mit-scheme",
   "name": "mit-scheme"
  },
  "language_info": {
   "codemirror_mode": "scheme",
   "file_extension": ".scm",
   "mimetype": "application/x-scheme",
   "name": "MIT Scheme",
   "pygments_lexer": "scheme",
   "version": "9.2.1"
  }
 },
 "nbformat": 4,
 "nbformat_minor": 5
}
