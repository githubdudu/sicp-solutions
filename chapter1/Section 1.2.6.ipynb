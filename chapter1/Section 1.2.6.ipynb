{
 "cells": [
  {
   "cell_type": "markdown",
   "id": "6ab077fd",
   "metadata": {},
   "source": [
    "**Exercise 1.21**\n",
    "\n",
    "*Give a try of smallest-division.*\n",
    "\n",
    "\n",
    "`Smallest-divison` at the begining of this section. "
   ]
  },
  {
   "cell_type": "code",
   "execution_count": 2,
   "id": "b694c2c7",
   "metadata": {},
   "outputs": [
    {
     "data": {
      "text/plain": [
       "divides?"
      ]
     },
     "execution_count": 2,
     "metadata": {},
     "output_type": "execute_result"
    }
   ],
   "source": [
    "(define (smallest-divisor n) (find-divisor n 2))\n",
    "(define (find-divisor n test-divisor)\n",
    "(cond ((> (square test-divisor) n) n)\n",
    "      ((divides? test-divisor n) test-divisor)\n",
    "      (else (find-divisor n (+ test-divisor 1)))))\n",
    "(define (divides? a b) (= (remainder b a) 0))"
   ]
  },
  {
   "cell_type": "code",
   "execution_count": 7,
   "id": "b1fc6d0b",
   "metadata": {},
   "outputs": [
    {
     "data": {
      "text/plain": [
       "199"
      ]
     },
     "execution_count": 7,
     "metadata": {},
     "output_type": "execute_result"
    }
   ],
   "source": [
    "(smallest-divisor 199)"
   ]
  },
  {
   "cell_type": "code",
   "execution_count": 8,
   "id": "ac6cd2ca",
   "metadata": {},
   "outputs": [
    {
     "data": {
      "text/plain": [
       "1999"
      ]
     },
     "execution_count": 8,
     "metadata": {},
     "output_type": "execute_result"
    }
   ],
   "source": [
    "(smallest-divisor 1999)"
   ]
  },
  {
   "cell_type": "code",
   "execution_count": 9,
   "id": "9b7eb164",
   "metadata": {},
   "outputs": [
    {
     "data": {
      "text/plain": [
       "7"
      ]
     },
     "execution_count": 9,
     "metadata": {},
     "output_type": "execute_result"
    }
   ],
   "source": [
    "(smallest-divisor 19999)"
   ]
  },
  {
   "cell_type": "markdown",
   "id": "dd264cf0",
   "metadata": {},
   "source": [
    "**Exercise 1.22**\n",
    "\n",
    "*Introduced a print `display` procedure. Introduced a `runtime` procedure. Do the ***Order of Growth*** tests.* \n",
    "\n",
    "Done this before used `time` function at a online Scheme env which `runtime` is not available. Syntax `(time procedure)`.\n",
    "\n",
    "The order of growth $\\sqrt{n}$."
   ]
  },
  {
   "cell_type": "code",
   "execution_count": 2,
   "id": "3eceb34e",
   "metadata": {},
   "outputs": [
    {
     "data": {
      "text/plain": [
       "report-prime"
      ]
     },
     "execution_count": 2,
     "metadata": {},
     "output_type": "execute_result"
    }
   ],
   "source": [
    ";smallest-divisor\n",
    "(define (smallest-divisor n)\n",
    "  (find-divisor n 2))\n",
    "(define (find-divisor n test-divisor)\n",
    "  (cond ((> (square test-divisor) n) n)\n",
    "        ((divides? test-divisor n) test-divisor)\n",
    "        (else (find-divisor n (next test-divisor))))) ;1.23 Change from (+ test-divisor 1) to (next test-divisor) \n",
    "(define (divides? a b)\n",
    "  (= (remainder b a) 0))\n",
    "\n",
    ";prime?\n",
    "(define (prime? n)\n",
    "  (= n (smallest-divisor n)))\n",
    "\n",
    ";next\n",
    "(define (next n)\n",
    "  (if (= 2 n) 3 (+ 2 n)))\n",
    ";;;;;;;;;;;;;;;;;;;;;;;;;;;;\n",
    "(define (timed-prime-test n)\n",
    "  (newline)\n",
    "  (display n)\n",
    "  (start-prime-test n (runtime)))\n",
    "(define (start-prime-test n start-time)\n",
    "  (if (prime? n)\n",
    "      (report-prime (- (runtime) start-time))))\n",
    "(define (report-prime elapsed-time)\n",
    "  (display \" *** \")\n",
    "  (display elapsed-time))"
   ]
  },
  {
   "cell_type": "code",
   "execution_count": 3,
   "id": "48a06861",
   "metadata": {},
   "outputs": [
    {
     "data": {
      "text/plain": [
       "search-for-primes"
      ]
     },
     "execution_count": 3,
     "metadata": {},
     "output_type": "execute_result"
    }
   ],
   "source": [
    ";search-for-primes\n",
    "(define (search-for-primes start count)\n",
    "  (if (> count 0) \n",
    "      (let ((x (if (divides? 2 start)\n",
    "                   (+ start 1)\n",
    "                   start)))\n",
    "        (if (prime? x)\n",
    "            (begin\n",
    "             (timed-prime-test x)\n",
    "             (search-for-primes (+ x 2) (- count 1)))\n",
    "            (search-for-primes (+ x 2) count)))))"
   ]
  },
  {
   "cell_type": "code",
   "execution_count": 7,
   "id": "26b099ac",
   "metadata": {},
   "outputs": [
    {
     "name": "stdout",
     "output_type": "stream",
     "text": [
      "\n",
      "100003 *** 1.0000000000000009e-2\n",
      "100019 *** 0.\n",
      "100043 *** 0."
     ]
    }
   ],
   "source": [
    "(search-for-primes 100000 3)"
   ]
  },
  {
   "cell_type": "markdown",
   "id": "5c451be4",
   "metadata": {},
   "source": [
    "The primes AND runtimes are:\n",
    "\n",
    "|Primes | 1.22 runtime(s) | 1.23 runtime | 1.24 runtime|\n",
    "|-|-|-|-|\n",
    "|1009 |0|0|0.03|\n",
    "|1013 |0 |0|0.03|\n",
    "|1019 |0 |0|0.04|\n",
    "|100003|0|0|0.05|\n",
    "|100019|0.01|0|0.05|\n",
    "|100043|0.01|0|0.05|\n",
    "|100000007|0.03|0.01|0.08|\n",
    "|100000037|0.03|0.02|0.07|\n",
    "|100000039|0.02|0.02|0.07|\n",
    "|100000000003|0.84|0.55|0.12|\n",
    "|100000000019|0.85|0.55|0.11|\n",
    "|100000000057|0.84|0.52|0.11|\n",
    "\n",
    "\n"
   ]
  },
  {
   "cell_type": "markdown",
   "id": "49382dec",
   "metadata": {},
   "source": [
    "**Exercise 1.23**\n",
    "\n",
    "*Although improved the performance, the Order of Growth is the same.$\\sqrt{n}$*\n",
    "\n",
    "Modified `smallest-divison` and a procedure `next` that returns 3 if its input is equal to 2 and otherwise returns its input plus 2. \n",
    "\n",
    "Change from `(+ test-divisor 1)` to `(next test-divisor)` and have a test."
   ]
  },
  {
   "cell_type": "code",
   "execution_count": 7,
   "id": "7cd4cd45",
   "metadata": {},
   "outputs": [
    {
     "data": {
      "text/plain": [
       "next"
      ]
     },
     "execution_count": 7,
     "metadata": {},
     "output_type": "execute_result"
    }
   ],
   "source": [
    ";next\n",
    "(define (next n)\n",
    "  (if (= 2 n) 3 (+ 2 n)))"
   ]
  },
  {
   "cell_type": "markdown",
   "id": "f1a1fcfb",
   "metadata": {},
   "source": [
    "See result in above table. Improved some. According to the solutions website, it improved 2/3."
   ]
  },
  {
   "cell_type": "markdown",
   "id": "66e57cae",
   "metadata": {},
   "source": [
    "**Exercise 1.24**\n",
    "\n",
    "*The Fermat method: Order of Growth* ***log(n).***\n",
    "\n",
    "The result depends on the times each Fermat method runs the random test. If the times is small, the results would be too small to compare.Set `times` to 2000."
   ]
  },
  {
   "cell_type": "code",
   "execution_count": 1,
   "id": "a1ea2be3",
   "metadata": {},
   "outputs": [
    {
     "data": {
      "text/plain": [
       "fast-prime?"
      ]
     },
     "execution_count": 1,
     "metadata": {},
     "output_type": "execute_result"
    }
   ],
   "source": [
    ";fast-prime?\n",
    "(define (expmod base exp m)\n",
    "  (cond ((= exp 0) 1)\n",
    "        ((even? exp)\n",
    "         (remainder (square (expmod base (/ exp 2) m))\n",
    "                    m))\n",
    "        (else\n",
    "         (remainder (* base (expmod base (- exp 1) m))\n",
    "                    m))))        \n",
    "(define (fermat-test n)\n",
    "  (define (try-it a)\n",
    "    (= (expmod a n n) a))\n",
    "  (try-it (+ 1 (random (- n 1)))))\n",
    "(define (fast-prime? n times)\n",
    "  (cond ((= times 0) true)\n",
    "        ((fermat-test n) (fast-prime? n (- times 1)))\n",
    "        (else false)))"
   ]
  },
  {
   "cell_type": "code",
   "execution_count": 2,
   "id": "9ebd368f",
   "metadata": {},
   "outputs": [
    {
     "data": {
      "text/plain": [
       "report-prime"
      ]
     },
     "execution_count": 2,
     "metadata": {},
     "output_type": "execute_result"
    }
   ],
   "source": [
    ";timed-prime-test\n",
    "(define (timed-prime-test n)\n",
    "  (newline)\n",
    "  (display n)\n",
    "  (start-prime-test n (runtime)))\n",
    "(define (start-prime-test n start-time)\n",
    "  (if (fast-prime? n 2000)\n",
    "      (report-prime (- (runtime) start-time))))\n",
    "(define (report-prime elapsed-time)\n",
    "  (display \" *** \")\n",
    "  (display elapsed-time))"
   ]
  },
  {
   "cell_type": "code",
   "execution_count": 3,
   "id": "aec6ac25",
   "metadata": {},
   "outputs": [
    {
     "data": {
      "text/plain": [
       "divides?"
      ]
     },
     "execution_count": 3,
     "metadata": {},
     "output_type": "execute_result"
    }
   ],
   "source": [
    ";search-for-primes\n",
    "(define (search-for-primes start count)\n",
    "  (if (> count 0) \n",
    "      (let ((x (if (divides? 2 start)\n",
    "                   (+ start 1)\n",
    "                   start)))\n",
    "        (if (fast-prime? x 500)\n",
    "            (begin\n",
    "             (timed-prime-test x)\n",
    "             (search-for-primes (+ x 2) (- count 1)))\n",
    "            (search-for-primes (+ x 2) count)))))\n",
    "(define (divides? a b)\n",
    "  (= (remainder b a) 0))"
   ]
  },
  {
   "cell_type": "code",
   "execution_count": 5,
   "id": "3ca32330",
   "metadata": {},
   "outputs": [
    {
     "name": "stdout",
     "output_type": "stream",
     "text": [
      "\n",
      "1009 *** 2.9999999999999916e-2\n",
      "1013 *** 4.0000000000000036e-2\n",
      "1019 *** 4.0000000000000036e-2"
     ]
    }
   ],
   "source": [
    "(search-for-primes 1000 3) "
   ]
  },
  {
   "cell_type": "markdown",
   "id": "8fa322fd",
   "metadata": {},
   "source": [
    "**Exercise 1.25**\n",
    "\n",
    "*A good example for calculate `mod` related problem.*\n",
    "\n",
    "She is wrong. New expmod runs much slower. To compute $999999^{1000000}\\mod1000000$, original one runs 0s, new expmod runs in 70 seconds.\n",
    "\n",
    "Why?\n",
    "\n",
    "In original `expmod`, operands are guaranteed to be smaller than mod, hence the product procedure will be faster.\n",
    "\n",
    "In Alyssa version, operands will become extremely huge, and larger and larger in the process, so the product procedure is significantly slower.\n",
    "\n",
    "For example:\n",
    "\n",
    "```\n",
    "(define (square m)  \n",
    "   (display \"square \")(display m)(newline) \n",
    "   (* m m)) \n",
    "  \n",
    " => (expmod 5 101 101) \n",
    " square 5 \n",
    " square 24 \n",
    " square 71 \n",
    " square 92 \n",
    " square 1 \n",
    " square 1 \n",
    " 5 \n",
    " => (remainder (fast-expt 5 101) 101) \n",
    " square 5 \n",
    " square 25 \n",
    " square 625 \n",
    " square 390625 \n",
    " square 152587890625 \n",
    " square 23283064365386962890625 \n",
    " 5 \n",
    "```"
   ]
  },
  {
   "cell_type": "code",
   "execution_count": 1,
   "id": "d702f00d",
   "metadata": {},
   "outputs": [
    {
     "data": {
      "text/plain": [
       "report-elapsed-time"
      ]
     },
     "execution_count": 1,
     "metadata": {},
     "output_type": "execute_result"
    }
   ],
   "source": [
    "(define (expmod-modified base exp m)\n",
    "  (remainder (fast-expt base exp) m))\n",
    "(define (fast-expt b n)\n",
    "  (cond ((= n 0) 1)\n",
    "        ((even? n) (square (fast-expt b (/ n 2))))\n",
    "        (else (* b (fast-expt b (- n 1))))))\n",
    "(define (even? n)\n",
    "  (= (remainder n 2) 0))\n",
    "\n",
    "\n",
    "(define (expmod base exp m)\n",
    "(cond ((= exp 0) 1)\n",
    "      ((even? exp)\n",
    "        (remainder (square (expmod base (/ exp 2) m))\n",
    "                  m))\n",
    "      (else\n",
    "        (remainder (* base (expmod base (- exp 1) m))\n",
    "                  m))))    \n",
    "(define (report-elapsed-time start-time) \n",
    "  (display \" *** \")\n",
    "  (display (- (runtime) start-time))\n",
    "  (newline)) "
   ]
  },
  {
   "cell_type": "markdown",
   "id": "46c120bc",
   "metadata": {},
   "source": [
    "Test the speed "
   ]
  },
  {
   "cell_type": "code",
   "execution_count": 2,
   "id": "987b74ac",
   "metadata": {},
   "outputs": [
    {
     "name": "stdout",
     "output_type": "stream",
     "text": [
      " *** 0.\n"
     ]
    }
   ],
   "source": [
    "(define start-time (runtime)) \n",
    "(expmod 999999 1000000 1000000) \n",
    "(report-elapsed-time start-time)"
   ]
  },
  {
   "cell_type": "code",
   "execution_count": 3,
   "id": "7ab0737e",
   "metadata": {},
   "outputs": [
    {
     "name": "stdout",
     "output_type": "stream",
     "text": [
      " *** 71.05\n"
     ]
    }
   ],
   "source": [
    "(define start-time (runtime)) \n",
    "(expmod-modified 999999 1000000 1000000) \n",
    "(report-elapsed-time start-time)\n",
    "; 70.7"
   ]
  },
  {
   "cell_type": "markdown",
   "id": "048cce4d",
   "metadata": {},
   "source": [
    "**Exercise 1.26**\n",
    "\n",
    "*Implies that the slightest changes in code may lead to different time complexity.*\n",
    "\n",
    "We know that there are applicative order and normal order. For this procedure,it is applicative order, so in the Louis's code, the operand of the `*`, will be evaluated twice."
   ]
  },
  {
   "cell_type": "code",
   "execution_count": null,
   "id": "a79ae433",
   "metadata": {},
   "outputs": [],
   "source": [
    "(define (expmod-new base exp m)\n",
    "  (cond ((= exp 0) 1)\n",
    "        ((even? exp)\n",
    "         (remainder (* (expmod base (/ exp 2) m)\n",
    "                       (expmod base (/ exp 2) m))\n",
    "                    m))\n",
    "        (else\n",
    "         (remainder (* base (expmod base (- exp 1) m))\n",
    "                    m))))\n",
    "\n",
    "(define (expmod base exp m)\n",
    "(cond ((= exp 0) 1)\n",
    "      ((even? exp)\n",
    "        (remainder (square (expmod base (/ exp 2) m))\n",
    "                  m))\n",
    "      (else\n",
    "        (remainder (* base (expmod base (- exp 1) m))\n",
    "                  m))))                        "
   ]
  },
  {
   "cell_type": "markdown",
   "id": "e48b669a",
   "metadata": {},
   "source": [
    "**Exercise 1.27**\n",
    "\n",
    "***Considering\n",
    "an algorithm to be inadequate for the first reason but not for the second illustrates the\n",
    "difference between mathematics and engineering.***\n",
    "\n",
    "*In testing primality of very large numbers chosen at random, the chance of stumbling\n",
    "upon a value that fools the Fermat test is less than the chance that cosmic radiation will\n",
    "cause the computer to make an error in carrying out a “correct” algorithm.*"
   ]
  },
  {
   "cell_type": "code",
   "execution_count": 3,
   "id": "d921f07f",
   "metadata": {},
   "outputs": [
    {
     "data": {
      "text/plain": [
       "carmichael?"
      ]
     },
     "execution_count": 3,
     "metadata": {},
     "output_type": "execute_result"
    }
   ],
   "source": [
    "(define (expmod base exp m)\n",
    "  (cond ((= exp 0) 1)\n",
    "        ((even? exp)\n",
    "         (remainder (square (expmod base (/ exp 2) m))\n",
    "                    m))\n",
    "        (else\n",
    "         (remainder (* base (expmod base (- exp 1) m))\n",
    "                    m))))        \n",
    "\n",
    "\n",
    "(define (carmichael? n a)\n",
    "  (cond ((>= a n) true)\n",
    "        ((= (expmod a n n) a) (carmichael? n (+ a 1)))\n",
    "        (else false)))"
   ]
  },
  {
   "cell_type": "markdown",
   "id": "02771e88",
   "metadata": {},
   "source": [
    "Carmichael numbers : The smallest few are 561, 1105, 1729, 2465, 2821, and 6601."
   ]
  },
  {
   "cell_type": "code",
   "execution_count": 4,
   "id": "7295b4fc",
   "metadata": {},
   "outputs": [
    {
     "data": {
      "text/plain": [
       "#t"
      ]
     },
     "execution_count": 4,
     "metadata": {},
     "output_type": "execute_result"
    }
   ],
   "source": [
    "(carmichael? 561 1)"
   ]
  },
  {
   "cell_type": "code",
   "execution_count": 5,
   "id": "f210c33d",
   "metadata": {},
   "outputs": [
    {
     "data": {
      "text/plain": [
       "#f"
      ]
     },
     "execution_count": 5,
     "metadata": {},
     "output_type": "execute_result"
    }
   ],
   "source": [
    "(carmichael? 560 1)"
   ]
  },
  {
   "cell_type": "code",
   "execution_count": 6,
   "id": "3ac94629",
   "metadata": {},
   "outputs": [
    {
     "data": {
      "text/plain": [
       "#t"
      ]
     },
     "execution_count": 6,
     "metadata": {},
     "output_type": "execute_result"
    }
   ],
   "source": [
    "(carmichael? 1105 1)"
   ]
  },
  {
   "cell_type": "markdown",
   "id": "6495c81e",
   "metadata": {},
   "source": [
    "**Exercise 1.28**"
   ]
  },
  {
   "cell_type": "markdown",
   "id": "9395c237",
   "metadata": {},
   "source": [
    "***The Miller-Rabin test*** *that cannot\n",
    "be fooled like the Fermat test.* "
   ]
  },
  {
   "cell_type": "code",
   "execution_count": 5,
   "id": "2e2e47fb",
   "metadata": {},
   "outputs": [
    {
     "data": {
      "text/plain": [
       "fast-prime-count?"
      ]
     },
     "execution_count": 5,
     "metadata": {},
     "output_type": "execute_result"
    }
   ],
   "source": [
    "(define (expmod base exp m)\n",
    "  (cond ((= exp 0) 1)\n",
    "        ((even? exp)\n",
    "         (remainder (check-square (expmod base (/ exp 2) m) m)\n",
    "                    m))\n",
    "        (else\n",
    "         (remainder (* base (expmod base (- exp 1) m))\n",
    "                    m))))        \n",
    "; a ^ (n - 1) modulo n == 1\n",
    "; a ^ n modulo n == a;\n",
    ";\"nontrivial square root of 1 modulo n\" : a number not equal to 1 or n - 1 whose square is equal to 1 modulo n\n",
    ";   Hint: One convenient way to make expmod signal is to have it return 0.\n",
    "(define (check-square a n)\n",
    "  (define sqr (square a))\n",
    "  (if (or (= a 1) (= a (- n 1)))\n",
    "      sqr\n",
    "      (if (= (remainder sqr n) 1)\n",
    "          0\n",
    "          sqr)))\n",
    "\n",
    "(define (miller-rabin-test n)\n",
    "  (define (try-it a)\n",
    "    (= (expmod a (- n 1) n) 1))\n",
    "  ;(try-it (+ 1 (random (- n 1)))))\n",
    "(try-it 4))\n",
    "(define (fast-prime? n times)\n",
    "  (cond ((= times 0) true)\n",
    "        ((miller-rabin-test n) (fast-prime? n (- times 1)))\n",
    "        (else false)))\n",
    "\n",
    "(define (fast-prime-count? n times false-count)\n",
    "  (cond ((= times 0) false-count)\n",
    "        ((miller-rabin-test n) (fast-prime-count? n (- times 1) false-count ))\n",
    "        ((fast-prime-count? n (- times 1) (+ false-count 1)))))"
   ]
  },
  {
   "cell_type": "markdown",
   "id": "37f1112a",
   "metadata": {},
   "source": [
    "Try to analysis: a Miller–Rabin witness. (It is also possible to prove that if n is an odd number that is not prime, then, for at least half the numbers a < n, computing $a^{n - 1}$ in this way will reveal a nontrivial square root of 1 modulo n.) \n",
    "\n",
    "There is discuss about the wrong claim of miller-rabin witness in the book.https://stackoverflow.com/a/59834347\n",
    "\n",
    "This one https://stackoverflow.com/a/74540926 explains well:\n",
    "From [Cormen et al. 2009], p. 971:\n",
    "\n",
    "Incorrect claim in SICP:\n",
    "\n",
    "It is also possible to prove that if n is an odd number that is not prime, then, for at least half the numbers a < n, computing a^(n-1) in this way will reveal a nontrivial square root of 1 modulo n.\n",
    "\n",
    "Corrected claim (equivalent to theorem 31.38 in [Cormen et al. 2009]):\n",
    "\n",
    "It is also possible to prove that if n is an odd number that is not prime, then, for at least half the numbers a < n, computing a^(n-1) in this way will reveal a nontrivial square root of 1 modulo n **or a^(n-1) will not be equal to 1 module n.**\n"
   ]
  },
  {
   "cell_type": "markdown",
   "id": "8b766f30",
   "metadata": {},
   "source": [
    "Test if n=21 is prime. The nontrivial square root of 1 modulo n only reveals in `8` and `13`.\n",
    "\n",
    "|a| operand1 $a^{2}$|$a^{2\\times2}$mod 21| operand2 $a^{5}$| $a^{5\\times2}$mod 21| operand3 $a^{10}$| $a^{10\\times2}$mod 21|\n",
    "|-|-     |-      | -        | -| -| -|\n",
    "| 2 | 4|16|11|16|16|4 |\n",
    "| 3 | 9|18|12|18|18|9 |\n",
    "| 4 | 16|4|16|4|4|16 |\n",
    "| 5 | 4|16|17|16|16|4 |\n",
    "| 6 | 15|15|6|15|15|15 |\n",
    "| 8 | 1|1|8|1|1|1 |\n",
    "| 9 | 18|9|18|9|9|18 |\n",
    "| 10 | 16|4|19|4|4|16 |\n",
    "| 11 | 16|4|2|4|4|16 |\n",
    "| 12 | 18|9|3|9|9|18 |\n",
    "| 13 | 1|1|13|1|1|1 |\n",
    "| 14 | 7|7|14|7|7|7 |\n",
    "| 15 | 15|15|15|15|15|15 |\n",
    "| 16 | 4|16|4|16|16|4 |\n",
    "| 17 | 16|4|5|4|4|16 |\n",
    "| 18 | 9|18|9|18|18|9 |\n",
    "| 19 | 4|16|10|16|16|4 |\n",
    "| 20 | 1|1|20|1|1|1 |\n"
   ]
  },
  {
   "cell_type": "code",
   "execution_count": 9,
   "id": "a10c9b4a",
   "metadata": {},
   "outputs": [
    {
     "data": {
      "text/plain": [
       "6"
      ]
     },
     "execution_count": 9,
     "metadata": {},
     "output_type": "execute_result"
    }
   ],
   "source": [
    "(expmod 6 15 14)"
   ]
  },
  {
   "cell_type": "code",
   "execution_count": 6,
   "id": "72c79f9d",
   "metadata": {},
   "outputs": [
    {
     "data": {
      "text/plain": [
       "#t"
      ]
     },
     "execution_count": 6,
     "metadata": {},
     "output_type": "execute_result"
    }
   ],
   "source": [
    "(miller-rabin-test 13)"
   ]
  },
  {
   "cell_type": "code",
   "execution_count": 10,
   "id": "669333de",
   "metadata": {},
   "outputs": [
    {
     "name": "stdout",
     "output_type": "stream",
     "text": [
      "#f#f#f#t"
     ]
    }
   ],
   "source": [
    "(display (fast-prime? 561 10)) ;Carmichael numbers\n",
    "(display (fast-prime? 1105 10)) ;Carmichael numbers\n",
    "(display (fast-prime? 1729 10)) ;Carmichael numbers\n",
    "(display (fast-prime? 1009 100)) ; prime"
   ]
  },
  {
   "cell_type": "code",
   "execution_count": null,
   "id": "3ac4b3c0",
   "metadata": {},
   "outputs": [],
   "source": []
  }
 ],
 "metadata": {
  "kernelspec": {
   "display_name": "MIT Scheme",
   "language": "mit-scheme",
   "name": "mit-scheme"
  },
  "language_info": {
   "codemirror_mode": "scheme",
   "file_extension": ".scm",
   "mimetype": "application/x-scheme",
   "name": "MIT Scheme",
   "pygments_lexer": "scheme",
   "version": "9.2.1"
  }
 },
 "nbformat": 4,
 "nbformat_minor": 5
}
