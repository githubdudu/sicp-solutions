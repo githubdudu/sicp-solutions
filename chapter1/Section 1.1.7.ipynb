{
 "cells": [
  {
   "cell_type": "markdown",
   "id": "c1838357",
   "metadata": {},
   "source": [
    "**Exercise 1.6.** \n",
    "\n",
    "`Cond` is a special procedure when evaluate. It will not evaluate all the expressions.\n",
    "In `new-if`, all the expressions as arguments will be evaluated."
   ]
  },
  {
   "cell_type": "markdown",
   "id": "bee3828e",
   "metadata": {},
   "source": [
    "**Exercise 1.7.**\n",
    "\n",
    "1. For very small numbers\n",
    "\n",
    "Let’s consider the square root of 0.0001 (answer is 0.01)\n",
    "\n",
    "Guess    Square                 abs\n",
    "\n",
    "0.02       0.0004               0.0003  < 0.001\n",
    "\n",
    "0.0108   0.00011664       0.00001664  < 0.001\n",
    "\n",
    "We can see that 0.02 is a bad answer but it will pass the good-enough test.\n",
    "\n",
    "2. For large numbers\n",
    "\n",
    "If the program run with limited precision, the guess would never reach the tolerance. Because there is no digit after the decimal, so the guess can not adjust or change in small range."
   ]
  },
  {
   "cell_type": "code",
   "execution_count": 2,
   "id": "8a955305",
   "metadata": {},
   "outputs": [
    {
     "data": {
      "text/plain": [
       "fraction-change"
      ]
     },
     "execution_count": 2,
     "metadata": {},
     "output_type": "execute_result"
    }
   ],
   "source": [
    "(define (sqrt-iter guess last-guess x)\n",
    "  (if (good-enough? guess last-guess x)\n",
    "      guess\n",
    "      (sqrt-iter (improve guess x)\n",
    "                 guess\n",
    "                 x)))\n",
    "\n",
    "(define (improve guess x)\n",
    "  (average guess (/ x guess)))\n",
    "\n",
    "(define (average x y)\n",
    "  (/ (+ x y) 2))\n",
    "\n",
    "(define (good-enough? guess last-guess x)\n",
    "  (< (fraction-change guess last-guess) 0.001))\n",
    "\n",
    "(define (fraction-change a b)\n",
    "        (/ (abs (- a b)) b)\n",
    ")"
   ]
  },
  {
   "cell_type": "code",
   "execution_count": 3,
   "id": "33ca764b",
   "metadata": {},
   "outputs": [
    {
     "data": {
      "text/plain": [
       "sqrt"
      ]
     },
     "execution_count": 3,
     "metadata": {},
     "output_type": "execute_result"
    }
   ],
   "source": [
    ";Start\n",
    "(define (sqrt x)\n",
    "  (sqrt-iter 1.0 x x))"
   ]
  },
  {
   "cell_type": "markdown",
   "id": "322f0e20",
   "metadata": {},
   "source": [
    "**Exercise 1.8.**\n",
    "\n",
    "((x / y^2) + 2y) / 3\n",
    "\n",
    "Replace procedure `improve` as:"
   ]
  },
  {
   "cell_type": "code",
   "execution_count": 5,
   "id": "5870c5de",
   "metadata": {},
   "outputs": [
    {
     "data": {
      "text/plain": [
       "improve"
      ]
     },
     "execution_count": 5,
     "metadata": {},
     "output_type": "execute_result"
    }
   ],
   "source": [
    "(define (improve guess x)\n",
    "  (/ (+ (/ x (square y)) (* 2 y)) 3))"
   ]
  },
  {
   "cell_type": "code",
   "execution_count": null,
   "id": "517f7d8d",
   "metadata": {},
   "outputs": [],
   "source": [
    "```"
   ]
  }
 ],
 "metadata": {
  "kernelspec": {
   "display_name": "MIT Scheme",
   "language": "mit-scheme",
   "name": "mit-scheme"
  },
  "language_info": {
   "codemirror_mode": "scheme",
   "file_extension": ".scm",
   "mimetype": "application/x-scheme",
   "name": "MIT Scheme",
   "pygments_lexer": "scheme",
   "version": "9.2.1"
  }
 },
 "nbformat": 4,
 "nbformat_minor": 5
}
