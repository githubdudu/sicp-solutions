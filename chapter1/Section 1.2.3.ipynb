{
 "cells": [
  {
   "cell_type": "markdown",
   "id": "e000807f",
   "metadata": {},
   "source": [
    "**Exercise 1.14.**\n",
    "\n",
    "```scheme\n",
    "11\n",
    "5 + 6 | 1 + 10\n",
    "5 + 5 + 1 | 5 + 1 + 5 | 1 + 1 + 9\n",
    "5 + 5 + 1 | 5 + 1 + 1+1+1+1+1+1 | 1 + 1+1+1+1+1+1+1+1+1+1\n",
    "Θ(a^n) \n",
    "```\n",
    "\n",
    "**Exercise 1.15.**\n",
    "\n",
    "```scheme\n",
    "(sine 12.15)\n",
    "(sine (p 4.05))\n",
    "(sine (p (p 1.35)))\n",
    "(Sine (p (p (p 0.45))))\n",
    "(Sine (p (p (p (p 0.15)))))\n",
    "(Sine (p (p (p (p (p 0.05))))))\n",
    "; Θ(log(a)) \n",
    "```"
   ]
  }
 ],
 "metadata": {
  "kernelspec": {
   "display_name": "MIT Scheme",
   "language": "mit-scheme",
   "name": "mit-scheme"
  },
  "language_info": {
   "codemirror_mode": "scheme",
   "file_extension": ".scm",
   "mimetype": "application/x-scheme",
   "name": "MIT Scheme",
   "pygments_lexer": "scheme",
   "version": "9.2.1"
  }
 },
 "nbformat": 4,
 "nbformat_minor": 5
}
