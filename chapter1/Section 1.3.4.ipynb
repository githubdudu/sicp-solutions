{
 "cells": [
  {
   "cell_type": "markdown",
   "metadata": {},
   "source": [
    "## Section 1.3.4\n",
    "**Utils:** For reuse in the exercises."
   ]
  },
  {
   "cell_type": "code",
   "execution_count": 1,
   "metadata": {
    "vscode": {
     "languageId": "scheme"
    }
   },
   "outputs": [
    {
     "data": {
      "text/plain": [
       "newtons-method"
      ]
     },
     "execution_count": 1,
     "metadata": {},
     "output_type": "execute_result"
    }
   ],
   "source": [
    "(define (prime? n)\n",
    "  (define (smallest-divisor n) (find-divisor n 2))\n",
    "  (define (find-divisor n test-divisor)\n",
    "    (cond ((> (square test-divisor) n) n)\n",
    "          ((divides? test-divisor n) test-divisor)\n",
    "          (else (find-divisor n (+ test-divisor 1)))))\n",
    "  (define (divides? a b) (= (remainder b a) 0))\n",
    "    (and (> n 1) (= n (smallest-divisor n))))\n",
    "\n",
    "(define (average x y)\n",
    "  (/ (+ x y) 2))\n",
    "\n",
    "(define (deriv g)\n",
    "  (lambda (x) (/ (- (g (+ x dx)) (g x)) dx)))\n",
    "(define dx 0.00001)\n",
    "\n",
    "(define (newtons-method g guess)\n",
    "  (define (newton-transform g)\n",
    "    (lambda (x) (- x (/ (g x) ((deriv g) x)))))\n",
    "  (fixed-point (newton-transform g) guess))"
   ]
  },
  {
   "cell_type": "code",
   "execution_count": 2,
   "metadata": {
    "vscode": {
     "languageId": "scheme"
    }
   },
   "outputs": [
    {
     "data": {
      "text/plain": [
       "fixed-point"
      ]
     },
     "execution_count": 2,
     "metadata": {},
     "output_type": "execute_result"
    }
   ],
   "source": [
    "(define (fixed-point f first-guess)\n",
    "  (define tolerance 0.00001)\n",
    "  (define (close-enough? v1 v2)\n",
    "    (< (abs (- v1 v2))\n",
    "       tolerance))\n",
    "  (define (try guess)\n",
    "    (let ((next (f guess)))\n",
    "      (if (close-enough? guess next)\n",
    "          next\n",
    "      (try next))))\n",
    "  (try first-guess))\n",
    "; for testing\n",
    "; (define (sqrt x)\n",
    ";   (newtons-method\n",
    ";   (lambda (y) (- (square y) x)) 1.0))"
   ]
  },
  {
   "cell_type": "markdown",
   "metadata": {},
   "source": [
    "**Exercise 1.40**\n",
    "\n",
    "*A exercise to make sure you understand the concept of procedure as returned value and how to do that.*\n",
    "\n",
    "The `newtons-method`takes a procedure as arguments. So `cubic` should return a procedure."
   ]
  },
  {
   "cell_type": "code",
   "execution_count": 3,
   "metadata": {
    "vscode": {
     "languageId": "scheme"
    }
   },
   "outputs": [
    {
     "data": {
      "text/plain": [
       "-1.2756822036498454"
      ]
     },
     "execution_count": 3,
     "metadata": {},
     "output_type": "execute_result"
    }
   ],
   "source": [
    "(define (cubic a b c) ; take a,b,c and return a procedure\n",
    "  (lambda (x) (+ (* x x x) (* a x x) (* b x) c)))\n",
    "\n",
    "(newtons-method (cubic 1 2 3) 1)"
   ]
  },
  {
   "cell_type": "markdown",
   "metadata": {},
   "source": [
    "**Exercise 1.41**\n",
    "\n",
    "*Help you to understand a procedure which take procedure as arguments and return arguments.*\n",
    "\n",
    "(double double) becomes (double (double g)).\n",
    "\n",
    "(double (double double)) becomse (double (double (double (double g)))).\n",
    "\n",
    "So the inc would be 16 times."
   ]
  },
  {
   "cell_type": "code",
   "execution_count": 4,
   "metadata": {
    "vscode": {
     "languageId": "scheme"
    }
   },
   "outputs": [
    {
     "data": {
      "text/plain": [
       "21"
      ]
     },
     "execution_count": 4,
     "metadata": {},
     "output_type": "execute_result"
    }
   ],
   "source": [
    "(define (double f) (lambda (x) (f (f x))))\n",
    "(define (inc x) (+ 1 x))\n",
    "(((double (double double)) inc) 5) ;21"
   ]
  },
  {
   "cell_type": "markdown",
   "metadata": {},
   "source": [
    "**Exercise 1.42**\n",
    "\n",
    "*Help you understand how to combine two procedures.*\n",
    "\n",
    "Functional programminig."
   ]
  },
  {
   "cell_type": "code",
   "execution_count": 7,
   "metadata": {
    "vscode": {
     "languageId": "scheme"
    }
   },
   "outputs": [
    {
     "data": {
      "text/plain": [
       "compose"
      ]
     },
     "execution_count": 7,
     "metadata": {},
     "output_type": "execute_result"
    }
   ],
   "source": [
    "(define (compose f g)\n",
    "  (lambda (x) (f (g x))))"
   ]
  },
  {
   "cell_type": "code",
   "execution_count": 6,
   "metadata": {
    "vscode": {
     "languageId": "scheme"
    }
   },
   "outputs": [
    {
     "data": {
      "text/plain": [
       "49"
      ]
     },
     "execution_count": 6,
     "metadata": {},
     "output_type": "execute_result"
    }
   ],
   "source": [
    "((compose square inc) 6) ;49"
   ]
  },
  {
   "cell_type": "markdown",
   "metadata": {},
   "source": [
    "**Exercise 1.43**\n",
    "\n",
    "*Combine multiple same procedures as a new procedure.*\n",
    "\n",
    "Use the `compose` from 1.42 would be convenient and it's like a linear version. Use the `double` from 1.41 too will make the procedure more logarithm."
   ]
  },
  {
   "cell_type": "code",
   "execution_count": 7,
   "metadata": {
    "vscode": {
     "languageId": "scheme"
    }
   },
   "outputs": [
    {
     "data": {
      "text/plain": [
       "repeated"
      ]
     },
     "execution_count": 7,
     "metadata": {},
     "output_type": "execute_result"
    }
   ],
   "source": [
    "(define (repeated f n)\n",
    "  (define (iter n f-prev)\n",
    "    (if (= n 0)\n",
    "        f-prev\n",
    "        (iter (- n 1) (compose f f-prev))))\n",
    "  (iter n (lambda (x) x)))"
   ]
  },
  {
   "cell_type": "code",
   "execution_count": 8,
   "metadata": {
    "vscode": {
     "languageId": "scheme"
    }
   },
   "outputs": [
    {
     "data": {
      "text/plain": [
       "625"
      ]
     },
     "execution_count": 8,
     "metadata": {},
     "output_type": "execute_result"
    }
   ],
   "source": [
    "((repeated square 2) 5) ;625"
   ]
  },
  {
   "cell_type": "markdown",
   "metadata": {},
   "source": [
    "**Exercise 1.44**\n",
    "\n",
    "*Example of using 1.43*\n"
   ]
  },
  {
   "cell_type": "code",
   "execution_count": 9,
   "metadata": {
    "vscode": {
     "languageId": "scheme"
    }
   },
   "outputs": [
    {
     "data": {
      "text/plain": [
       "#[compound-procedure 12]"
      ]
     },
     "execution_count": 9,
     "metadata": {},
     "output_type": "execute_result"
    }
   ],
   "source": [
    "(define (smooth f)\n",
    "  (define dx 0.00001)\n",
    "  (lambda (x) (/ (+ (f (- x dx)) (f x) (f (+ x dx))) 3)))\n",
    "(lambda (x n) ((repeated smooth n) x))"
   ]
  },
  {
   "cell_type": "markdown",
   "metadata": {},
   "source": [
    "**Exercise 1.45**\n",
    "\n",
    "*From the 1.41 to 1.44, finally, we are going to implement all these together. \n",
    "Generalize the \"fix-point\" search method and to know about the limit of fix-point that the g(x) needs to converge.*\n",
    "\n",
    "We all compute this by `newtons-method` as reference.\n",
    "\n",
    "From analysis algebra we know that the times `t` to do `average-damp`, should be `2 * t > n`.\n",
    "\n",
    "Details are explained in notion notes."
   ]
  },
  {
   "cell_type": "code",
   "execution_count": 10,
   "metadata": {
    "vscode": {
     "languageId": "mit scheme"
    }
   },
   "outputs": [
    {
     "name": "stdout",
     "output_type": "stream",
     "text": [
      "2.0000000000002385\n",
      "2.000000000036784\n",
      "2.0000000000151514\n"
     ]
    }
   ],
   "source": [
    "(define (sqrt x)\n",
    "  (newtons-method\n",
    "    (lambda (y) (- (square y) x)) 1.0))\n",
    "(define (cubeRt x)\n",
    "  (newtons-method\n",
    "    (lambda (y) (- (cube y) x)) 1.0))\n",
    "(define (fourthRt x)\n",
    "  (newtons-method\n",
    "    (lambda (y) (- (expt y 4) x)) 1.0))\n",
    "(display (sqrt 4))(newline)\n",
    "(display (cubeRt 8))(newline)\n",
    "(display (fourthRt 16))(newline)"
   ]
  },
  {
   "cell_type": "code",
   "execution_count": 5,
   "metadata": {
    "vscode": {
     "languageId": "mit scheme"
    }
   },
   "outputs": [
    {
     "name": "stdout",
     "output_type": "stream",
     "text": [
      "2.000000000000002\n",
      "1.9999981824788517\n",
      "2.0000000000021965\n"
     ]
    }
   ],
   "source": [
    "(define (sqrt x)\n",
    "  (fixed-point ((repeated average-damp 1) (lambda (y) (/ x y))) 1.0))\n",
    "(define (cubeRt x)\n",
    "  (fixed-point ((repeated average-damp 1) (lambda (y) (/ x (square y)))) 1.0))\n",
    "(define (fourthRt x)\n",
    "  (fixed-point ((repeated average-damp 2) (lambda (y) (/ x (cube y)))) 1.0))\n",
    "\n",
    "(display (sqrt 4))(newline)\n",
    "(display (cubeRt 8))(newline)\n",
    "(display (fourthRt 16))(newline)"
   ]
  },
  {
   "cell_type": "code",
   "execution_count": 4,
   "metadata": {},
   "outputs": [
    {
     "data": {
      "text/plain": [
       "fixed-point"
      ]
     },
     "execution_count": 4,
     "metadata": {},
     "output_type": "execute_result"
    }
   ],
   "source": [
    ";move this block up and down for using it conveniently\n",
    "(define (average-damp f)\n",
    "  (lambda (x) (average x (f x))))\n",
    "(define (average x y)\n",
    "  (/ (+ x y) 2))\n",
    "(define (repeated f n)\n",
    "  (define (iter n f-prev)\n",
    "    (if (= n 0)\n",
    "        f-prev\n",
    "        (iter (- n 1) (compose f f-prev))))\n",
    "  (iter n (lambda (x) x)))\n",
    "(define (fixed-point f first-guess)\n",
    "  (define tolerance 0.00001)\n",
    "  (define (close-enough? v1 v2)\n",
    "    (< (abs (- v1 v2))\n",
    "       tolerance))\n",
    "  (define (try guess)\n",
    "    (let ((next (f guess)))\n",
    "      (if (close-enough? guess next)\n",
    "          next\n",
    "      (try next))))\n",
    "  (try first-guess))"
   ]
  },
  {
   "cell_type": "code",
   "execution_count": 5,
   "metadata": {
    "vscode": {
     "languageId": "mit scheme"
    }
   },
   "outputs": [
    {
     "data": {
      "text/plain": [
       "nth-rt"
      ]
     },
     "execution_count": 5,
     "metadata": {},
     "output_type": "execute_result"
    }
   ],
   "source": [
    "(define (nth-rt x nth)\n",
    "  (define (find-avgdamp-time power count)\n",
    "     (if (< nth power) \n",
    "         count \n",
    "         (find-avgdamp-time (* 2 power) (+ count 1))))\n",
    "  \n",
    "  (fixed-point ((repeated average-damp (find-avgdamp-time 2 0)) (lambda (y) (/ x (expt y (- nth 1))))) 1.0))"
   ]
  },
  {
   "cell_type": "markdown",
   "metadata": {},
   "source": [
    "Now we can try `nth-rt`."
   ]
  },
  {
   "cell_type": "code",
   "execution_count": 8,
   "metadata": {
    "vscode": {
     "languageId": "mit scheme"
    }
   },
   "outputs": [
    {
     "data": {
      "text/plain": [
       "2.0000011830103324"
      ]
     },
     "execution_count": 8,
     "metadata": {},
     "output_type": "execute_result"
    }
   ],
   "source": [
    "(nth-rt 1024 10)"
   ]
  },
  {
   "cell_type": "markdown",
   "metadata": {
    "vscode": {
     "languageId": "mit scheme"
    }
   },
   "source": [
    "**Exercise 1.46**\n",
    "\n",
    "*An extremely general computational strategy known as iterative improvement -- a more general method as the end of this section.*\n",
    "\n",
    "It takes two procedures as arguments, and return a procedure."
   ]
  },
  {
   "cell_type": "code",
   "execution_count": 9,
   "metadata": {},
   "outputs": [
    {
     "data": {
      "text/plain": [
       "average"
      ]
     },
     "execution_count": 9,
     "metadata": {},
     "output_type": "execute_result"
    }
   ],
   "source": [
    "(define (iterative-improve good-enough? improve)\n",
    "  (define (try guess) (if (good-enough? guess) \n",
    "                      guess \n",
    "                      (try (improve guess))))\n",
    "  (lambda (x) (try x)))\n",
    "(define (average x y)\n",
    "  (/ (+ x y) 2))"
   ]
  },
  {
   "cell_type": "markdown",
   "metadata": {},
   "source": [
    "`sqrt` rewrite."
   ]
  },
  {
   "cell_type": "code",
   "execution_count": 10,
   "metadata": {},
   "outputs": [
    {
     "data": {
      "text/plain": [
       "sqrt"
      ]
     },
     "execution_count": 10,
     "metadata": {},
     "output_type": "execute_result"
    }
   ],
   "source": [
    "(define (sqrt x)\n",
    "  (define (good-enough-sqrt? guess)\n",
    "    (< (abs (- (/ x guess) guess)) 0.001))\n",
    "  (define (improve-sqrt guess)\n",
    "    (average guess (/ x guess)))\n",
    "  ((iterative-improve good-enough-sqrt? improve-sqrt) 1.0))"
   ]
  },
  {
   "cell_type": "code",
   "execution_count": 11,
   "metadata": {},
   "outputs": [
    {
     "data": {
      "text/plain": [
       "2.0000000929222947"
      ]
     },
     "execution_count": 11,
     "metadata": {},
     "output_type": "execute_result"
    }
   ],
   "source": [
    "(sqrt 4)"
   ]
  },
  {
   "cell_type": "markdown",
   "metadata": {},
   "source": [
    "`fix-point` rewrite."
   ]
  },
  {
   "cell_type": "code",
   "execution_count": 12,
   "metadata": {},
   "outputs": [
    {
     "data": {
      "text/plain": [
       "fix-point"
      ]
     },
     "execution_count": 12,
     "metadata": {},
     "output_type": "execute_result"
    }
   ],
   "source": [
    "(define (fix-point f x)\n",
    "  (define (good-enough? guess)\n",
    "    (< (abs (- (f guess) guess)) 0.000001))\n",
    "  ((iterative-improve good-enough? f) 1.0))"
   ]
  },
  {
   "cell_type": "code",
   "execution_count": 13,
   "metadata": {},
   "outputs": [
    {
     "data": {
      "text/plain": [
       ".7390845495752126"
      ]
     },
     "execution_count": 13,
     "metadata": {},
     "output_type": "execute_result"
    }
   ],
   "source": [
    "(fix-point cos 1.0) ;0.739"
   ]
  },
  {
   "cell_type": "code",
   "execution_count": null,
   "metadata": {},
   "outputs": [],
   "source": []
  }
 ],
 "metadata": {
  "kernelspec": {
   "display_name": "MIT Scheme",
   "language": "mit-scheme",
   "name": "mit-scheme"
  },
  "language_info": {
   "codemirror_mode": "scheme",
   "file_extension": ".scm",
   "mimetype": "application/x-scheme",
   "name": "MIT Scheme",
   "pygments_lexer": "scheme",
   "version": "9.2.1"
  },
  "vscode": {
   "interpreter": {
    "hash": "31f2aee4e71d21fbe5cf8b01ff0e069b9275f58929596ceb00d14d90e3e16cd6"
   }
  }
 },
 "nbformat": 4,
 "nbformat_minor": 2
}
