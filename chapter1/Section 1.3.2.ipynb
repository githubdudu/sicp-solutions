{
 "cells": [
  {
   "cell_type": "markdown",
   "id": "60118914",
   "metadata": {},
   "source": [
    "# Section 1.32\n",
    "\n",
    "**Exercise 1.34:**"
   ]
  },
  {
   "cell_type": "code",
   "execution_count": 2,
   "id": "b494f020",
   "metadata": {},
   "outputs": [
    {
     "data": {
      "text/plain": [
       "f"
      ]
     },
     "execution_count": 2,
     "metadata": {},
     "output_type": "execute_result"
    }
   ],
   "source": [
    "(define (f g) (g 2))"
   ]
  },
  {
   "cell_type": "code",
   "execution_count": 3,
   "id": "77970266",
   "metadata": {},
   "outputs": [
    {
     "data": {
      "text/plain": [
       "4"
      ]
     },
     "execution_count": 3,
     "metadata": {},
     "output_type": "execute_result"
    }
   ],
   "source": [
    "(f square)"
   ]
  },
  {
   "cell_type": "markdown",
   "id": "0374d8d8",
   "metadata": {},
   "source": [
    "Answer should be 4. "
   ]
  },
  {
   "cell_type": "code",
   "execution_count": 5,
   "id": "641e048a",
   "metadata": {},
   "outputs": [
    {
     "data": {
      "text/plain": [
       "6"
      ]
     },
     "execution_count": 5,
     "metadata": {},
     "output_type": "execute_result"
    }
   ],
   "source": [
    "(f (lambda (z) (* z (+ z 1))))"
   ]
  },
  {
   "cell_type": "markdown",
   "id": "9d859f36",
   "metadata": {},
   "source": [
    "Answer should be 6."
   ]
  },
  {
   "cell_type": "markdown",
   "id": "749eabf7",
   "metadata": {},
   "source": [
    "(f f)\n",
    "\n",
    "(f 2)\n",
    "\n",
    "(2 2)\n",
    "\n",
    "error The object 2 is not applicable."
   ]
  },
  {
   "cell_type": "code",
   "execution_count": 8,
   "id": "4bf2781e",
   "metadata": {},
   "outputs": [
    {
     "ename": "inapplicable-object",
     "evalue": "The object 2 is not applicable.",
     "output_type": "error",
     "traceback": [
      "\u001b[31mThe object 2 is not applicable.\u001b[0m"
     ]
    }
   ],
   "source": [
    "(f f)"
   ]
  },
  {
   "cell_type": "code",
   "execution_count": null,
   "id": "8af11627",
   "metadata": {},
   "outputs": [],
   "source": []
  }
 ],
 "metadata": {
  "kernelspec": {
   "display_name": "MIT Scheme",
   "language": "mit-scheme",
   "name": "mit-scheme"
  },
  "language_info": {
   "codemirror_mode": "scheme",
   "file_extension": ".scm",
   "mimetype": "application/x-scheme",
   "name": "MIT Scheme",
   "pygments_lexer": "scheme",
   "version": "9.2.1"
  }
 },
 "nbformat": 4,
 "nbformat_minor": 5
}
