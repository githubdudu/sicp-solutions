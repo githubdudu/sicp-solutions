{
 "cells": [
  {
   "cell_type": "markdown",
   "id": "7908b746",
   "metadata": {},
   "source": [
    "**Exercise 1.9.**\n",
    "\n",
    "One is recursive, another is iterative.\n",
    "\n"
   ]
  },
  {
   "cell_type": "code",
   "execution_count": 1,
   "id": "5ba91dac",
   "metadata": {},
   "outputs": [
    {
     "data": {
      "text/plain": [
       "+"
      ]
     },
     "execution_count": 1,
     "metadata": {},
     "output_type": "execute_result"
    }
   ],
   "source": [
    "(define (+ a b)\n",
    "  (if (= a 0)\n",
    "      b\n",
    "      (inc (+ (dec a) b))))"
   ]
  },
  {
   "cell_type": "markdown",
   "id": "6f163e0a",
   "metadata": {},
   "source": [
    ";;;;;;;;;;;;;;;;;;;;;;;;;;;;;; (+ 4 5)\n",
    "(+ 4 5)\n",
    "(inc (+ (dec 4) 5))\n",
    "(inc (+ 3 5))\n",
    "(inc (inc (+ (dec 3) 5)))\n",
    "(inc (inc (+ 2 5)))\n",
    "(inc (inc (inc (+ (dec 2) 5))))\n",
    "(inc (inc (inc (+ 1 5))))\n",
    "(inc (inc (inc (inc (+ (dec 1) 5)))))\n",
    "(inc (inc (inc (inc (+ 0 5)))))\n",
    "(inc (inc (inc (inc 5))))\n",
    "(inc (inc (inc 6)))\n",
    "(inc (inc 7))\n",
    "(inc 8)\n",
    "9"
   ]
  },
  {
   "cell_type": "code",
   "execution_count": 3,
   "id": "c02a5a4f",
   "metadata": {},
   "outputs": [
    {
     "data": {
      "text/plain": [
       "+"
      ]
     },
     "execution_count": 3,
     "metadata": {},
     "output_type": "execute_result"
    }
   ],
   "source": [
    "(define (+ a b)\n",
    "  (if (= a 0)\n",
    "      b\n",
    "      (+ (dec a) (inc b))))"
   ]
  },
  {
   "cell_type": "markdown",
   "id": "bc6262cc",
   "metadata": {},
   "source": [
    ";;;;;;;;;;;;;;;;;;;;;;;;;;;;;;(+ 4 5)\n",
    "(+ 4 5)\n",
    "(+ (dec 4) (inc 5))\n",
    "(+ 3 6)\n",
    "(+ (dec 3) (inc 6))\n",
    "(+ 2 7)\n",
    "(+ (dec 2) (inc 7))\n",
    "(+ 1 8)\n",
    "(+ (dec 1) (inc 8))\n",
    "(+ 0 9)\n",
    "9\n",
    "```"
   ]
  },
  {
   "cell_type": "markdown",
   "id": "86b2c10d",
   "metadata": {},
   "source": [
    "**Exercise 1.10. Ackermann's function.**"
   ]
  },
  {
   "cell_type": "code",
   "execution_count": 5,
   "id": "4811fc25",
   "metadata": {},
   "outputs": [
    {
     "data": {
      "text/plain": [
       "a"
      ]
     },
     "execution_count": 5,
     "metadata": {},
     "output_type": "execute_result"
    }
   ],
   "source": [
    "(define (A x y)\n",
    "  (cond ((= y 0) 0)\n",
    "        ((= x 0) (* 2 y))\n",
    "        ((= y 1) 2)\n",
    "        (else (A (- x 1)\n",
    "                 (A x (- y 1))))))"
   ]
  },
  {
   "cell_type": "markdown",
   "id": "2b02fbc7",
   "metadata": {},
   "source": [
    "What are the values of the following expressions?\n",
    "\n",
    "(A 1 10)\n",
    "(A (- 1 1) (A 1 (- 10 1)))\n",
    "(A 0 (A 1 9))\n",
    "(A 0 (A (- 1 1) (A 1 (- 9 1))))\n",
    "(A 0 (A 0 (A 1 8)))\n",
    "(A 0 (A 0 (A 0 (A 1 7))))\n",
    "(A 0 (A 0 (A 0 (A 0 (A 1 6)))))\n",
    "(A 0 (A 0 (A 0 (A 0 (A 0 (A 1 5))))))\n",
    "(A 0 (A 0 (A 0 (A 0 (A 0 (A 0 (A 1 4)))))))\n",
    "(A 0 (A 0 (A 0 (A 0 (A 0 (A 0 (A 0 (A 1 3))))))))\n",
    "(A 0 (A 0 (A 0 (A 0 (A 0 (A 0 (A 0 (A 0 (A 1 2)))))))))\n",
    "(A 0 (A 0 (A 0 (A 0 (A 0 (A 0 (A 0 (A 0 (A 0 (A 1 1))))))))))\n",
    "(A 0 (A 0 (A 0 (A 0 (A 0 (A 0 (A 0 (A 0 (A 0 2)))))))))\n",
    "(A 0 (A 0 (A 0 (A 0 (A 0 (A 0 (A 0 (A 0 4))))))))\n",
    "(A 0 (A 0 (A 0 (A 0 (A 0 (A 0 (A 0 8)))))))\n",
    "(A 0 (A 0 (A 0 (A 0 (A 0 (A 0 16))))))\n",
    "(A 0 (A 0 (A 0 (A 0 (A 0 32)))))\n",
    "(A 0 (A 0 (A 0 (A 0 64))))\n",
    "(A 0 (A 0 (A 0 128)))\n",
    "(A 0 (A 0 256))\n",
    "(A 0 512)\n",
    "1024\n",
    "; (A 1 10) means 2^10\n",
    "\n",
    "(A 2 4)\n",
    "(A 1 (A 2 3))\n",
    "(A 1 (A 1 (A 2 2)))\n",
    "(A 1 (A 1 (A 1 (A 2 1))))\n",
    "(A 1 (A 1 (A 1 2)))\n",
    "(A 1 (A 1 4))\n",
    "(A 1 16)\n",
    "2^16\n",
    "; (A 2 4) means 2^2^2^2\n",
    "\n",
    "(A 3 3)\n",
    "(A 2 (A 3 2))\n",
    "(A 2 (A 2 (A 3 1)))\n",
    "(A 2 (A 2 2))\n",
    "(A 2 2^2)\n",
    "2^16"
   ]
  },
  {
   "cell_type": "markdown",
   "id": "e943353c",
   "metadata": {},
   "source": [
    "(define (f n) (A 0 n)) ; 2n\n",
    "\n",
    "(define (g n) (A 1 n)) ; 2^n (n > 0); 0 (n = 0)\n",
    "\n",
    "(define (h n) (A 2 n)) ; 2^(2^2^(n times)) (n > 1);  2 for n=1; 0 for n=0"
   ]
  },
  {
   "cell_type": "markdown",
   "id": "96e56c96",
   "metadata": {},
   "source": [
    "```"
   ]
  }
 ],
 "metadata": {
  "kernelspec": {
   "display_name": "MIT Scheme",
   "language": "mit-scheme",
   "name": "mit-scheme"
  },
  "language_info": {
   "codemirror_mode": "scheme",
   "file_extension": ".scm",
   "mimetype": "application/x-scheme",
   "name": "MIT Scheme",
   "pygments_lexer": "scheme",
   "version": "9.2.1"
  }
 },
 "nbformat": 4,
 "nbformat_minor": 5
}
