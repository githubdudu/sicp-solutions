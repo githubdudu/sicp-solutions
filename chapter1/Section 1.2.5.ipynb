{
 "cells": [
  {
   "cell_type": "markdown",
   "id": "f4e00828",
   "metadata": {},
   "source": [
    "**Exercise 1.20**\n",
    "\n",
    "*The process that a procedure generates is\n",
    "of course dependent on the rules used by the interpreter.*"
   ]
  },
  {
   "cell_type": "markdown",
   "id": "a92c9d31",
   "metadata": {},
   "source": [
    "(define (gcd a b)\n",
    "  (if (= b 0)\n",
    "      a\n",
    "      (gcd b (remainder a b))))\n",
    ";\n",
    "(gcd 206 40) ***; evaluate b1=40***\n",
    "\n",
    "(gcd 40 (remainder 206 40)) ***; evaluate b2=(remainder 206 40) = 6  perform once***\n",
    "\n",
    "(gcd (remainder 206 40) (remainder 40 (remainder 206 40))) ***; evaluate b3=(remainder 40 (remainder 206 40))=(remainder b1 b2)= 4  perform twice***\n",
    "\n",
    "(gcd (remainder 40 (remainder 206 40)) \n",
    "\t (remainder (remainder 206 40) (remainder 40 (remainder 206 40))))\n",
    "     \n",
    "***;evaluate b4=(remainder (remainder 206 40) (remainder 40 (remainder 206 40)))=(remainder b2 b3) =2 perform 4 times***\n",
    "\n",
    "(gcd (remainder (remainder 206 40) (remainder 40 (remainder 206 40))) \n",
    "\t (remainder (remainder 40 (remainder 206 40)) \n",
    "\t\t\t\t(remainder (remainder 206 40) (remainder 40 (remainder 206 40)))))\n",
    "                \n",
    "***; evaluate b=(remainder (remainder 40 (remainder 206 40)) \n",
    "\t\t\t\t(remainder (remainder 206 40) (remainder 40 (remainder 206 40)))))\n",
    "          = (remainder b3 b4) = 0 perform 7 times***\n",
    "          \n",
    "(remainder (remainder 206 40) (remainder 40 (remainder 206 40))) ;perform 4 tiems\n",
    "\n",
    "2"
   ]
  },
  {
   "cell_type": "markdown",
   "id": "06e46264",
   "metadata": {},
   "source": [
    "Remainder operations performed in the normal-order evaluation :(1 + 2 + 4 + 7 + 4) = 18times\n",
    "\n",
    "Remainder operations performed in the applicative-order evaluation : 4 times."
   ]
  }
 ],
 "metadata": {
  "kernelspec": {
   "display_name": "MIT Scheme",
   "language": "mit-scheme",
   "name": "mit-scheme"
  },
  "language_info": {
   "codemirror_mode": "scheme",
   "file_extension": ".scm",
   "mimetype": "application/x-scheme",
   "name": "MIT Scheme",
   "pygments_lexer": "scheme",
   "version": "9.2.1"
  }
 },
 "nbformat": 4,
 "nbformat_minor": 5
}
