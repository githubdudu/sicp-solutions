{
 "cells": [
  {
   "cell_type": "markdown",
   "metadata": {},
   "source": [
    "**Exercise 2.4**\n",
    "\n",
    "*Define `pair` by lambda procedure.*"
   ]
  },
  {
   "cell_type": "code",
   "execution_count": 4,
   "metadata": {},
   "outputs": [
    {
     "data": {
      "text/plain": [
       "car"
      ]
     },
     "execution_count": 4,
     "metadata": {},
     "output_type": "execute_result"
    }
   ],
   "source": [
    "(define (cons x y)\n",
    "    (lambda (m) (m x y)))\n",
    "(define (car z)\n",
    "    (z (lambda (p q) p)))"
   ]
  },
  {
   "cell_type": "markdown",
   "metadata": {},
   "source": [
    "    (car (cons x y))\n",
    "    (car (lambda (m) (m x y)))\n",
    "    ((lambda (m) (m x y)) (lambda (p q) p))\n",
    "    ((lambda (p q) p) x y)\n",
    "    x\n",
    " The corresponding definition of `cdr` is"
   ]
  },
  {
   "cell_type": "code",
   "execution_count": 6,
   "metadata": {},
   "outputs": [
    {
     "data": {
      "text/plain": [
       "cdr"
      ]
     },
     "execution_count": 6,
     "metadata": {},
     "output_type": "execute_result"
    }
   ],
   "source": [
    "(define (cdr z)\n",
    "  (z (lambda (p q) q)))"
   ]
  },
  {
   "cell_type": "code",
   "execution_count": 10,
   "metadata": {},
   "outputs": [
    {
     "data": {
      "text/plain": [
       "2"
      ]
     },
     "execution_count": 10,
     "metadata": {},
     "output_type": "execute_result"
    }
   ],
   "source": [
    "(define x (cons 1 2))\n",
    "(cdr x)"
   ]
  },
  {
   "cell_type": "markdown",
   "metadata": {},
   "source": [
    "**Exercise 2.5**\n",
    "\n",
    "*Define pairs by some extremely large number. *\n",
    "\n",
    "*Very interesting! So can we use prime number to record number. Is it encryption？*\n",
    "\n",
    "$2^{a}3^{b}$, `a` and `b` are integer."
   ]
  },
  {
   "cell_type": "code",
   "execution_count": 13,
   "metadata": {},
   "outputs": [
    {
     "data": {
      "text/plain": [
       "cdr"
      ]
     },
     "execution_count": 13,
     "metadata": {},
     "output_type": "execute_result"
    }
   ],
   "source": [
    "(define (cons a b)\n",
    "  (* (expt 2 a) (expt 3 b)))\n",
    "(define (car z)\n",
    "  (define (cal-a rest n)\n",
    "    (if (integer? (/ rest 2))\n",
    "        (cal-a (/ rest 2) (+ n 1))\n",
    "        n))\n",
    "  (cal-a z 0))\n",
    "(define (cdr z)\n",
    "  (define (cal-b rest n)\n",
    "    (if (integer? (/ rest 3))\n",
    "        (cal-b (/ rest 3) (+ n 1))\n",
    "        n))\n",
    "  (cal-b z 0))"
   ]
  },
  {
   "cell_type": "code",
   "execution_count": 15,
   "metadata": {},
   "outputs": [
    {
     "data": {
      "text/plain": [
       "2"
      ]
     },
     "execution_count": 15,
     "metadata": {},
     "output_type": "execute_result"
    }
   ],
   "source": [
    "(cons 1 2)\n",
    "(cdr (cons 1 2))"
   ]
  },
  {
   "cell_type": "markdown",
   "metadata": {},
   "source": [
    "**Exercise 2.6**\n",
    "\n",
    "*Define numerials by pure lambda (procedure).*"
   ]
  },
  {
   "cell_type": "code",
   "execution_count": 37,
   "metadata": {},
   "outputs": [
    {
     "data": {
      "text/plain": [
       "add-1"
      ]
     },
     "execution_count": 37,
     "metadata": {},
     "output_type": "execute_result"
    }
   ],
   "source": [
    "(define zero (lambda (f) (lambda (x) x)))\n",
    "(define (add-1 n)\n",
    "  (lambda (f) (lambda (x) (f ((n f) x)))))"
   ]
  },
  {
   "cell_type": "markdown",
   "metadata": {},
   "source": [
    "```\n",
    "(add-1 zero)\n",
    "(lambda (f) (lambda (x) (f (((lambda (f) (lambda (x) x)) f) x))))\n",
    "(lambda (f) (lambda (x) (f ((lambda (x) x) x))))\n",
    "(lambda (f) (lambda (x) (f x)))\n",
    "```\n",
    "So \n"
   ]
  },
  {
   "cell_type": "code",
   "execution_count": 34,
   "metadata": {},
   "outputs": [
    {
     "data": {
      "text/plain": [
       "one"
      ]
     },
     "execution_count": 34,
     "metadata": {},
     "output_type": "execute_result"
    }
   ],
   "source": [
    "(define one (lambda (f) (lambda (x) (f x))))"
   ]
  },
  {
   "cell_type": "markdown",
   "metadata": {},
   "source": [
    "```\n",
    "(add-1 one)\n",
    "(lambda (f) (lambda (x) (f (((lambda (f) (lambda (x) (f x))) f) x))))\n",
    "(lambda (f) (lambda (x) (f ((lambda (x) (f x)) x))))\n",
    "(lambda (f) (lambda (x) (f (f x))))\n",
    "```\n",
    "So \n"
   ]
  },
  {
   "cell_type": "code",
   "execution_count": 35,
   "metadata": {},
   "outputs": [
    {
     "data": {
      "text/plain": [
       "two"
      ]
     },
     "execution_count": 35,
     "metadata": {},
     "output_type": "execute_result"
    }
   ],
   "source": [
    "(define two (lambda (f) (lambda (x) (f (f x)))))"
   ]
  },
  {
   "cell_type": "markdown",
   "metadata": {},
   "source": [
    "Definition of the addition procedure +: sum of apply f times ."
   ]
  },
  {
   "cell_type": "code",
   "execution_count": 39,
   "metadata": {},
   "outputs": [
    {
     "data": {
      "text/plain": [
       "addition"
      ]
     },
     "execution_count": 39,
     "metadata": {},
     "output_type": "execute_result"
    }
   ],
   "source": [
    "(define (addition a b)\n",
    "  (lambda (f)\n",
    "    (lambda (x) \n",
    "      ((a f) ((b f) x)))))"
   ]
  },
  {
   "cell_type": "code",
   "execution_count": 40,
   "metadata": {},
   "outputs": [
    {
     "data": {
      "text/plain": [
       "3"
      ]
     },
     "execution_count": 40,
     "metadata": {},
     "output_type": "execute_result"
    }
   ],
   "source": [
    "(((addition one two) (lambda (x) (+ x 1))) 0)"
   ]
  },
  {
   "cell_type": "code",
   "execution_count": null,
   "metadata": {
    "collapsed": true
   },
   "outputs": [],
   "source": []
  }
 ],
 "metadata": {
  "kernelspec": {
   "display_name": "MIT Scheme",
   "language": "scheme",
   "name": "mit-scheme"
  },
  "language_info": {
   "codemirror_mode": "scheme",
   "file_extension": ".scm",
   "mimetype": "application/x-scheme",
   "name": "MIT Scheme",
   "pygments_lexer": "scheme",
   "version": "9.2.1"
  }
 },
 "nbformat": 4,
 "nbformat_minor": 2
}
