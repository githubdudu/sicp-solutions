{
 "cells": [
  {
   "cell_type": "markdown",
   "metadata": {},
   "source": [
    "**Exercise 2.44**\n",
    "\n",
    "Similar to right-split."
   ]
  },
  {
   "cell_type": "code",
   "execution_count": 2,
   "metadata": {},
   "outputs": [
    {
     "data": {
      "text/plain": [
       "right-split"
      ]
     },
     "execution_count": 2,
     "metadata": {},
     "output_type": "execute_result"
    }
   ],
   "source": [
    "(define (right-split painter n)\n",
    "  (if (= n 0)\n",
    "      painter\n",
    "      (let ((smaller (right-split painter (- n 1))))\n",
    "        (beside painter (below smaller smaller)))))"
   ]
  },
  {
   "cell_type": "code",
   "execution_count": 1,
   "metadata": {},
   "outputs": [
    {
     "data": {
      "text/plain": [
       "up-split"
      ]
     },
     "execution_count": 1,
     "metadata": {},
     "output_type": "execute_result"
    }
   ],
   "source": [
    "(define (up-split painter n)\n",
    "  (if (= n 0)\n",
    "      painter\n",
    "      (let ((smaller (up-split painter (- n 1))))\n",
    "        (below painter (beside smaller smaller)))))"
   ]
  },
  {
   "cell_type": "markdown",
   "metadata": {},
   "source": [
    "**Exercise 2.45**\n",
    "\n",
    "Generalize the above two split."
   ]
  },
  {
   "cell_type": "code",
   "execution_count": 2,
   "metadata": {},
   "outputs": [
    {
     "ename": "unbound-variable",
     "evalue": "Unbound variable: below",
     "output_type": "error",
     "traceback": [
      "\u001b[31mUnbound variable: below\u001b[0m"
     ]
    }
   ],
   "source": [
    "(define right-split (split beside below))\n",
    "(define up-split (split below beside))\n",
    "(define (split op1 op2)\n",
    "  (lambda (painter n)\n",
    "    (if (= n 0)\n",
    "        painter\n",
    "        (let ((smaller ((split op1 op2) painter (- n 1))))\n",
    "          (op1 painter (op2 smaller smaller))))))"
   ]
  },
  {
   "cell_type": "markdown",
   "metadata": {},
   "source": [
    "**Exercise 2.46.**\n",
    "\n",
    "*Vector*"
   ]
  },
  {
   "cell_type": "code",
   "execution_count": 16,
   "metadata": {},
   "outputs": [
    {
     "data": {
      "text/plain": [
       "scale-vect"
      ]
     },
     "execution_count": 16,
     "metadata": {},
     "output_type": "execute_result"
    }
   ],
   "source": [
    "(define (make-vect x y)\n",
    "  (list x y))\n",
    "(define (xcor-vect v)\n",
    "  (car v))\n",
    "(define (ycor-vect v)\n",
    "  (cadr v))\n",
    "\n",
    ";; add-vect, sub-vect, and scale-vect\n",
    "(define (add-vect v1 v2)\n",
    "  (make-vect (+ (xcor-vect v1) (xcor-vect v2)) (+ (ycor-vect v1) (ycor-vect v2))))\n",
    "(define (sub-vect v1 v2)\n",
    "  (make-vect (- (xcor-vect v1) (xcor-vect v2)) (- (ycor-vect v1) (ycor-vect v2))))\n",
    "(define (scale-vect s v)\n",
    "  (make-vect (* s (xcor-vect v)) (* s (ycor-vect v))))"
   ]
  },
  {
   "cell_type": "markdown",
   "metadata": {},
   "source": [
    "**Exercise 2.47.**\n",
    "\n",
    "*Different constructor, different selector*"
   ]
  },
  {
   "cell_type": "code",
   "execution_count": 18,
   "metadata": {
    "scrolled": true
   },
   "outputs": [
    {
     "data": {
      "text/plain": [
       "make-frame"
      ]
     },
     "execution_count": 18,
     "metadata": {},
     "output_type": "execute_result"
    }
   ],
   "source": [
    "(define (make-frame origin edge1 edge2)\n",
    "  (list origin edge1 edge2))\n",
    "\n",
    "(define (make-frame origin edge1 edge2)\n",
    "  (cons origin (cons edge1 edge2)))"
   ]
  },
  {
   "cell_type": "code",
   "execution_count": 65,
   "metadata": {},
   "outputs": [
    {
     "ename": "wrong-type-argument",
     "evalue": "The object 3, passed as an argument to safe-car, is not a pair.",
     "output_type": "error",
     "traceback": [
      "\u001b[31mThe object 3, passed as an argument to safe-car, is not a pair.\u001b[0m"
     ]
    }
   ],
   "source": [
    ";Answer\n",
    "(define (origin-frame frame)\n",
    "  (car frame))\n",
    "(define (edge1-frame frame)\n",
    "  (cadr frame))\n",
    "(define (edge2-frame frame)\n",
    "  (caddr frame))\n",
    "\n",
    "(define (origin-frame frame)\n",
    "  (car frame))\n",
    "(define (edge1-frame frame)\n",
    "  (cadr frame))\n",
    "(define (edge2-frame frame)\n",
    "  (cddr frame))\n"
   ]
  },
  {
   "cell_type": "markdown",
   "metadata": {},
   "source": [
    "**Exercise 2.48.**\n",
    "\n",
    "*Segment based on vector. We tried implementations of segment by pairs in exercise 2.2 and 2.3*"
   ]
  },
  {
   "cell_type": "code",
   "execution_count": null,
   "metadata": {
    "collapsed": true
   },
   "outputs": [],
   "source": [
    "(define (make-segment v1 v2)\n",
    "  (list v1 v2))\n",
    "(define (start-segment seg)\n",
    "  (car seg))\n",
    "(define (end-segment seg)\n",
    "  (cadr seg))\n",
    "start-segment and end-segment."
   ]
  },
  {
   "cell_type": "markdown",
   "metadata": {},
   "source": [
    "**Exercise 2.49.**\n",
    "\n",
    "All we need to do is providing a proper `segment-list`?"
   ]
  },
  {
   "cell_type": "code",
   "execution_count": null,
   "metadata": {
    "collapsed": true
   },
   "outputs": [],
   "source": [
    "(define (segments->painter segment-list)\n",
    "  (lambda (frame)\n",
    "    (for-each\n",
    "     (lambda (segment)\n",
    "       (draw-line\n",
    "        ((frame-coord-map frame) (start-segment segment))\n",
    "        ((frame-coord-map frame) (end-segment segment))))\n",
    "     segment-list)))"
   ]
  },
  {
   "cell_type": "code",
   "execution_count": 76,
   "metadata": {},
   "outputs": [
    {
     "data": {
      "text/plain": [
       "wave"
      ]
     },
     "execution_count": 76,
     "metadata": {},
     "output_type": "execute_result"
    }
   ],
   "source": [
    "(define outline-frame\n",
    "  (segments->painter '(((0 0) (0 1)) ((0 0) (1 0)) ((0 1) (1 1)) ((1 1) (1 0)))))\n",
    "(define x-frame\n",
    "  (segments->painter '(((0 0) (1 1)) ((1 0) (0 1)))))\n",
    "(define diamond-frame\n",
    "  (segments->painter '(((0 0.5) (0.5 1)) ((0.5 1) (1 0.5)) ((1 0.5) (0.5 0)) ((0.5 0) (0 0.5)))))\n",
    "(define wave\n",
    "  (segments->painter '(no bother to implement, just make sure the head and feet connected and left hand and right hand connected.)))"
   ]
  },
  {
   "cell_type": "markdown",
   "metadata": {},
   "source": [
    "**Exercise 2.50.**\n",
    "\n",
    "Define the transformation flip-horiz, which flips painters horizontally, and transformations that rotate painters counterclockwise by 180 degrees and 270 degrees."
   ]
  },
  {
   "cell_type": "code",
   "execution_count": null,
   "metadata": {
    "collapsed": true
   },
   "outputs": [],
   "source": [
    "(define (flip-horiz painter)\n",
    "  (transform-painter painter\n",
    "                     (make-vect 1.0 0.0)   ; new origin\n",
    "                     (make-vect 0.0 0.0)   ; new end of edge1\n",
    "                     (make-vect 1.0 1.0))) ; new end of edge2\n",
    "\n",
    "(define (rotate180 painter)\n",
    "    (transform-painter painter\n",
    "                     (make-vect 1.0 1.0)   ; new origin\n",
    "                     (make-vect 0.0 1.0)   ; new end of edge1\n",
    "                     (make-vect 1.0 0.0))) ; new end of edge2\n",
    "\n",
    "(define (rotate270 painter)\n",
    "    (transform-painter painter\n",
    "                     (make-vect 0.0 1.0)   ; new origin\n",
    "                     (make-vect 0.0 0.0)   ; new end of edge1\n",
    "                     (make-vect 1.0 1.0))) ; new end of edge2"
   ]
  },
  {
   "cell_type": "markdown",
   "metadata": {},
   "source": [
    "**Exercise 2.51.**"
   ]
  },
  {
   "cell_type": "code",
   "execution_count": null,
   "metadata": {
    "collapsed": true
   },
   "outputs": [],
   "source": [
    "; Analogous to the beside\n",
    "(define (below painter1 painter2)\n",
    "  (let ((split-point (make-vect 0.0 0.5)))\n",
    "    (let ((paint-below\n",
    "           (transform-painter painter1\n",
    "                              (make-vect 0.0 0.0)\n",
    "                              (make-vect 1.0 0.0)\n",
    "                              split-point))\n",
    "          (paint-up\n",
    "           (transform-painter painter2\n",
    "                              split-point\n",
    "                              (make-vect 1.0 0.5)\n",
    "                              (make-vect 0.0 1.0))))\n",
    "      (lambda (frame)\n",
    "        (paint-below frame)\n",
    "        (paint-up frame)))))\n",
    "\n",
    "(define (below painter1 painter2)\n",
    "  (rotate90 (beside (rotate270 painter1) (rotate270 painter2))))"
   ]
  },
  {
   "cell_type": "markdown",
   "metadata": {},
   "source": [
    "**Exercise 2.52**\n",
    "\n",
    "a: in the define of `wave`. At `make-segment` level.\n",
    "\n",
    "b: in the define of `corner-split`. At the level of operations on `painter`.\n",
    "\n",
    "c: in the define of `square-limit`. At the level of high-order operations."
   ]
  },
  {
   "cell_type": "code",
   "execution_count": null,
   "metadata": {
    "collapsed": true
   },
   "outputs": [],
   "source": []
  }
 ],
 "metadata": {
  "kernelspec": {
   "display_name": "MIT Scheme",
   "language": "scheme",
   "name": "mit-scheme"
  },
  "language_info": {
   "codemirror_mode": "scheme",
   "file_extension": ".scm",
   "mimetype": "application/x-scheme",
   "name": "MIT Scheme",
   "pygments_lexer": "scheme",
   "version": "9.2.1"
  }
 },
 "nbformat": 4,
 "nbformat_minor": 2
}
