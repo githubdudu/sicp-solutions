{
 "cells": [
  {
   "cell_type": "markdown",
   "metadata": {},
   "source": [
    "*Exercise 2.24,2.25, 2.26 helps understand data structure.*"
   ]
  },
  {
   "cell_type": "markdown",
   "metadata": {},
   "source": [
    "**Exercise 2.24**"
   ]
  },
  {
   "cell_type": "markdown",
   "metadata": {},
   "source": [
    "Tree:\n",
    "\n",
    " (1 (2 (3 4)))\n",
    "      ^\n",
    "    /   \\\n",
    "   1     ^ (2 (3 4))\n",
    "       /   \\\n",
    "      2     ^ (3 4)\n",
    "          /   \\\n",
    "         3     4\n",
    "         \n",
    "                 "
   ]
  },
  {
   "cell_type": "code",
   "execution_count": 0,
   "metadata": {},
   "outputs": [
    {
     "ename": "premature-eof",
     "evalue": "Premature EOF on #[input-port 13 from string]",
     "output_type": "error",
     "traceback": [
      "\u001b[31mPremature EOF on #[input-port 13 from string]\u001b[0m"
     ]
    }
   ],
   "source": [
    " (1 (2 (3 4)))  ((2 (3 4)))                                              \n",
    "   +---+---+    +---+---+\n",
    "   | * | *-+--->| * | / |\n",
    "   +-+-+---+    +-+-+---+\n",
    "     |            |   \n",
    "     V            V (2 (3 4))   ((3 4))   \n",
    "   +---+        +---+---+      +---+---+\n",
    "   | 1 |        | * | *-+----->| * | / | \n",
    "   +---+        +-+-+---+      +---+---+\n",
    "                  |              |\n",
    "                  V              V (3 4)\n",
    "                +---+          +---+---+    +---+---+\n",
    "                | 2 |          | * | *-+--->| * | / |\n",
    "                +---+          +-+-+---+    +-+-+---+\n",
    "                                 |            |\n",
    "                                 V            V\n",
    "                               +---+        +---+\n",
    "                               | 3 |        | 4 |\n",
    "                               +---+        +---+"
   ]
  },
  {
   "cell_type": "markdown",
   "metadata": {},
   "source": [
    "**Exercise 2.25**"
   ]
  },
  {
   "cell_type": "code",
   "execution_count": null,
   "metadata": {
    "collapsed": true
   },
   "outputs": [],
   "source": [
    "(1 3 (5 7) 9)\n",
    "((7))\n",
    "(1 (2 (3 (4 (5 (6 7))))))"
   ]
  },
  {
   "cell_type": "code",
   "execution_count": 7,
   "metadata": {
    "scrolled": true
   },
   "outputs": [
    {
     "data": {
      "text/plain": [
       "7"
      ]
     },
     "execution_count": 7,
     "metadata": {},
     "output_type": "execute_result"
    }
   ],
   "source": [
    "(car (cdaddr '(1 3 (5 7) 9)))"
   ]
  },
  {
   "cell_type": "code",
   "execution_count": 8,
   "metadata": {},
   "outputs": [
    {
     "data": {
      "text/plain": [
       "7"
      ]
     },
     "execution_count": 8,
     "metadata": {},
     "output_type": "execute_result"
    }
   ],
   "source": [
    "(caar '((7)))\n"
   ]
  },
  {
   "cell_type": "code",
   "execution_count": 14,
   "metadata": {},
   "outputs": [
    {
     "data": {
      "text/plain": [
       "7"
      ]
     },
     "execution_count": 14,
     "metadata": {},
     "output_type": "execute_result"
    }
   ],
   "source": [
    "(cadadr (cadadr (cadadr '(1 (2 (3 (4 (5 (6 7)))))))))"
   ]
  },
  {
   "cell_type": "markdown",
   "metadata": {},
   "source": [
    "**Exercise 2.26**"
   ]
  },
  {
   "cell_type": "code",
   "execution_count": 16,
   "metadata": {},
   "outputs": [
    {
     "data": {
      "text/plain": [
       "y"
      ]
     },
     "execution_count": 16,
     "metadata": {},
     "output_type": "execute_result"
    }
   ],
   "source": [
    "(define x (list 1 2 3))\n",
    "(define y (list 4 5 6))\n",
    ";What result is printed by the interpreter in response to evaluating each of the following expressions:\n",
    ";(append x y) = '(1 2 3 4 5 6)\n",
    ";(cons x y) = '((1 2 3) 4 5 6)\n",
    ";(list x y) = '((1 2 3) (4 5 6))"
   ]
  },
  {
   "cell_type": "code",
   "execution_count": 21,
   "metadata": {},
   "outputs": [
    {
     "data": {
      "text/plain": [
       "((1 2 3) (4 5 6))"
      ]
     },
     "execution_count": 21,
     "metadata": {},
     "output_type": "execute_result"
    }
   ],
   "source": [
    "(append x y)\n",
    "(cons x y)\n",
    "(list x y)"
   ]
  },
  {
   "cell_type": "markdown",
   "metadata": {},
   "source": [
    "*2.27, 2.28, 2.29 are recursions that dealing with tree structure.*"
   ]
  },
  {
   "cell_type": "markdown",
   "metadata": {},
   "source": [
    "**Exercise 2.27**"
   ]
  },
  {
   "cell_type": "code",
   "execution_count": 16,
   "metadata": {},
   "outputs": [
    {
     "data": {
      "text/plain": [
       "deep-reverse"
      ]
     },
     "execution_count": 16,
     "metadata": {},
     "output_type": "execute_result"
    }
   ],
   "source": [
    "(define nil `())\n",
    "(define (deep-reverse list)\n",
    "  (define (rev-iter ls tail)\n",
    "    (cond ((null? ls) tail)\n",
    "          ((not (pair? ls)) ls)\n",
    "          (else (rev-iter (cdr ls) (cons (deep-reverse (car ls)) tail)))))\n",
    "  (rev-iter list nil))"
   ]
  },
  {
   "cell_type": "code",
   "execution_count": 18,
   "metadata": {},
   "outputs": [
    {
     "data": {
      "text/plain": [
       "(10 (9 (8 7) 6) 5 (4 3) 2 1)"
      ]
     },
     "execution_count": 18,
     "metadata": {},
     "output_type": "execute_result"
    }
   ],
   "source": [
    "(define x (list (list 1 2) (list 3 4)))\n",
    "\n",
    "(deep-reverse '(1 2 (3 4) 5 (6 (7 8) 9) 10)) "
   ]
  },
  {
   "cell_type": "markdown",
   "metadata": {},
   "source": [
    "**Exercise 2.28**"
   ]
  },
  {
   "cell_type": "code",
   "execution_count": 21,
   "metadata": {},
   "outputs": [
    {
     "data": {
      "text/plain": [
       "fringe"
      ]
     },
     "execution_count": 21,
     "metadata": {},
     "output_type": "execute_result"
    }
   ],
   "source": [
    "(define (fringe li)\n",
    "  (cond ((null? li) '())\n",
    "        ((number? li) (list li))\n",
    "        (else (append (fringe (car li)) (fringe (cdr li))))))"
   ]
  },
  {
   "cell_type": "code",
   "execution_count": 24,
   "metadata": {},
   "outputs": [
    {
     "data": {
      "text/plain": [
       "(1 2 3 4)"
      ]
     },
     "execution_count": 24,
     "metadata": {},
     "output_type": "execute_result"
    }
   ],
   "source": [
    "(define x (list (list 1 2) (list 3 4)))\n",
    "(fringe x)\n",
    ";(1 2 3 4)\n",
    ";(fringe (list x x))\n",
    ";(1 2 3 4 1 2 3 4)\n",
    "\n",
    "(fringe x)"
   ]
  },
  {
   "cell_type": "markdown",
   "metadata": {},
   "source": [
    "**Exercise 2.29** a"
   ]
  },
  {
   "cell_type": "code",
   "execution_count": 16,
   "metadata": {},
   "outputs": [
    {
     "data": {
      "text/plain": [
       "make-branch"
      ]
     },
     "execution_count": 16,
     "metadata": {},
     "output_type": "execute_result"
    }
   ],
   "source": [
    "(define (make-mobile left right)\n",
    "  (list left right))\n",
    "(define (make-branch length structure)\n",
    "  (list length structure))"
   ]
  },
  {
   "cell_type": "code",
   "execution_count": 20,
   "metadata": {},
   "outputs": [
    {
     "data": {
      "text/plain": [
       "branch-structure"
      ]
     },
     "execution_count": 20,
     "metadata": {},
     "output_type": "execute_result"
    }
   ],
   "source": [
    "(define left-branch car)\n",
    "(define right-branch cadr)\n",
    "(define branch-length car)\n",
    "(define branch-structure cadr)"
   ]
  },
  {
   "cell_type": "markdown",
   "metadata": {},
   "source": [
    "b"
   ]
  },
  {
   "cell_type": "code",
   "execution_count": 25,
   "metadata": {},
   "outputs": [
    {
     "data": {
      "text/plain": [
       "total-weight"
      ]
     },
     "execution_count": 25,
     "metadata": {},
     "output_type": "execute_result"
    }
   ],
   "source": [
    ";total-weight\n",
    "(define (total-weight x)\n",
    "  (cond ((null? x) 0) \n",
    "        ((number? x) x)\n",
    "        (else (+ \n",
    "               (total-weight (branch-structure (left-branch x))) \n",
    "               (total-weight (branch-structure (right-branch x)))))))"
   ]
  },
  {
   "cell_type": "markdown",
   "metadata": {},
   "source": [
    "c"
   ]
  },
  {
   "cell_type": "code",
   "execution_count": 21,
   "metadata": {},
   "outputs": [
    {
     "data": {
      "text/plain": [
       "balanced?"
      ]
     },
     "execution_count": 21,
     "metadata": {},
     "output_type": "execute_result"
    }
   ],
   "source": [
    "(define (balanced? x)\n",
    "  (cond ((number? x) #t)\n",
    "        (else (let ((l-mob (branch-structure (left-branch x)))\n",
    "                    (r-mob (branch-structure (right-branch x)))\n",
    "                    (l-len (branch-length (left-branch x)))\n",
    "                    (r-len (branch-length (right-branch x))))\n",
    "                (and (= (* l-len (total-weight l-mob)) (* r-len (total-weight r-mob)))\n",
    "                     (balanced? l-mob)\n",
    "                     (balanced? r-mob))))))"
   ]
  },
  {
   "cell_type": "code",
   "execution_count": 31,
   "metadata": {},
   "outputs": [
    {
     "data": {
      "text/plain": [
       "#t"
      ]
     },
     "execution_count": 31,
     "metadata": {},
     "output_type": "execute_result"
    }
   ],
   "source": [
    ";TEST\n",
    "(define a (make-mobile (make-branch 2 3) (make-branch 2 3))) \n",
    "(define d (make-mobile (make-branch 10 a) (make-branch 12 5))) \n",
    " ;; Looks like: ((10 ((2 3) (2 3))) (12 5)) \n",
    " \n",
    " (balanced? d) ;; #t "
   ]
  },
  {
   "cell_type": "markdown",
   "metadata": {},
   "source": [
    "d\n",
    "\n",
    "Below is constructor for new representations. We just need to change the selectors."
   ]
  },
  {
   "cell_type": "code",
   "execution_count": 11,
   "metadata": {},
   "outputs": [
    {
     "data": {
      "text/plain": [
       "make-branch"
      ]
     },
     "execution_count": 11,
     "metadata": {},
     "output_type": "execute_result"
    }
   ],
   "source": [
    "(define (make-mobile left right)\n",
    "  (cons left right))\n",
    "(define (make-branch length structure)\n",
    "  (cons length structure))"
   ]
  },
  {
   "cell_type": "code",
   "execution_count": 9,
   "metadata": {},
   "outputs": [
    {
     "data": {
      "text/plain": [
       "branch-structure"
      ]
     },
     "execution_count": 9,
     "metadata": {},
     "output_type": "execute_result"
    }
   ],
   "source": [
    "(define left-branch car)\n",
    "(define right-branch cdr)\n",
    "(define branch-length car)\n",
    "(define branch-structure cdr)"
   ]
  },
  {
   "cell_type": "code",
   "execution_count": null,
   "metadata": {
    "collapsed": true
   },
   "outputs": [],
   "source": []
  }
 ],
 "metadata": {
  "kernelspec": {
   "display_name": "MIT Scheme",
   "language": "scheme",
   "name": "mit-scheme"
  },
  "language_info": {
   "codemirror_mode": "scheme",
   "file_extension": ".scm",
   "mimetype": "application/x-scheme",
   "name": "MIT Scheme",
   "pygments_lexer": "scheme",
   "version": "9.2.1"
  }
 },
 "nbformat": 4,
 "nbformat_minor": 2
}
