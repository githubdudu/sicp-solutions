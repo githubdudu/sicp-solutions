{
 "cells": [
  {
   "cell_type": "markdown",
   "metadata": {},
   "source": [
    "Exercise 2.77.\n",
    "\n",
    "Let's analize `apply-generic` procedure below. It takes the combinations of options and args. Derive type-tag from args. The tag is used to direct to the appropriate package.\n",
    "\n",
    "In the complex package in textbook, there is no `(put 'magnitude  '(complex))`, so the `apply-generic` can't `(get 'magnitude '(complex))`.\n",
    "\n",
    "It's a two-level tag system. The outer tag (complex) is used to direct to the `magnitude` of the complex package. Within the complex package, the next tag (rectangular) is used to direct to `magnitude-rectangular` ."
   ]
  },
  {
   "cell_type": "code",
   "execution_count": null,
   "metadata": {
    "collapsed": true
   },
   "outputs": [],
   "source": [
    "(define (apply-generic op . args)\n",
    "  (let ((type-tags (map type-tag args)))\n",
    "    (let ((proc (get op type-tags)))\n",
    "      (if proc\n",
    "          (apply proc (map contents args))\n",
    "          (error\n",
    "            \"No method for these types -- APPLY-GENERIC\"\n",
    "            (list op type-tags))))))"
   ]
  },
  {
   "cell_type": "markdown",
   "metadata": {},
   "source": [
    "Exercise 2.78.\n",
    "\n",
    "Original:"
   ]
  },
  {
   "cell_type": "code",
   "execution_count": null,
   "metadata": {
    "collapsed": true
   },
   "outputs": [],
   "source": [
    "(define (attach-tag type-tag contents)\n",
    "  (cons type-tag contents))\n",
    "(define (type-tag datum)\n",
    "  (if (pair? datum)\n",
    "      (car datum)\n",
    "      (error \"Bad tagged datum -- TYPE-TAG\" datum)))\n",
    "(define (contents datum)\n",
    "  (if (pair? datum)\n",
    "      (cdr datum)\n",
    "      (error \"Bad tagged datum -- CONTENTS\" datum)))"
   ]
  },
  {
   "cell_type": "markdown",
   "metadata": {},
   "source": [
    "Modified:"
   ]
  },
  {
   "cell_type": "code",
   "execution_count": 4,
   "metadata": {},
   "outputs": [
    {
     "data": {
      "text/plain": [
       "contents"
      ]
     },
     "execution_count": 4,
     "metadata": {},
     "output_type": "execute_result"
    }
   ],
   "source": [
    "(define (attach-tag type-tag contents)\n",
    "  (if (number? contents)\n",
    "      contents\n",
    "      (cons type-tag contents)))\n",
    "  \n",
    "(define (type-tag datum)\n",
    "  (if (number? datum)\n",
    "      'scheme-number\n",
    "      (if (pair? datum)\n",
    "          (car datum)\n",
    "          (error \"Bad tagged datum -- TYPE-TAG\" datum))))\n",
    "\n",
    "(define (contents datum)\n",
    "  (if (number? datum)\n",
    "      datum\n",
    "      (if (pair? datum)\n",
    "          (cdr datum)\n",
    "          (error \"Bad tagged datum -- CONTENTS\" datum))))"
   ]
  },
  {
   "cell_type": "code",
   "execution_count": 11,
   "metadata": {},
   "outputs": [
    {
     "data": {
      "text/plain": [
       "#t"
      ]
     },
     "execution_count": 11,
     "metadata": {},
     "output_type": "execute_result"
    }
   ],
   "source": [
    "(eq? 't 't)"
   ]
  },
  {
   "cell_type": "markdown",
   "metadata": {},
   "source": [
    "Exercise 2.79."
   ]
  },
  {
   "cell_type": "code",
   "execution_count": 6,
   "metadata": {},
   "outputs": [
    {
     "data": {
      "text/plain": [
       "install-equ?-package"
      ]
     },
     "execution_count": 6,
     "metadata": {},
     "output_type": "execute_result"
    }
   ],
   "source": [
    ";The generic arithmetic procedures\n",
    "(define (equ? x y) (apply-generic 'equ? x y))\n",
    "\n",
    "(define (install-equ?-package)\n",
    "  (put 'equ? '(scheme-number scheme-number) eq?)\n",
    "  \n",
    "  (define (equ-rat x y)\n",
    "    (and (eq? (numer x) (numer y)) (eq? (denom x) (denom y))))\n",
    "  (put 'equ? '(rational rational) equ-rat)\n",
    "  \n",
    "  \n",
    "  (define (equ-complex x y)\n",
    "    (and (eq? (real-part x) (real-part y)) (eq? (imag-part x) (imag-part y))))\n",
    "  (put 'equ? '(complex complex) equ-complex))"
   ]
  },
  {
   "cell_type": "markdown",
   "metadata": {},
   "source": [
    "Exercise 2.80.\n",
    "\n",
    "*Same as 2.79*"
   ]
  },
  {
   "cell_type": "code",
   "execution_count": 20,
   "metadata": {},
   "outputs": [
    {
     "data": {
      "text/plain": [
       "install-=zero?-package"
      ]
     },
     "execution_count": 20,
     "metadata": {},
     "output_type": "execute_result"
    }
   ],
   "source": [
    "(define (=zero? x ) (apply-generic '=zero? x))\n",
    "\n",
    "(define (install-=zero?-package)\n",
    "  (put '=zero? '(scheme-number) (lambda (x) (= x 0)))\n",
    "  \n",
    "  (put '=zero? '(rational) (lambda (x) (=zero? (numer x))))\n",
    "  \n",
    "  (put '=zero? '(complex) =zero?)\n",
    "  \n",
    "  (put '=zero? '(rectangular) (and (=zero? (real-part x)) (=zero? (imag-part x))))\n",
    "  (put '=zero? '(polar) (=zero? (magnitude x))))"
   ]
  },
  {
   "cell_type": "code",
   "execution_count": 18,
   "metadata": {},
   "outputs": [
    {
     "data": {
      "text/plain": [
       "#t"
      ]
     },
     "execution_count": 18,
     "metadata": {},
     "output_type": "execute_result"
    }
   ],
   "source": [
    "(= 1 1 1 1)"
   ]
  },
  {
   "cell_type": "markdown",
   "metadata": {},
   "source": [
    "Exercise 2.81.\n",
    "\n",
    "a. That would be a infinite loop. `apply-generic` is a recursive function. \"coerce\" arguments of each type to their own type will feed the `apply-generic` procedure same arguments again and again.\n",
    "\n",
    "b. Yes.\n",
    "\n",
    "c."
   ]
  },
  {
   "cell_type": "code",
   "execution_count": 21,
   "metadata": {},
   "outputs": [
    {
     "data": {
      "text/plain": [
       "apply-generic"
      ]
     },
     "execution_count": 21,
     "metadata": {},
     "output_type": "execute_result"
    }
   ],
   "source": [
    "(define (apply-generic op . args)\n",
    "  (let ((type-tags (map type-tag args)))\n",
    "    (let ((proc (get op type-tags)))\n",
    "      (if proc\n",
    "          (apply proc (map contents args))\n",
    "          (if (= (length args) 2)\n",
    "              (let ((type1 (car type-tags))\n",
    "                    (type2 (cadr type-tags))\n",
    "                    (a1 (car args))\n",
    "                    (a2 (cadr args)))\n",
    "                (if (equal? type1 type2)\n",
    "                    (error \"No method for these types\"\n",
    "                           (list op type-tags))\n",
    "                    (let ((t1->t2 (get-coercion type1 type2))\n",
    "                      (t2->t1 (get-coercion type2 type1)))\n",
    "                      (cond (t1->t2\n",
    "                             (apply-generic op (t1->t2 a1) a2))\n",
    "                            (t2->t1\n",
    "                             (apply-generic op a1 (t2->t1 a2)))\n",
    "                            (else\n",
    "                             (error \"No method for these types\"\n",
    "                                    (list op type-tags)))))))\n",
    "                \n",
    "              (error \"No method for these types\"\n",
    "                     (list op type-tags)))))))"
   ]
  },
  {
   "cell_type": "markdown",
   "metadata": {},
   "source": [
    "Exercise 2.82.\n",
    "\n",
    "The tower of types and a `raise` procedure is best solution. \n",
    "\n",
    "There is no need to implement this by coersion procedure. If have to, we can build it by Union-find, which based on the coersion procedures: transforms a type (child) to a target type (parent).\n",
    "\n",
    "Suppose `(define args (list complex-number real-number integer-number))` , and we have `intege->real`, `real->complex`. Apply the strategy mentioned in the question, the third argument: `integer-number` won't be coerced to `complex`. The suitable `real->complex` operations will not be tried on it.)"
   ]
  },
  {
   "cell_type": "markdown",
   "metadata": {},
   "source": [
    "Exercise 2.83.\n",
    "\n",
    "integer, rational, real, complex."
   ]
  },
  {
   "cell_type": "code",
   "execution_count": null,
   "metadata": {
    "collapsed": true
   },
   "outputs": [],
   "source": [
    "(define (raise-int x)\n",
    "  (make-rational (content x) 1))\n",
    "(define (raise-rational x)\n",
    "  (make-real (content x))\n",
    "(define (raise-real x)\n",
    "  (make-complex (content x) 0))\n",
    "(put 'raise 'integer raise-int)\n",
    "(put 'raise 'rational raise-rational)\n",
    "(put 'raise 'real raise-real)\n",
    "(define (raise x) (apply-generic 'raise x))\n"
   ]
  },
  {
   "cell_type": "markdown",
   "metadata": {},
   "source": [
    "Exercise 2.84."
   ]
  },
  {
   "cell_type": "code",
   "execution_count": 3,
   "metadata": {},
   "outputs": [
    {
     "data": {
      "text/plain": [
       "apply-generic"
      ]
     },
     "execution_count": 3,
     "metadata": {},
     "output_type": "execute_result"
    }
   ],
   "source": [
    "(define tower (list 'integer 'rational 'real 'complex))\n",
    "(define (higher-in-tower type1 type2 tower-list)\n",
    "  (if (= type1 type2)\n",
    "      (type1 type2))\n",
    "  (< (length (memq type1 tower-list)) (length (memq type2 tower-list))))\n",
    "\n",
    "(define (apply-generic op . args)\n",
    "  (let ((type-tags (map type-tag args)))\n",
    "    (let ((proc (get op type-tags)))\n",
    "      (if proc\n",
    "          (apply proc (map contents args))\n",
    "          (if (= (length args) 2)\n",
    "              (let ((type1 (car type-tags))\n",
    "                    (type2 (cadr type-tags))\n",
    "                    (a1 (car args))\n",
    "                    (a2 (cadr args)))\n",
    "                (if (= type1 type2)\n",
    "                    (error \"No method for these types\"\n",
    "                           (list op type-tags))\n",
    "                    (let ((level1 (length (memq type1 tower-list)))\n",
    "                      (level2 (length (memq type2 tower-list))))\n",
    "                      (if (< level1 level2)\n",
    "                          (apply-generic op a1 (raise a2))\n",
    "                          (apply-generic op (raise a1) a2)))))   \n",
    "\n",
    "              (error \"No method for these types\"\n",
    "                     (list op type-tags)))))))"
   ]
  },
  {
   "cell_type": "code",
   "execution_count": 6,
   "metadata": {},
   "outputs": [
    {
     "data": {
      "text/plain": [
       "#t"
      ]
     },
     "execution_count": 6,
     "metadata": {},
     "output_type": "execute_result"
    }
   ],
   "source": [
    "(higher-in-tower 'real 'rational tower)"
   ]
  },
  {
   "cell_type": "markdown",
   "metadata": {},
   "source": [
    "Exercise 2.85."
   ]
  },
  {
   "cell_type": "code",
   "execution_count": null,
   "metadata": {
    "collapsed": true
   },
   "outputs": [],
   "source": [
    "(define (project-rational x)\n",
    "  (make-integer  (numer x)))\n",
    "(define (project-real x)\n",
    "  (make-rational (- x (remainder x))))\n",
    "(define (project-complex x)\n",
    "  (make-real (real x)))\n",
    "\n",
    "(put 'project 'rational project-rational)\n",
    "(put 'project 'real project-real)\n",
    "(put 'project 'complex project-complex)\n",
    "(define (project x) (apply-generic 'drop x))\n",
    "\n",
    "(define (drop x)\n",
    "  (let ((p (project x)))\n",
    "    (if (= x p)\n",
    "        (project p)\n",
    "        x)))\n"
   ]
  },
  {
   "cell_type": "code",
   "execution_count": 4,
   "metadata": {},
   "outputs": [
    {
     "data": {
      "text/plain": [
       "apply-generic"
      ]
     },
     "execution_count": 4,
     "metadata": {},
     "output_type": "execute_result"
    }
   ],
   "source": [
    "(define (apply-generic op . args)\n",
    "  (let ((type-tags (map type-tag args)))\n",
    "    (let ((proc (get op type-tags)))\n",
    "      (if proc\n",
    "          (drop (apply proc (map contents args)))\n",
    "          (if (= (length args) 2)\n",
    "              (let ((type1 (car type-tags))\n",
    "                    (type2 (cadr type-tags))\n",
    "                    (a1 (car args))\n",
    "                    (a2 (cadr args)))\n",
    "                (if (= type1 type2)\n",
    "                    (error \"No method for these types\"\n",
    "                           (list op type-tags))\n",
    "                    (let ((level1 (length (memq type1 tower-list)))\n",
    "                      (level2 (length (memq type2 tower-list))))\n",
    "                      (if (< level1 level2)\n",
    "                          (apply-generic op a1 (raise a2))\n",
    "                          (apply-generic op (raise a1) a2)))))   \n",
    "\n",
    "              (error \"No method for these types\"\n",
    "                     (list op type-tags)))))))"
   ]
  },
  {
   "cell_type": "markdown",
   "metadata": {},
   "source": [
    "Exercise 2.86.\n",
    "\n",
    "Suppose we want to handle complex numbers whose real parts, imaginary parts, magnitudes, and angles can be either ordinary numbers, rational numbers or other numbers.\n",
    "\n",
    "We must replace all the primitive operations **$+,-,\\times,/$, square, sin, cos, sqrt, atan** with generic operations."
   ]
  },
  {
   "cell_type": "code",
   "execution_count": 9,
   "metadata": {},
   "outputs": [
    {
     "data": {
      "text/plain": [
       "div-complex"
      ]
     },
     "execution_count": 9,
     "metadata": {},
     "output_type": "execute_result"
    }
   ],
   "source": [
    "(define (add-complex z1 z2)\n",
    "  (make-from-real-imag (add (real-part z1) (real-part z2))\n",
    "                       (add (imag-part z1) (imag-part z2))))\n",
    "(define (sub-complex z1 z2)\n",
    "  (make-from-real-imag (sub (real-part z1) (real-part z2))\n",
    "                       (sub (imag-part z1) (imag-part z2))))\n",
    "(define (mul-complex z1 z2)\n",
    "  (make-from-mag-ang (mul (magnitude z1) (magnitude z2))\n",
    "                     (add (angle z1) (angle z2))))\n",
    "(define (div-complex z1 z2)\n",
    "  (make-from-mag-ang (div (magnitude z1) (magnitude z2))\n",
    "                     (sub (angle z1) (angle z2))))"
   ]
  },
  {
   "cell_type": "code",
   "execution_count": null,
   "metadata": {
    "collapsed": true
   },
   "outputs": [],
   "source": [
    "(define (square x) (mul x x))\n",
    "(define (sin-for-rational))\n",
    "(define (cos-for-rational))\n",
    "(put 'square '(rational) (lambda ))\n",
    "(put 'sin '(rational) (lambda))\n",
    "(put 'cos '(rational) (lambda))"
   ]
  }
 ],
 "metadata": {
  "kernelspec": {
   "display_name": "MIT Scheme",
   "language": "scheme",
   "name": "mit-scheme"
  },
  "language_info": {
   "codemirror_mode": "scheme",
   "file_extension": ".scm",
   "mimetype": "application/x-scheme",
   "name": "MIT Scheme",
   "pygments_lexer": "scheme",
   "version": "9.2.1"
  }
 },
 "nbformat": 4,
 "nbformat_minor": 2
}
