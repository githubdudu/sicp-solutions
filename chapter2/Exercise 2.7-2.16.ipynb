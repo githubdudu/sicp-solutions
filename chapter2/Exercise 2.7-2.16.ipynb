{
 "cells": [
  {
   "cell_type": "markdown",
   "metadata": {},
   "source": [
    "**Exercise 2.7**\n",
    "\n",
    "Interval is not tolerance. So interval -1, means -1 literally, not a exact number minus 1."
   ]
  },
  {
   "cell_type": "code",
   "execution_count": 7,
   "metadata": {},
   "outputs": [
    {
     "data": {
      "text/plain": [
       "make-interval"
      ]
     },
     "execution_count": 7,
     "metadata": {},
     "output_type": "execute_result"
    }
   ],
   "source": [
    "(define (make-interval a b ) (cons a b))"
   ]
  },
  {
   "cell_type": "code",
   "execution_count": 9,
   "metadata": {},
   "outputs": [
    {
     "data": {
      "text/plain": [
       "upper-bound"
      ]
     },
     "execution_count": 9,
     "metadata": {},
     "output_type": "execute_result"
    }
   ],
   "source": [
    "(define (upper-bound interval) (max (car interval) (cdr interval)))"
   ]
  },
  {
   "cell_type": "code",
   "execution_count": 10,
   "metadata": {},
   "outputs": [
    {
     "data": {
      "text/plain": [
       "lower-bound"
      ]
     },
     "execution_count": 10,
     "metadata": {},
     "output_type": "execute_result"
    }
   ],
   "source": [
    "(define (lower-bound interval) (min (car interval) (cdr interval)))"
   ]
  },
  {
   "cell_type": "markdown",
   "metadata": {},
   "source": [
    "**Exercise 2.8**\n",
    "\n",
    "We can utilize the add-interval.\n",
    "\n",
    "    a<= interval <= b\n",
    "    -b<= -interval <= -a"
   ]
  },
  {
   "cell_type": "code",
   "execution_count": 6,
   "metadata": {},
   "outputs": [
    {
     "data": {
      "text/plain": [
       "sub-interval"
      ]
     },
     "execution_count": 6,
     "metadata": {},
     "output_type": "execute_result"
    }
   ],
   "source": [
    "(define (sub-interval x y)\n",
    "  (add-interval \n",
    "   x\n",
    "   (make-interval (- 0 (upper-bound y))\n",
    "                  (- 0 (lower-bound y)))))"
   ]
  },
  {
   "cell_type": "markdown",
   "metadata": {},
   "source": [
    "**Exercise 2.9**"
   ]
  },
  {
   "cell_type": "code",
   "execution_count": 8,
   "metadata": {},
   "outputs": [
    {
     "data": {
      "text/plain": [
       "width"
      ]
     },
     "execution_count": 8,
     "metadata": {},
     "output_type": "execute_result"
    }
   ],
   "source": [
    "(define (width interval) (/ (- (upper-bound interval) (lower-bound interval)) 2))"
   ]
  },
  {
   "cell_type": "markdown",
   "metadata": {},
   "source": [
    "For the `add-interval`, \n",
    "\n",
    "    lower2 = (lower1 x) + (lower1 y)\n",
    "    upper2 = (upper1 x) + (upper1 y)\n",
    "    width2 = (upper2 - lower2) / 2\n",
    "        = ((upper1 x) + (upper1 y) - (lower1 x) - (lower1 y)) / 2\n",
    "        = ((upper1 x) - (lower1 x)) /2 + ((upper1 y) - (lower1 y)) /2\n",
    "        = width-x + width-y\n",
    "\n",
    "For the `sub-interval`, same\n",
    "    \n",
    "    lower2 = (lower1 x) - (upper1 y)\n",
    "    upper2 = (upper1 x) - (lower1 y)\n",
    "    width2 = (upper2 - lower2) / 2\n",
    "        = ((upper1 x) - (lower1 y) - (lower1 x) + (upper1 y)) / 2\n",
    "        = ((upper1 x) - (lower1 x)) /2 + ((upper1 y) - (lower1 y)) /2\n",
    "        = width-x + width-y"
   ]
  },
  {
   "cell_type": "markdown",
   "metadata": {},
   "source": [
    "Example for multiplication, the width of mult is not a function only of the widths.\n",
    "    \n",
    "    [1, 2] multiply [1, 2] => [1, 4]\n",
    "    width: 0.5, 0.5, 1.5,\n",
    "    [1, 2] multiply [100, 101] => [100, 202]\n",
    "    width: 0.5, 0.5, 50.5\n",
    "    new width = (x.upper * y.upper - x.lower * y.lower )/ 2"
   ]
  },
  {
   "cell_type": "markdown",
   "metadata": {},
   "source": [
    "**Exercise 2.10**\n",
    "\n",
    "Span zero means, x * y < 0"
   ]
  },
  {
   "cell_type": "code",
   "execution_count": 10,
   "metadata": {},
   "outputs": [
    {
     "data": {
      "text/plain": [
       "div-interval"
      ]
     },
     "execution_count": 10,
     "metadata": {},
     "output_type": "execute_result"
    }
   ],
   "source": [
    "(define (div-interval x y)\n",
    "  (if (or (and (<= x 0) (>= y 0)) (and (>= x 0) (<= y 0)))\n",
    "      (display \"Span zero error\")\n",
    "      (mul-interval\n",
    "       x (\n",
    "       make-interval (/ 1.0 (upper-bound y))\n",
    "                (/ 1.0 (lower-bound y))))))"
   ]
  },
  {
   "cell_type": "markdown",
   "metadata": {},
   "source": [
    "**Exercise 2.11**\n",
    "\n",
    "*I agree with everyone else here, Ben is very mean.*\n",
    "\n",
    "Try to analyse nine cases:\n",
    "\n",
    "[1,2] [1,2] = [low low, up up] \n",
    "\n",
    "[1,2] [-1,2] = [up low, up up]\n",
    "\n",
    "[1,2] [-2,-1] = [up low, low up]\n",
    "\n",
    "[-1,2] [1,2] = [low up, up up]\n",
    "\n",
    "[-1,2] [-1,2] = [can't decide]\n",
    "\n",
    "[-1,2] [-2,-1] = [up low, low low]\n",
    "\n",
    "[-2,-1] [1,2] = [low up, up low]\n",
    "\n",
    "[-2,-1] [-1,2] = [low up, low low]\n",
    "\n",
    "[-2,-1] [-2,-1] = [up up, low low]"
   ]
  },
  {
   "cell_type": "code",
   "execution_count": 12,
   "metadata": {},
   "outputs": [
    {
     "data": {
      "text/plain": [
       "ben-mul-interval"
      ]
     },
     "execution_count": 12,
     "metadata": {},
     "output_type": "execute_result"
    }
   ],
   "source": [
    "(define (mul-interval x y)\n",
    "  (let ((p1 (* (lower-bound x) (lower-bound y)))\n",
    "        (p2 (* (lower-bound x) (upper-bound y)))\n",
    "        (p3 (* (upper-bound x) (lower-bound y)))\n",
    "        (p4 (* (upper-bound x) (upper-bound y))))\n",
    "   (make-interval (min p1 p2 p3 p4)\n",
    "                  (max p1 p2 p3 p4))))\n",
    "(define (ben-mul-interval x y)\n",
    "  (define lo1 (lower-bound x))\n",
    "  (define hi1 (upper-bound x))\n",
    "  (define lo2 (lower-bound y))\n",
    "  (define hi2 (upper-bound y))\n",
    "  (cond ((and (> lo1 0) (> hi1 0) (> lo2 0) (> hi2 0)) (make-interval (* lo1 lo2) (* hi1 hi2)))\n",
    "        ((and (> lo1 0) (> hi1 0) (< lo2 0) (> hi2 0)) (make-interval (* hi1 lo2) (* hi1 hi2)))\n",
    "        ((and (> lo1 0) (> hi1 0) (< lo2 0) (< hi2 0)) (make-interval (* hi1 lo2) (* lo1 hi2)))\n",
    "        ((and (< lo1 0) (> hi1 0) (> lo2 0) (> hi2 0)) (make-interval (* lo1 hi2) (* hi1 hi2)))\n",
    "        ((and (< lo1 0) (> hi1 0) (< lo2 0) (< hi2 0)) (make-interval (* hi1 lo2) (* lo1 lo2)))\n",
    "        ((and (< lo1 0) (< hi1 0) (> lo2 0) (> hi2 0)) (make-interval (* lo1 hi2) (* hi1 lo2)))\n",
    "        ((and (< lo1 0) (< hi1 0) (< lo2 0) (> hi2 0)) (make-interval (* lo1 hi2) (* lo1 lo2)))\n",
    "        ((and (< lo1 0) (< hi1 0) (< lo2 0) (< hi2 0)) (make-interval (* hi1 hi2) (* lo1 lo2)))\n",
    "        (else (mul-interval x y))))"
   ]
  },
  {
   "cell_type": "markdown",
   "metadata": {},
   "source": [
    "**Exercise 2.12**"
   ]
  },
  {
   "cell_type": "code",
   "execution_count": 16,
   "metadata": {},
   "outputs": [
    {
     "data": {
      "text/plain": [
       "percent"
      ]
     },
     "execution_count": 16,
     "metadata": {},
     "output_type": "execute_result"
    }
   ],
   "source": [
    "(define (make-center-percent c percent)\n",
    "  (make-interval (- c (* c percent 0.01)) (+ c (* c percent 0.01))))\n",
    ";selector percent\n",
    "(define (percent i)\n",
    "  (/ (width i) (center i) 0.01))"
   ]
  },
  {
   "cell_type": "markdown",
   "metadata": {},
   "source": [
    "**Exercise 2.13**"
   ]
  },
  {
   "cell_type": "markdown",
   "metadata": {},
   "source": [
    "Assume all numbers are positive. \n",
    "\n",
    "    [a-t1*a, a+t1*a] [b-t2*b, b+t2*b]\n",
    "\n",
    "Product:\n",
    "\n",
    "    [(a-t1*a) *(b-t2*b), (a+t1*a) *(b+t2*b)]\n",
    "    [ab(1 + t1t2 - t1 -t2), ab(1 + t1t2 + t1 + t2)]\n",
    "    t1t2 << t1 + t2, so\n",
    "    [ab(1 - t1 - t2), ab(1 + t1 + t2)]\n",
    "\n",
    "The formula is simple, just add percentage.\n",
    "\n",
    "    new-t = t1 + t2"
   ]
  },
  {
   "cell_type": "markdown",
   "metadata": {},
   "source": [
    "**Exercise 2.14**\n"
   ]
  },
  {
   "cell_type": "code",
   "execution_count": 5,
   "metadata": {},
   "outputs": [
    {
     "data": {
      "text/plain": [
       "div-interval"
      ]
     },
     "execution_count": 5,
     "metadata": {},
     "output_type": "execute_result"
    }
   ],
   "source": [
    "(define (par1 r1 r2)\n",
    "    (div-interval (mul-interval r1 r2)\n",
    "    (add-interval r1 r2)))\n",
    "(define (par2 r1 r2)\n",
    "    (let ((one (make-interval 1 1)))\n",
    "    (div-interval\n",
    "    one (add-interval (div-interval one r1)\n",
    "    (div-interval one r2)))))\n",
    "(define (mul-interval x y)\n",
    "  (let ((p1 (* (lower-bound x) (lower-bound y)))\n",
    "        (p2 (* (lower-bound x) (upper-bound y)))\n",
    "        (p3 (* (upper-bound x) (lower-bound y)))\n",
    "        (p4 (* (upper-bound x) (upper-bound y))))\n",
    "   (make-interval (min p1 p2 p3 p4)\n",
    "                  (max p1 p2 p3 p4))))\n",
    "(define (add-interval x y)\n",
    "    (make-interval (+ (lower-bound x) (lower-bound y))\n",
    "    (+ (upper-bound x) (upper-bound y))))\n",
    "(define (div-interval x y)\n",
    "    (mul-interval\n",
    "    x (\n",
    "    make-interval (/ 1.0 (upper-bound y))\n",
    "    (/ 1.0 (lower-bound y)))))"
   ]
  },
  {
   "cell_type": "code",
   "execution_count": 15,
   "metadata": {},
   "outputs": [
    {
     "data": {
      "text/plain": [
       "(.8333333333333334 . 33.333333333333336)"
      ]
     },
     "execution_count": 15,
     "metadata": {},
     "output_type": "execute_result"
    }
   ],
   "source": [
    "(par1 (make-interval 5 10) (make-interval 10 50))"
   ]
  },
  {
   "cell_type": "code",
   "execution_count": 16,
   "metadata": {},
   "outputs": [
    {
     "data": {
      "text/plain": [
       "(3.333333333333333 . 8.333333333333332)"
      ]
     },
     "execution_count": 16,
     "metadata": {},
     "output_type": "execute_result"
    }
   ],
   "source": [
    "(par2 (make-interval 5 10) (make-interval 10 50))"
   ]
  },
  {
   "cell_type": "markdown",
   "metadata": {},
   "source": [
    "Actually, interval A/A, should not change and be 1."
   ]
  },
  {
   "cell_type": "code",
   "execution_count": 17,
   "metadata": {},
   "outputs": [
    {
     "data": {
      "text/plain": [
       "(.5 . 2.)"
      ]
     },
     "execution_count": 17,
     "metadata": {},
     "output_type": "execute_result"
    }
   ],
   "source": [
    "(div-interval (make-interval 5 10)(make-interval 5 10))"
   ]
  },
  {
   "cell_type": "code",
   "execution_count": 18,
   "metadata": {},
   "outputs": [
    {
     "data": {
      "text/plain": [
       "(.1 . 1.)"
      ]
     },
     "execution_count": 18,
     "metadata": {},
     "output_type": "execute_result"
    }
   ],
   "source": [
    "(div-interval (make-interval 5 10)(make-interval 10 50))"
   ]
  },
  {
   "cell_type": "markdown",
   "metadata": {},
   "source": [
    "**Exercise 2.15**\n",
    "\n",
    "She is right. `par2` is better. \n",
    "\n",
    "Because in `par1`, it actually computes the interval of four resisters. Although there are two R1, but the interval is not consistent."
   ]
  },
  {
   "cell_type": "markdown",
   "metadata": {},
   "source": [
    "**Exercise 2.16** \n",
    "\n",
    "Explain?\n",
    "\n",
    "For example, this expression (R1 + R2)/ R1 * R2, the numerator and denominator has correlation. The value in numerator will affect denominator.\n",
    "\n",
    "Can you devise an interval-arithmatic package? \n",
    "\n",
    "***A fiendish question. *** *It is not doable.* "
   ]
  }
 ],
 "metadata": {
  "kernelspec": {
   "display_name": "MIT Scheme",
   "language": "scheme",
   "name": "mit-scheme"
  },
  "language_info": {
   "codemirror_mode": "scheme",
   "file_extension": ".scm",
   "mimetype": "application/x-scheme",
   "name": "MIT Scheme",
   "pygments_lexer": "scheme",
   "version": "9.2.1"
  }
 },
 "nbformat": 4,
 "nbformat_minor": 2
}
