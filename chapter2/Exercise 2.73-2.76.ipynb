{
 "cells": [
  {
   "cell_type": "markdown",
   "metadata": {},
   "source": [
    "Exercise 2.73."
   ]
  },
  {
   "cell_type": "markdown",
   "metadata": {},
   "source": [
    "a. We could not derive the operator and operands from numbers and variables, since they are not pairs. The type tag here is \"$+$\" or \"$\\times$\".\n"
   ]
  },
  {
   "cell_type": "code",
   "execution_count": 5,
   "metadata": {},
   "outputs": [
    {
     "data": {
      "text/plain": [
       "operands"
      ]
     },
     "execution_count": 5,
     "metadata": {},
     "output_type": "execute_result"
    }
   ],
   "source": [
    "(define (deriv exp var)\n",
    "   (cond ((number? exp) 0)\n",
    "         ((variable? exp) (if (same-variable? exp var) 1 0))\n",
    "         (else ((get 'deriv (operator exp)) (operands exp)\n",
    "                                            var))))\n",
    "(define (operator exp) (car exp))\n",
    "(define (operands exp) (cdr exp))"
   ]
  },
  {
   "cell_type": "code",
   "execution_count": 9,
   "metadata": {},
   "outputs": [
    {
     "data": {
      "text/plain": [
       "install-deriv"
      ]
     },
     "execution_count": 9,
     "metadata": {},
     "output_type": "execute_result"
    }
   ],
   "source": [
    ";b\n",
    "(define (sum exp var)\n",
    "  (make-sum (deriv (addend exp) var) (deriv (augend exp) var)))\n",
    "(define (products exp var)\n",
    "  (make-sum (make-product (multiplier exp)\n",
    "                          (deriv (multiplicand exp) var))\n",
    "            (make-product (deriv (multiplier exp) var)\n",
    "                          (multiplicand exp))))\n",
    "(define (install-deriv)\n",
    "  (put 'deriv '(+) sum)\n",
    "  (put 'deriv '(*) products))\n"
   ]
  },
  {
   "cell_type": "markdown",
   "metadata": {},
   "source": [
    "c: just add one line code"
   ]
  },
  {
   "cell_type": "code",
   "execution_count": 10,
   "metadata": {},
   "outputs": [
    {
     "ename": "unbound-variable",
     "evalue": "Unbound variable: exponentiation",
     "output_type": "error",
     "traceback": [
      "\u001b[31mUnbound variable: exponentiation\u001b[0m"
     ]
    }
   ],
   "source": [
    "(put 'deriv '(**) exponentiation)"
   ]
  },
  {
   "cell_type": "markdown",
   "metadata": {},
   "source": [
    "d: Just need to change the `put`."
   ]
  },
  {
   "cell_type": "markdown",
   "metadata": {},
   "source": [
    "Exercise 2.74.\n",
    "\n",
    "a: the name or id of division should be provided as the role of tags."
   ]
  },
  {
   "cell_type": "code",
   "execution_count": 4,
   "metadata": {},
   "outputs": [
    {
     "data": {
      "text/plain": [
       "install-address-package"
      ]
     },
     "execution_count": 4,
     "metadata": {},
     "output_type": "execute_result"
    }
   ],
   "source": [
    "(define (attach-tag type-tag contents)\n",
    "  (cons type-tag contents))\n",
    "(define (type-tag file)\n",
    "  (car file))\n",
    "(define (contents file)\n",
    "  (cdr file))\n",
    "\n",
    "(define (tag x) (attach-tag 'division-name x))\n",
    "\n",
    "(put 'make-file 'division-name\n",
    "   (lambda (x) (tag (make-file x))))\n",
    "\n",
    "(define (get-record name file)\n",
    "  (let ((proc (get 'get-record (type-tag file))))\n",
    "    (if proc\n",
    "        (proc name (contents file))\n",
    "        (error\n",
    "           \"No method for these types -- GET-RECORD\"\n",
    "           (list 'get-record (type-tag file))))))\n"
   ]
  },
  {
   "cell_type": "markdown",
   "metadata": {},
   "source": [
    "b: "
   ]
  },
  {
   "cell_type": "code",
   "execution_count": 11,
   "metadata": {},
   "outputs": [
    {
     "data": {
      "text/plain": [
       "get-salary"
      ]
     },
     "execution_count": 11,
     "metadata": {},
     "output_type": "execute_result"
    }
   ],
   "source": [
    "(define (install-xxx1-division-package)\n",
    "  (define (make-record salary addr)\n",
    "    (cons salary addr))\n",
    "  (define (get-salary record)\n",
    "    (car record))\n",
    "  (put 'get-salary 'salary get-salary)\n",
    "  'done)\n",
    "\n",
    "(define (install-xxx2-division-package)\n",
    "  (define (make-record addr salary)\n",
    "    (cons addr salary))\n",
    "  (define (get-salary record)\n",
    "    (cdr record))\n",
    "  (put 'get-salary 'address get-salary)\n",
    "  'done)\n",
    "\n",
    "(define (apply-generic op . args)\n",
    "  (let ((type-tags (map type-tag args)))\n",
    "    (let ((proc (get op type-tags)))\n",
    "      (if proc\n",
    "          (apply proc (map contents args))\n",
    "          (error\n",
    "            \"No method for these types -- APPLY-GENERIC\"\n",
    "            (list op type-tags))))))\n",
    "(define (get-salary record)\n",
    "  (apply-generic 'get-salary record))"
   ]
  },
  {
   "cell_type": "markdown",
   "metadata": {
    "collapsed": true
   },
   "source": [
    "c:"
   ]
  },
  {
   "cell_type": "code",
   "execution_count": 12,
   "metadata": {},
   "outputs": [
    {
     "data": {
      "text/plain": [
       "find-employee-record"
      ]
     },
     "execution_count": 12,
     "metadata": {},
     "output_type": "execute_result"
    }
   ],
   "source": [
    "(define (find-employee-record name files)\n",
    "  (let ((val (get-record (car files))))\n",
    "    (if val\n",
    "        val\n",
    "        (find-employee-record name (cdr files)))))\n"
   ]
  },
  {
   "cell_type": "markdown",
   "metadata": {
    "collapsed": true
   },
   "source": [
    "d: \n",
    "\n",
    "Add package with `put`. Use same procedure name. Make sure the tag is not conflict with others."
   ]
  },
  {
   "cell_type": "markdown",
   "metadata": {
    "collapsed": true
   },
   "source": [
    "Exercise 2.75."
   ]
  },
  {
   "cell_type": "code",
   "execution_count": 1,
   "metadata": {},
   "outputs": [
    {
     "data": {
      "text/plain": [
       "make-from-mag-ang"
      ]
     },
     "execution_count": 1,
     "metadata": {},
     "output_type": "execute_result"
    }
   ],
   "source": [
    "(define (make-from-mag-ang  r a)\n",
    "  (define (dispatch op)\n",
    "    (cond ((eq? op 'magnitude) r)\n",
    "          ((eq? op 'angle) a)\n",
    "          ((eq? op 'real-part)\n",
    "           (* r (cos z)))\n",
    "          ((eq? op 'imag-part)\n",
    "           (* r (sin z)))\n",
    "          (else\n",
    "           (error \"Unknown op -- MAKE-FROM-MAG-ANG\" op))))\n",
    "  dispatch)"
   ]
  },
  {
   "cell_type": "markdown",
   "metadata": {},
   "source": [
    "Exercise 2.76.\n",
    "\n",
    "1. generic operations with explicit dispatch:\n",
    "\n",
    "    *We would need to identify this new representation with a type, and then add a clause to each of the generic interface procedures to check for the new type and apply the appropriate selector for that representation.*\n",
    "\n",
    "    *we must guarantee that no two procedures in the entire system have the same name.*\n",
    "2. data-directed style:\n",
    "    *Generic selectors do not change at all if a new representation is added to the system.*\n",
    "\n",
    "3. and message-passing-style\n",
    "    *No need to change.*\n",
    "    \n",
    "    \n",
    "1. generic operations with explicit dispatch:\n",
    "    1. Adding New Types\n",
    "        \n",
    "        Make sure add **every** selectors for this new type and selectors' name are tagged with this new type which has no name conflict with old code. Add constructor. Modify pre exist general selectors to check for this new type.\n",
    "            \n",
    "    2. Adding new Operations\n",
    "        \n",
    "        Add this operation for **each type**. Then add one general selector for this new op.\n",
    "\n",
    "2. data-directed style:\n",
    "    1. Adding New Types\n",
    "        \n",
    "        Just add one `install-newtype-package`. \n",
    "        \n",
    "        Good. No change for exist code. \n",
    "            \n",
    "    2. Adding new Operations\n",
    "        \n",
    "        Just add one `install-type-package`, add this new operation for every type.\n",
    "        \n",
    "        GOOD.\n",
    "        \n",
    "3. message-passing-style:\n",
    "    1. Adding New Types\n",
    "        \n",
    "        Just add a new constructor with all corresponding procedure internal.\n",
    "        \n",
    "        Good.\n",
    "            \n",
    "    2. Adding new Operations\n",
    "    \n",
    "        Modify **each** constructor for this new op.\n",
    "\n",
    "        \n",
    "        \n"
   ]
  },
  {
   "cell_type": "code",
   "execution_count": null,
   "metadata": {
    "collapsed": true
   },
   "outputs": [],
   "source": []
  }
 ],
 "metadata": {
  "kernelspec": {
   "display_name": "MIT Scheme",
   "language": "scheme",
   "name": "mit-scheme"
  },
  "language_info": {
   "codemirror_mode": "scheme",
   "file_extension": ".scm",
   "mimetype": "application/x-scheme",
   "name": "MIT Scheme",
   "pygments_lexer": "scheme",
   "version": "9.2.1"
  }
 },
 "nbformat": 4,
 "nbformat_minor": 2
}
