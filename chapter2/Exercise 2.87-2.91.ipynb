{
 "cells": [
  {
   "cell_type": "markdown",
   "metadata": {},
   "source": [
    "Excercise 2.87"
   ]
  },
  {
   "cell_type": "code",
   "execution_count": 2,
   "metadata": {},
   "outputs": [
    {
     "ename": "unbound-variable",
     "evalue": "Unbound variable: put",
     "output_type": "error",
     "traceback": [
      "\u001b[31mUnbound variable: put\u001b[0m"
     ]
    }
   ],
   "source": [
    "(put '=zero? '(polynomial)\n",
    "     (lambda (x) (empty-termlist? (term-list x))))"
   ]
  },
  {
   "cell_type": "markdown",
   "metadata": {},
   "source": [
    "Excercise 2.88"
   ]
  },
  {
   "cell_type": "code",
   "execution_count": null,
   "metadata": {
    "collapsed": true
   },
   "outputs": [],
   "source": [
    "(define (sub-poly p1 p2) \n",
    "   (if (same-variable? (variable p1) (variable p2)) \n",
    "       (make-poly (variable p1) \n",
    "                  (sub-terms (term-list p1) \n",
    "                             (term-list p2)))) \n",
    "       (error \"Polys not in same var -- SUB-POLY\" \n",
    "              (list p1 p2))))\n",
    "(define (sub-terms L1 L2)\n",
    "  (add-terms L1 (mul-term-by-all-terms (make-term 0 -1) L2)))"
   ]
  },
  {
   "cell_type": "markdown",
   "metadata": {},
   "source": [
    "Excercise 2.89\n",
    "\n",
    "((100 1) (2 2) (0 1)) For sparse poly"
   ]
  },
  {
   "cell_type": "code",
   "execution_count": 11,
   "metadata": {},
   "outputs": [
    {
     "data": {
      "text/plain": [
       "coeff"
      ]
     },
     "execution_count": 11,
     "metadata": {},
     "output_type": "execute_result"
    }
   ],
   "source": [
    "(define (adjoin-term term term-list)\n",
    "  (if (=zero? (coeff term))\n",
    "      term-list\n",
    "      (cons term term-list)))\n",
    "(define (the-empty-termlist) '())\n",
    "(define (first-term term-list) (car term-list))\n",
    "(define (rest-terms term-list) (cdr term-list))\n",
    "(define (empty-termlist? term-list) (null? term-list))\n",
    "(define (make-term order coeff) (list order coeff))\n",
    "(define (order term) (car term))\n",
    "(define (coeff term) (cadr term))"
   ]
  },
  {
   "cell_type": "markdown",
   "metadata": {},
   "source": [
    "(1 2 0 3 -2 -5) For dense poly\n",
    "\n",
    "We guarantee that the procedures (such as add-terms) that use `adjoin-term` always call it with a higher-order term than appears in the list. "
   ]
  },
  {
   "cell_type": "code",
   "execution_count": 2,
   "metadata": {},
   "outputs": [
    {
     "data": {
      "text/plain": [
       "first-term"
      ]
     },
     "execution_count": 2,
     "metadata": {},
     "output_type": "execute_result"
    }
   ],
   "source": [
    "(define (adjoin-term term term-list)\n",
    "  (cond ((=zero? (coeff term)) term-list)\n",
    "        ((= (- (order term) 1) (order (first-term term-list))) (cons (coeff term) term-list))\n",
    "        (else (adjoin-term term (cons 0 term-list))))\n",
    "\n",
    "(define (first-term term-list)\n",
    "  (list (- (length term-list) 1) (car term-list)))"
   ]
  },
  {
   "cell_type": "code",
   "execution_count": 12,
   "metadata": {
    "scrolled": false
   },
   "outputs": [
    {
     "ename": "unbound-variable",
     "evalue": "Unbound variable: =zero?",
     "output_type": "error",
     "traceback": [
      "\u001b[31mUnbound variable: =zero?\u001b[0m"
     ]
    }
   ],
   "source": [
    "(adjoin-term (make-term 3 4) '(2 3 2 3 5))"
   ]
  },
  {
   "cell_type": "markdown",
   "metadata": {},
   "source": [
    "Excercise 2.90"
   ]
  },
  {
   "cell_type": "code",
   "execution_count": null,
   "metadata": {
    "collapsed": true
   },
   "outputs": [],
   "source": [
    "(define (install-sparse-term-list-package) \n",
    "  (define (adjoin-term-sparse term term-list)\n",
    "    (if (=zero? (coeff term))\n",
    "        term-list\n",
    "        (cons term term-list)))\n",
    "  (define (first-term-sparse term-list) (car term-list)))\n",
    "  <procedures that same>\n",
    "  (define (tag p) (attach-tag 'sparse-list p))\n",
    "  (put 'adjoin-term '(term sparse-list) (lambda (x y) (tag (adjoin-term-sparse x y))))\n",
    "  (put 'first-term '(sparse-list) (lambda (x) (tag (first-term-sparse x))))\n",
    "  \n",
    "(define (install-dense-term-list-package)\n",
    "  (define (adjoin-term-dense term term-list)\n",
    "    (cond ((=zero? (coeff term)) term-list)\n",
    "          ((= (- (order term) 1) (order (first-term term-list))) (cons (coeff term) term-list))\n",
    "          (else (adjoin-term term (cons 0 term-list))))\n",
    "  (define (first-term-dense term-list)\n",
    "    (list (- (length term-list) 1) (car term-list))))\n",
    "  <procedures that same>\n",
    "  (define (tag p) (attach-tag 'dense-list p))\n",
    "  (put 'adjoin-term '(term dense-list) (lambda (x y) (tag (adjoin-term-dense x y))))\n",
    "  (put 'first-term '(dense-list) (lambda (x) (tag (first-term-dense x))))\n",
    "  \n",
    "(define (adjoin-term term term-list) ((apply-generic 'adjoin-term term term-list))\n",
    "(define (first-term term-list) ((apply-generic 'first-term term-list))\n",
    "  \n",
    "\n",
    ";Procedures that same\n",
    "(define (rest-terms term-list) (cdr term-list))\n",
    "(define (empty-termlist? term-list) (null? term-list))\n",
    "(define (make-term order coeff) (list order coeff))\n",
    "(define (order term) (car term))\n",
    "(define (coeff term) (cadr term))\n",
    "(define (the-empty-termlist) '())"
   ]
  },
  {
   "cell_type": "markdown",
   "metadata": {},
   "source": [
    "Exercise 2.91."
   ]
  },
  {
   "cell_type": "code",
   "execution_count": 4,
   "metadata": {},
   "outputs": [
    {
     "ename": "simple-error",
     "evalue": "Ill-formed special form: (let (...) <form complete result>)",
     "output_type": "error",
     "traceback": [
      "\u001b[31mIll-formed special form: (let (...) <form complete result>)\u001b[0m"
     ]
    }
   ],
   "source": [
    "(define (div-terms L1 L2)\n",
    "  (if (empty-termlist? L1)\n",
    "      (list (the-empty-termlist) (the-empty-termlist))\n",
    "      (let ((t1 (first-term L1))\n",
    "            (t2 (first-term L2)))\n",
    "        (if (> (order t2) (order t1))\n",
    "            (list (the-empty-termlist) L1)\n",
    "            (let ((new-c (div (coeff t1) (coeff t2)))\n",
    "                  (new-o (- (order t1) (order t2))))\n",
    "              (let ((rest-of-result\n",
    "                     <compute rest of result recursively>\n",
    "                     ))\n",
    "                <form complete result>\n",
    "                ))))))\n",
    "\n",
    ";<compute rest of result recursively>\n",
    "(div-terms (sub-terms L1 (mul-terms L2 (make-term new-o new-c))) L2)\n",
    "\n",
    ";<form complete result>\n",
    "(adjoin-term (make-term new-o new-c) rest-of-result)\n",
    "\n",
    "\n",
    "(define (div-poly p1 p2)\n",
    "  (cond ((same-variable? (variable p1) (variable p2))\n",
    "         (error \"Polys not in same var -- DIV-POLY\"\n",
    "             (list p1 p2)))\n",
    "        ((=zero p2) (error \"Divisor can't be zero -- DIV-POLY\"))\n",
    "        (else (map (lambda (x) (make-poly (variable p1) x))\n",
    "                   (div-terms (term-list p1)\n",
    "                              (term-list p2))))))"
   ]
  },
  {
   "cell_type": "code",
   "execution_count": null,
   "metadata": {
    "collapsed": true
   },
   "outputs": [],
   "source": []
  }
 ],
 "metadata": {
  "kernelspec": {
   "display_name": "MIT Scheme",
   "language": "scheme",
   "name": "mit-scheme"
  },
  "language_info": {
   "codemirror_mode": "scheme",
   "file_extension": ".scm",
   "mimetype": "application/x-scheme",
   "name": "MIT Scheme",
   "pygments_lexer": "scheme",
   "version": "9.2.1"
  }
 },
 "nbformat": 4,
 "nbformat_minor": 2
}
