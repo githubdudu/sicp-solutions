{
 "cells": [
  {
   "cell_type": "markdown",
   "metadata": {},
   "source": [
    "**Exercise 2.67.**\n",
    "\n",
    "*Below is about Huffman encoding trees*\n",
    "\n",
    "It includes: \n",
    "\n",
    "    (symbol & weight) pair list(data) -> generate-huffman-tree (procedure) -> huffman-encoding-tree (data)\n",
    "    list of bits & tree(data) -> decode (procedure) -> message (data)\n",
    "    message & tree(data) -> encode (procedure) -> list of bits (data)\n",
    "\n",
    "Exercises are complements of that in textbook.\n",
    "\n",
    "2.67 is to let you try the decoding procedure. 2.68 is to design a encode procedure. 2.69 & 2.70 is about generate-huffman-tree.  \n",
    "\n",
    "(a d a b b c a)"
   ]
  },
  {
   "cell_type": "code",
   "execution_count": 30,
   "metadata": {},
   "outputs": [
    {
     "data": {
      "text/plain": [
       "sample-message"
      ]
     },
     "execution_count": 30,
     "metadata": {},
     "output_type": "execute_result"
    }
   ],
   "source": [
    "(define sample-tree\n",
    "  (make-code-tree (make-leaf 'A 4)\n",
    "                  (make-code-tree\n",
    "                   (make-leaf 'B 2)\n",
    "                   (make-code-tree (make-leaf 'D 1)\n",
    "                                   (make-leaf 'C 1)))))\n",
    "\n",
    "(define sample-message '(0 1 1 0 0 1 0 1 0 1 1 1 0))"
   ]
  },
  {
   "cell_type": "code",
   "execution_count": 19,
   "metadata": {},
   "outputs": [
    {
     "data": {
      "text/plain": [
       "(a d a b b c a)"
      ]
     },
     "execution_count": 19,
     "metadata": {},
     "output_type": "execute_result"
    }
   ],
   "source": [
    "(define (decode bits tree)\n",
    "  (define (decode-1 bits current-branch)\n",
    "    (if (null? bits)\n",
    "        '()\n",
    "        (let ((next-branch\n",
    "               (choose-branch (car bits) current-branch)))\n",
    "          (if (leaf? next-branch)\n",
    "              (cons (symbol-leaf next-branch)\n",
    "                    (decode-1 (cdr bits) tree))\n",
    "              (decode-1 (cdr bits) next-branch)))))\n",
    "  (decode-1 bits tree))\n",
    "(define (choose-branch bit branch)\n",
    "  (cond ((= bit 0) (left-branch branch))\n",
    "        ((= bit 1) (right-branch branch))\n",
    "        (else (error \"bad bit -- CHOOSE-BRANCH\" bit))))\n",
    "(decode sample-message sample-tree)"
   ]
  },
  {
   "cell_type": "code",
   "execution_count": 17,
   "metadata": {},
   "outputs": [
    {
     "data": {
      "text/plain": [
       "weight"
      ]
     },
     "execution_count": 17,
     "metadata": {},
     "output_type": "execute_result"
    }
   ],
   "source": [
    "; Predefined\n",
    "\n",
    "(define (make-leaf symbol weight)\n",
    "  (list 'leaf symbol weight))\n",
    "(define (leaf? object)\n",
    "  (eq? (car object) 'leaf))\n",
    "(define (symbol-leaf x) (cadr x))\n",
    "(define (weight-leaf x) (caddr x))\n",
    "(define (make-code-tree left right)\n",
    "  (list left\n",
    "        right\n",
    "        (append (symbols left) (symbols right))\n",
    "        (+ (weight left) (weight right))))\n",
    "\n",
    "(define (left-branch tree) (car tree))\n",
    "(define (right-branch tree) (cadr tree))\n",
    "(define (symbols tree)\n",
    "  (if (leaf? tree)\n",
    "      (list (symbol-leaf tree))\n",
    "      (caddr tree)))\n",
    "(define (weight tree)\n",
    "  (if (leaf? tree)\n",
    "      (weight-leaf tree)\n",
    "      (cadddr tree)))"
   ]
  },
  {
   "cell_type": "markdown",
   "metadata": {},
   "source": [
    "**Exercise 2.68.**\n",
    "\n",
    "(a d a b b c a) =>  '(0 1 1 0 0 1 0 1 0 1 1 1 0)"
   ]
  },
  {
   "cell_type": "code",
   "execution_count": 28,
   "metadata": {},
   "outputs": [
    {
     "data": {
      "text/plain": [
       "tree-has-symbol?"
      ]
     },
     "execution_count": 28,
     "metadata": {},
     "output_type": "execute_result"
    }
   ],
   "source": [
    "(define (encode message tree)\n",
    "  (if (null? message)\n",
    "      '()\n",
    "      (append (encode-symbol (car message) tree)\n",
    "              (encode (cdr message) tree))))\n",
    "\n",
    "(define (encode-symbol str t)\n",
    "  (cond ((or (null? t) (not (tree-has-symbol? str t))) (error \" the symbol is not in the tree at all\" t))\n",
    "        ((leaf? t) '())\n",
    "        ((tree-has-symbol? str (left-branch t)) (cons 0 (encode-symbol str (left-branch t))))\n",
    "        (else (cons 1 (encode-symbol str (right-branch t))))))\n",
    "(define (tree-has-symbol? s t)\n",
    "  (memq s (symbols t)))"
   ]
  },
  {
   "cell_type": "code",
   "execution_count": 31,
   "metadata": {
    "scrolled": true
   },
   "outputs": [
    {
     "data": {
      "text/plain": [
       "(0 1 1 0 0 1 0 1 0 1 1 1 0)"
      ]
     },
     "execution_count": 31,
     "metadata": {},
     "output_type": "execute_result"
    }
   ],
   "source": [
    "(encode '(a d a b b c a) sample-tree)"
   ]
  },
  {
   "cell_type": "markdown",
   "metadata": {},
   "source": [
    "**Exercise 2.69.**\n",
    "\n"
   ]
  },
  {
   "cell_type": "code",
   "execution_count": 5,
   "metadata": {},
   "outputs": [
    {
     "data": {
      "text/plain": [
       "make-leaf-set"
      ]
     },
     "execution_count": 5,
     "metadata": {},
     "output_type": "execute_result"
    }
   ],
   "source": [
    ";predefined\n",
    "(define (adjoin-set x set)\n",
    "  (cond ((null? set) (list x))\n",
    "        ((< (weight x) (weight (car set))) (cons x set))\n",
    "        (else (cons (car set)\n",
    "                    (adjoin-set x (cdr set))))))\n",
    "\n",
    "(define (make-leaf-set pairs)\n",
    "  (if (null? pairs)\n",
    "      '()\n",
    "      (let ((pair (car pairs)))\n",
    "        (adjoin-set (make-leaf (car pair)    ; symbol\n",
    "                               (cadr pair))  ; frequency\n",
    "                    (make-leaf-set (cdr pairs))))))"
   ]
  },
  {
   "cell_type": "code",
   "execution_count": 34,
   "metadata": {},
   "outputs": [
    {
     "data": {
      "text/plain": [
       "()"
      ]
     },
     "execution_count": 34,
     "metadata": {},
     "output_type": "execute_result"
    }
   ],
   "source": [
    "(make-leaf-set '())"
   ]
  },
  {
   "cell_type": "code",
   "execution_count": 36,
   "metadata": {},
   "outputs": [
    {
     "data": {
      "text/plain": [
       "successive-merge"
      ]
     },
     "execution_count": 36,
     "metadata": {},
     "output_type": "execute_result"
    }
   ],
   "source": [
    "(define (generate-huffman-tree pairs)\n",
    "  (successive-merge (make-leaf-set pairs)))\n",
    "\n",
    "(define (successive-merge ordered-leaves)\n",
    "  (cond ((null? ordered-leaves) '())\n",
    "        ((= (length ordered-leaves) 1) (car ordered-leaves))\n",
    "        (else (let ((new-tree (make-code-tree (car ordered-leaves) (cadr ordered-leaves)))\n",
    "                    (rest-leaves (cddr ordered-leaves)))\n",
    "                (successive-merge (adjoin-set new-tree rest-leaves))))))\n"
   ]
  },
  {
   "cell_type": "markdown",
   "metadata": {},
   "source": [
    "**Exercise 2.70.** \n",
    "\n",
    "84 bits is needed.\n",
    "\n",
    "Using fixed-length for 8 symbols, each needs 3bits. Totally: 3 X (2 + 16 + 1+3+2+9+2+1) = 108"
   ]
  },
  {
   "cell_type": "code",
   "execution_count": 3,
   "metadata": {
    "scrolled": true
   },
   "outputs": [
    {
     "ename": "unbound-variable",
     "evalue": "Unbound variable: make-leaf-set",
     "output_type": "error",
     "traceback": [
      "\u001b[31mUnbound variable: make-leaf-set\u001b[0m"
     ]
    }
   ],
   "source": [
    ";symbol-frequency pairs \n",
    "(define songs '((A 2) (NA 16) (BOOM 1) (SHA 3) (GET 2) (YIP 9) (JOB 2) (WAH 1)))\n",
    "(make-leaf-set songs)\n",
    "(generate-huffman-tree songs)"
   ]
  },
  {
   "cell_type": "code",
   "execution_count": 4,
   "metadata": {},
   "outputs": [
    {
     "ename": "unbound-variable",
     "evalue": "Unbound variable: generate-huffman-tree",
     "output_type": "error",
     "traceback": [
      "\u001b[31mUnbound variable: generate-huffman-tree\u001b[0m"
     ]
    }
   ],
   "source": [
    "(encode '(Sha boom) (generate-huffman-tree songs))"
   ]
  },
  {
   "cell_type": "markdown",
   "metadata": {},
   "source": [
    "    (1 1 1 1 1 1 1 0 0 1 1 1 1 0) ;Get a job\n",
    "    (1 1 1 0 0 0 0 0 0 0 0 0);Sha na na na na na na na na\n",
    "    (1 1 1 1 1 1 1 0 0 1 1 1 1 0) ;Get a job\n",
    "    (1 1 1 0 0 0 0 0 0 0 0 0) ;Sha na na na na na na na na\n",
    "    (1 1 0 1 0 1 0 1 0 1 0 1 0 1 0 1 0 1 0 1 0 1 0);Wah yip yip yip yip yip yip yip yip yip\n",
    "    (1 1 1 0 1 1 0 1 1) ;Sha boom"
   ]
  },
  {
   "cell_type": "markdown",
   "metadata": {},
   "source": [
    "**Exercise 2.71.** \n",
    "\n",
    "n = 5, the depth of tree is 4, 4 bits are required for encode the most frequent symbol. The least: 1 bits."
   ]
  },
  {
   "cell_type": "markdown",
   "metadata": {},
   "source": [
    "**Exercise 2.72.** \n",
    "\n",
    "the most frequent: search the symbol list: n, search how many node: 1    O(n)\n",
    "\n",
    "the least frequent: search the symbol list: n,n-1,n-2, n-3 ...        O(n^2)"
   ]
  },
  {
   "cell_type": "code",
   "execution_count": null,
   "metadata": {
    "collapsed": true
   },
   "outputs": [],
   "source": []
  }
 ],
 "metadata": {
  "kernelspec": {
   "display_name": "MIT Scheme",
   "language": "scheme",
   "name": "mit-scheme"
  },
  "language_info": {
   "codemirror_mode": "scheme",
   "file_extension": ".scm",
   "mimetype": "application/x-scheme",
   "name": "MIT Scheme",
   "pygments_lexer": "scheme",
   "version": "9.2.1"
  }
 },
 "nbformat": 4,
 "nbformat_minor": 2
}
