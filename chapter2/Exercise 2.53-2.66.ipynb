{
 "cells": [
  {
   "cell_type": "markdown",
   "metadata": {},
   "source": [
    "**Exercise 2.53**"
   ]
  },
  {
   "cell_type": "code",
   "execution_count": 29,
   "metadata": {
    "scrolled": true
   },
   "outputs": [
    {
     "data": {
      "text/plain": [
       "(a b c)"
      ]
     },
     "execution_count": 29,
     "metadata": {},
     "output_type": "execute_result"
    }
   ],
   "source": [
    "(list 'a 'b 'c)\n",
    ";(list (list 'george))\n",
    ";(cdr '((x1 x2) (y1 y2)))\n",
    ";(cadr '((x1 x2) (y1 y2)))\n",
    ";(pair? (car '(a short list)))\n",
    ";(memq 'red '((red shoes) (blue socks)))\n",
    ";(memq 'red '(red shoes blue socks))"
   ]
  },
  {
   "cell_type": "markdown",
   "metadata": {},
   "source": [
    "**Exercise 2.54**"
   ]
  },
  {
   "cell_type": "code",
   "execution_count": 19,
   "metadata": {},
   "outputs": [
    {
     "data": {
      "text/plain": [
       "equal?"
      ]
     },
     "execution_count": 19,
     "metadata": {},
     "output_type": "execute_result"
    }
   ],
   "source": [
    "(define (equal? list1 list2)\n",
    "  (cond ((and (null? list1) (null? list2)) true)\n",
    "        ((and (symbol? list1) (symbol? list2)) (eq? list1 list2))\n",
    "        ((and (pair? list1) (pair? list2))\n",
    "         (and (equal? (car list1) (car list2)) (equal? (cdr list1) (cdr list2))))\n",
    "        (else #f)))"
   ]
  },
  {
   "cell_type": "code",
   "execution_count": 22,
   "metadata": {},
   "outputs": [
    {
     "data": {
      "text/plain": [
       "#t"
      ]
     },
     "execution_count": 22,
     "metadata": {},
     "output_type": "execute_result"
    }
   ],
   "source": [
    "(eq? '() '())"
   ]
  },
  {
   "cell_type": "code",
   "execution_count": 21,
   "metadata": {},
   "outputs": [
    {
     "data": {
      "text/plain": [
       "#t"
      ]
     },
     "execution_count": 21,
     "metadata": {},
     "output_type": "execute_result"
    }
   ],
   "source": [
    "(equal? '(this is a list) '(this is a list))\n",
    "\n",
    "\n",
    ";(equal? '(this is a list) '(this (is a) list))"
   ]
  },
  {
   "cell_type": "markdown",
   "metadata": {
    "collapsed": true
   },
   "source": [
    "**Exercise 2.55**\n",
    "\n",
    "\"The meaning of the single quote character is to quote the next object。\" The next object is `'`, is `quote`."
   ]
  },
  {
   "cell_type": "code",
   "execution_count": 3,
   "metadata": {},
   "outputs": [
    {
     "data": {
      "text/plain": [
       "(quote bracadabra)"
      ]
     },
     "execution_count": 3,
     "metadata": {},
     "output_type": "execute_result"
    }
   ],
   "source": [
    " '' bracadabra"
   ]
  },
  {
   "cell_type": "markdown",
   "metadata": {
    "collapsed": true
   },
   "source": [
    "**Exercise 2.56**\n",
    "\n",
    "Adding a new clause to the deriv program and defining\n",
    "appropriate procedures `exponentiation?`, `base`, `exponent`,\n",
    "and `make-exponentiation`. "
   ]
  },
  {
   "cell_type": "code",
   "execution_count": 12,
   "metadata": {},
   "outputs": [
    {
     "data": {
      "text/plain": [
       "multiplicand"
      ]
     },
     "execution_count": 12,
     "metadata": {},
     "output_type": "execute_result"
    }
   ],
   "source": [
    "(define (variable? x) (symbol? x))\n",
    "(define (same-variable? v1 v2)\n",
    "  (and (variable? v1) (variable? v2) (eq? v1 v2)))\n",
    "(define (make-sum a1 a2)\n",
    "  (cond ((=number? a1 0) a2)\n",
    "        ((=number? a2 0) a1)\n",
    "        ((and (number? a1) (number? a2)) (+ a1 a2))\n",
    "        (else (list '+ a1 a2))))\n",
    "\n",
    "(define (=number? exp num)\n",
    "  (and (number? exp) (= exp num)))\n",
    "\n",
    "(define (make-product m1 m2)\n",
    "  (cond ((or (=number? m1 0) (=number? m2 0)) 0)\n",
    "        ((=number? m1 1) m2)\n",
    "        ((=number? m2 1) m1)\n",
    "        ((and (number? m1) (number? m2)) (* m1 m2))\n",
    "        (else (list '* m1 m2))))\n",
    "(define (sum? x)\n",
    "  (and (pair? x) (eq? (car x) '+)))\n",
    "(define (addend s) (cadr s))\n",
    "(define (augend s) (caddr s))\n",
    "(define (product? x)\n",
    "  (and (pair? x) (eq? (car x) '*)))\n",
    "(define (multiplier p) (cadr p))\n",
    "(define (multiplicand p) (caddr p))"
   ]
  },
  {
   "cell_type": "code",
   "execution_count": 23,
   "metadata": {},
   "outputs": [
    {
     "data": {
      "text/plain": [
       "make-exponentiation"
      ]
     },
     "execution_count": 23,
     "metadata": {},
     "output_type": "execute_result"
    }
   ],
   "source": [
    "(define (deriv exp var)\n",
    "  (cond ((number? exp) 0)\n",
    "        ((variable? exp)\n",
    "         (if (same-variable? exp var) 1 0))\n",
    "        ((sum? exp)\n",
    "         (make-sum (deriv (addend exp) var)\n",
    "                   (deriv (augend exp) var)))\n",
    "        ((product? exp)\n",
    "         (make-sum\n",
    "           (make-product (multiplier exp)\n",
    "                         (deriv (multiplicand exp) var))\n",
    "           (make-product (deriv (multiplier exp) var)\n",
    "                         (multiplicand exp))))\n",
    "        ((exponentiation? exp)\n",
    "         (make-product (make-product (exponent exp) (make-exponentiation (base exp) (- (exponent exp) 1)))\n",
    "                       (deriv (base exp) var)))\n",
    "        (else\n",
    "         (error \"unknown expression type -- DERIV\" exp))))\n",
    "; A exponentiation is a list whose first element is the symbol **:\n",
    "(define (exponentiation? x)\n",
    "  (and (pair? x) (eq? (car x) '**)))\n",
    ";The base is the second item of the exponent list:\n",
    "(define (base e) (cadr e))\n",
    ";The exponent is the third item of the exponent list:\n",
    "(define (exponent e) (caddr e))\n",
    "(define (make-exponentiation b e)\n",
    "  (cond ((= e 0) 1)\n",
    "        ((= e 1) b)\n",
    "        (else (list '** b e))))"
   ]
  },
  {
   "cell_type": "code",
   "execution_count": 31,
   "metadata": {},
   "outputs": [
    {
     "data": {
      "text/plain": [
       "(* (* 2 (* x y)) y)"
      ]
     },
     "execution_count": 31,
     "metadata": {},
     "output_type": "execute_result"
    }
   ],
   "source": [
    "(deriv '(** (* x y) 2) 'x)"
   ]
  },
  {
   "cell_type": "markdown",
   "metadata": {
    "collapsed": true
   },
   "source": [
    "**Exercise 2.57.**"
   ]
  },
  {
   "cell_type": "code",
   "execution_count": 33,
   "metadata": {},
   "outputs": [
    {
     "data": {
      "text/plain": [
       "(+ 2 3)"
      ]
     },
     "execution_count": 33,
     "metadata": {},
     "output_type": "execute_result"
    }
   ],
   "source": [
    "(define (addend s) (cadr s))\n",
    "(define (augend s) \n",
    "  (cond ((= 1 (length s))(caddr s))\n",
    "        (else (cons (car s) (cddr s)))))\n",
    "(define (product? x)\n",
    "  (and (pair? x) (eq? (car x) '*)))\n",
    "(define (multiplier p) (cadr p))\n",
    "(define (multiplicand p)\n",
    "  (cond ((= 1 (length s))(caddr s))\n",
    "        (else (cons (car s) (cddr s)))))\n",
    "\n",
    "(define s '(+ 1 2 3))\n",
    "(cons (car s) (cddr s))"
   ]
  },
  {
   "cell_type": "markdown",
   "metadata": {},
   "source": [
    "**Exercise 2.58.** \n",
    "\n",
    "Using stack. Haha."
   ]
  },
  {
   "cell_type": "markdown",
   "metadata": {},
   "source": [
    "**Exercise 2.59.** \n",
    "\n"
   ]
  },
  {
   "cell_type": "code",
   "execution_count": 39,
   "metadata": {},
   "outputs": [
    {
     "data": {
      "text/plain": [
       "union-set"
      ]
     },
     "execution_count": 39,
     "metadata": {},
     "output_type": "execute_result"
    }
   ],
   "source": [
    "(define (union-set set1 set2)\n",
    "  (cond ((null? set1) set2)\n",
    "        ((element-of-set? (car set1) set2)\n",
    "         (union-set (cdr set1) set2))\n",
    "        (else (cons (car set1)\n",
    "                    (union-set (cdr set1) set2)))))"
   ]
  },
  {
   "cell_type": "code",
   "execution_count": 45,
   "metadata": {
    "scrolled": true
   },
   "outputs": [
    {
     "data": {
      "text/plain": [
       "(1 2 4 3)"
      ]
     },
     "execution_count": 45,
     "metadata": {},
     "output_type": "execute_result"
    }
   ],
   "source": [
    "(define (element-of-set? x set)\n",
    "  (cond ((null? set) false)\n",
    "        ((equal? x (car set)) true)\n",
    "        (else (element-of-set? x (cdr set)))))\n",
    "(union-set '(1 2) '(4 3))"
   ]
  },
  {
   "cell_type": "markdown",
   "metadata": {},
   "source": [
    "**Exercise 2.60.** \n",
    "\n",
    "\"With the need to check for pre-existence lifted, the procedure adjoin-set can be a straight cons and the time complexity drops to Θ(1).\n",
    "\n",
    "Also, union-set can now become a straight append and its time complexity drops to Θ(n).\"\n",
    "\n",
    "I wouldn't use the duplicate sets. The efficiency of add and combine improves but the cost of search becomes worse.(intersection-set becomes much worse $Θ(n\\times n)$"
   ]
  },
  {
   "cell_type": "code",
   "execution_count": 51,
   "metadata": {},
   "outputs": [
    {
     "data": {
      "text/plain": [
       "union-set"
      ]
     },
     "execution_count": 51,
     "metadata": {},
     "output_type": "execute_result"
    }
   ],
   "source": [
    ";element-of-set?, adjoin-set, union-set, and intersection-set\n",
    "; no change\n",
    "(define (element-of-set? x set)\n",
    "  (cond ((null? set) false)\n",
    "        ((equal? x (car set)) true)\n",
    "        (else (element-of-set? x (cdr set)))))\n",
    "; delete predicate element-of-set? \n",
    "(define (adjoin-set x set)\n",
    "  (cons x set))\n",
    "\n",
    "; no change\n",
    "(define (intersection-set set1 set2)\n",
    "  (cond ((or (null? set1) (null? set2)) '())\n",
    "        ((element-of-set? (car set1) set2)        \n",
    "         (cons (car set1)\n",
    "               (intersection-set (cdr set1) set2)))\n",
    "        (else (intersection-set (cdr set1) set2))))\n",
    "\n",
    "(define (union-set set1 set2)\n",
    "  (append set1 set2))"
   ]
  },
  {
   "cell_type": "markdown",
   "metadata": {},
   "source": [
    "**Exercise 2.61.** \n",
    "\n"
   ]
  },
  {
   "cell_type": "code",
   "execution_count": null,
   "metadata": {
    "collapsed": true
   },
   "outputs": [],
   "source": [
    "(define (element-of-set? x set)\n",
    "  (cond ((null? set) false)\n",
    "        ((= x (car set)) true)\n",
    "        ((< x (car set)) false)\n",
    "        (else (element-of-set? x (cdr set)))))\n",
    "\n",
    ";By analogy with element-of-set? \n",
    "(define (adjoin-set x set)\n",
    "  (define (adjoin-set-iter item set-head set-tail)\n",
    "    (cond ((null? set-tail) (append set-head (list item)))\n",
    "          ((= x (car set-tail)) (append set-head set-tail))\n",
    "          ((< x (car set-tail)) (append set-head (cons x set-tail)))\n",
    "          (else (adjoin-set-iter item (append set-head (list (car set-tail))) (cdr set-tail)))))\n",
    "  (adjoin-set-iter x '() set))\n"
   ]
  },
  {
   "cell_type": "code",
   "execution_count": 5,
   "metadata": {},
   "outputs": [
    {
     "data": {
      "text/plain": [
       "(1 2)"
      ]
     },
     "execution_count": 5,
     "metadata": {},
     "output_type": "execute_result"
    }
   ],
   "source": [
    "(append '() '(1 2))"
   ]
  },
  {
   "cell_type": "markdown",
   "metadata": {},
   "source": [
    "**Exercise 2.62.** \n",
    "\n",
    "Give a (n) implementation of union-set"
   ]
  },
  {
   "cell_type": "code",
   "execution_count": 6,
   "metadata": {},
   "outputs": [
    {
     "data": {
      "text/plain": [
       "union-set"
      ]
     },
     "execution_count": 6,
     "metadata": {},
     "output_type": "execute_result"
    }
   ],
   "source": [
    "(define (union-set set1 set2)\n",
    "  (cond ((null? set1) set2)\n",
    "        ((null? set2) set1)\n",
    "        ((= (car set1) (car set2)) (cons (car set1) (union-set (cdr set1) (cdr set2))))\n",
    "        ((< (car set1) (car set2)) (cons (car set1) (union-set (cdr set1) set2)))\n",
    "        (else (cons (car set2) (union-set set1 (cdr set2))))))\n"
   ]
  },
  {
   "cell_type": "markdown",
   "metadata": {},
   "source": [
    "**Exercise 2.63.** \n",
    "\n",
    "Analyze two procedures.\n",
    "\n",
    "An ordered list will be produced.\n",
    "\n",
    "a. Using either function, the trees all evaluate to the same list:\n",
    "\n",
    "b. The first function is of O(n log n) complexity. The second function is of O(n) complexity."
   ]
  },
  {
   "cell_type": "code",
   "execution_count": 40,
   "metadata": {},
   "outputs": [
    {
     "data": {
      "text/plain": [
       "make-tree"
      ]
     },
     "execution_count": 40,
     "metadata": {},
     "output_type": "execute_result"
    }
   ],
   "source": [
    "(define (tree->list-1 tree)\n",
    "  (if (null? tree)\n",
    "      '()\n",
    "      (append (tree->list-1 (left-branch tree))\n",
    "              (cons (entry tree)\n",
    "                    (tree->list-1 (right-branch tree))))))\n",
    "(define (tree->list-2 tree)\n",
    "  (define (copy-to-list tree result-list)\n",
    "    (if (null? tree)\n",
    "        result-list\n",
    "        (copy-to-list (left-branch tree)\n",
    "                      (cons (entry tree)\n",
    "                            (copy-to-list (right-branch tree)\n",
    "                                          result-list)))))\n",
    "  (copy-to-list tree '()))\n",
    "\n",
    "(define (entry tree) (car tree))\n",
    "(define (left-branch tree) (cadr tree))\n",
    "(define (right-branch tree) (caddr tree))\n",
    "(define (make-tree entry left right)\n",
    "  (list entry left right))"
   ]
  },
  {
   "cell_type": "markdown",
   "metadata": {},
   "source": [
    "    (tree->list-1 '(7 (3 (1 () ()) (5 () ())) (9 () (11 () ()))))\n",
    "    (append (f'(3 (1) (5))) (cons 7 (f '(9 () (11)) )))\n",
    "    (append (append f '(1) (cons 3 (f '(5)))) (cons 7 (append f '() (cons 9 (f '(11)))))\n",
    "    f '(1) = (append (f nil) (cons 1 (f nil))) = (1)"
   ]
  },
  {
   "cell_type": "code",
   "execution_count": 42,
   "metadata": {},
   "outputs": [
    {
     "data": {
      "text/plain": [
       "(1 3 5 7 9 11)"
      ]
     },
     "execution_count": 42,
     "metadata": {},
     "output_type": "execute_result"
    }
   ],
   "source": [
    "(tree->list-1 '(7 (3 (1 () ()) (5 () ())) (9 () (11 () ()))))\n",
    "(tree->list-2 '(7 (3 (1 () ()) (5 () ())) (9 () (11 () ()))))"
   ]
  },
  {
   "cell_type": "markdown",
   "metadata": {},
   "source": [
    "**Exercise 2.64.** \n",
    "\n",
    "Θ(n)"
   ]
  },
  {
   "cell_type": "code",
   "execution_count": null,
   "metadata": {
    "collapsed": true
   },
   "outputs": [],
   "source": [
    "(define (list->tree elements)\n",
    "  (car (partial-tree elements (length elements))))\n",
    "\n",
    "(define (partial-tree elts n)\n",
    "  (if (= n 0)\n",
    "      (cons '() elts)\n",
    "      (let ((left-size (quotient (- n 1) 2)))\n",
    "        (let ((left-result (partial-tree elts left-size)))\n",
    "          (let ((left-tree (car left-result))\n",
    "                (non-left-elts (cdr left-result))\n",
    "                (right-size (- n (+ left-size 1))))\n",
    "            (let ((this-entry (car non-left-elts))\n",
    "                  (right-result (partial-tree (cdr non-left-elts)\n",
    "                                              right-size)))\n",
    "              (let ((right-tree (car right-result))\n",
    "                    (remaining-elts (cdr right-result)))\n",
    "                (cons (make-tree this-entry left-tree right-tree)\n",
    "                      remaining-elts))))))))"
   ]
  },
  {
   "cell_type": "code",
   "execution_count": null,
   "metadata": {
    "collapsed": true
   },
   "outputs": [],
   "source": [
    "(list->tree (1 3 5 7 9 11))\n",
    "(car (partial-tree (1 3 5 7 9 11) 6))\n",
    ";(left-size 2) (left-tree (car (partial-tree (1 3 5 7 9 11) 2)))\n",
    ";(left-size 2) (left-tree (car ( (left-size 0) (left-tree '()) (right-size 1) (this-entry 1) (right-result (partial-tree (3 5 7 9 11) 1)))))\n",
    "(1 3 5 7 9 11)\n",
    "(5 (1 3) (7 9 11))\n",
    "(5 (1 () (3 () ())) (9 (7 () ()) (11 () ())))"
   ]
  },
  {
   "cell_type": "markdown",
   "metadata": {},
   "source": [
    "**Exercise 2.65.** \n",
    "\n",
    "Combine three Θ(n) procedure: `union-set` (ordered list version), `intersection-set` (ordered list version), `list->tree`, `tree->list-2`.\n",
    "\n",
    "Θ(3n) = Θ(n)\n"
   ]
  },
  {
   "cell_type": "code",
   "execution_count": null,
   "metadata": {
    "collapsed": true
   },
   "outputs": [],
   "source": [
    "(define (union-set set1 set2)\n",
    "  (cond ((null? set1) set2)\n",
    "        ((null? set2) set1)\n",
    "        ((= (car set1) (car set2)) (cons (car set1) (union-set (cdr set1) (cdr set2))))\n",
    "        ((< (car set1) (car set2)) (cons (car set1) (union-set (cdr set1) set2)))\n",
    "        (else (cons (car set2) (union-set set1 (cdr set2))))))\n",
    "\n",
    "(define (union-set-new t1 t2)\n",
    "  (list->tree (union-set (tree->list t1) (tree->list t2))))\n",
    "\n",
    "(define (intersection-set-new t1 t2)\n",
    "  (list->tree (intersection-set (tree->list t1) (tree->list t2))))"
   ]
  },
  {
   "cell_type": "markdown",
   "metadata": {},
   "source": [
    "**Exercise 2.66.** \n",
    "\n",
    " Implement the lookup procedure for the case where the set of records is structured as a binary tree, ordered by the numerical values of the keys."
   ]
  },
  {
   "cell_type": "code",
   "execution_count": 43,
   "metadata": {},
   "outputs": [
    {
     "data": {
      "text/plain": [
       "lookup"
      ]
     },
     "execution_count": 43,
     "metadata": {},
     "output_type": "execute_result"
    }
   ],
   "source": [
    "(define (lookup given-key set-of-records)\n",
    "  (cond ((null? set-of-records) false)\n",
    "        ((equal? given-key (key (entry set-of-records)))\n",
    "         (entry set-of-records))\n",
    "        ((> given-key (key (entry set-of-records))) (lookup given-key (right-branch set-of-records)))\n",
    "        (else (lookup givin-key (left-branch set-of-records)))))"
   ]
  },
  {
   "cell_type": "code",
   "execution_count": 26,
   "metadata": {
    "scrolled": true
   },
   "outputs": [
    {
     "ename": "wrong-type-argument",
     "evalue": "The object 1, passed as an argument to append, is not a list.",
     "output_type": "error",
     "traceback": [
      "\u001b[31mThe object 1, passed as an argument to append, is not a list.\u001b[0m"
     ]
    }
   ],
   "source": [
    "(append '1 '2)"
   ]
  },
  {
   "cell_type": "code",
   "execution_count": null,
   "metadata": {
    "scrolled": true
   },
   "outputs": [],
   "source": []
  }
 ],
 "metadata": {
  "kernelspec": {
   "display_name": "MIT Scheme",
   "language": "scheme",
   "name": "mit-scheme"
  },
  "language_info": {
   "codemirror_mode": "scheme",
   "file_extension": ".scm",
   "mimetype": "application/x-scheme",
   "name": "MIT Scheme",
   "pygments_lexer": "scheme",
   "version": "9.2.1"
  }
 },
 "nbformat": 4,
 "nbformat_minor": 2
}
