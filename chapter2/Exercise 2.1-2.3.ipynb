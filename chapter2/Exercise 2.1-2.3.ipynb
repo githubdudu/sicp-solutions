{
 "cells": [
  {
   "cell_type": "markdown",
   "metadata": {},
   "source": [
    "**Exercise 2.1**\n",
    "\n",
    "*Taking care of the sign is part of normalization in abstraction. So it is* ***good***. "
   ]
  },
  {
   "cell_type": "code",
   "execution_count": 4,
   "metadata": {},
   "outputs": [
    {
     "data": {
      "text/plain": [
       "make-rat"
      ]
     },
     "execution_count": 4,
     "metadata": {},
     "output_type": "execute_result"
    }
   ],
   "source": [
    "(define (make-rat n d)\n",
    "    (let ((g (gcd n d)))\n",
    "        (if (or (and (> n 0) (< d 0)) (and (< n 0) (> d 0)))\n",
    "            (cons (/ (* -1 n) g) (/ d g))\n",
    "            (cons (/ n g) (/ d g)))))\n"
   ]
  },
  {
   "cell_type": "code",
   "execution_count": 7,
   "metadata": {},
   "outputs": [
    {
     "data": {
      "text/plain": [
       "(1 . 5)"
      ]
     },
     "execution_count": 7,
     "metadata": {},
     "output_type": "execute_result"
    }
   ],
   "source": [
    "(make-rat 1 5)"
   ]
  },
  {
   "cell_type": "code",
   "execution_count": 8,
   "metadata": {},
   "outputs": [
    {
     "data": {
      "text/plain": [
       "(3 . 5)"
      ]
     },
     "execution_count": 8,
     "metadata": {},
     "output_type": "execute_result"
    }
   ],
   "source": [
    "(cons 3 5)"
   ]
  },
  {
   "cell_type": "markdown",
   "metadata": {},
   "source": [
    "**Exercise 2.2**\n",
    "\n",
    "*A good practice of abstraction barrier. Together with 2.3.*\n",
    "\n",
    "Level 1: point\n",
    "\n",
    "Level 2: segment\n",
    "\n",
    "Level 3: rectangle"
   ]
  },
  {
   "cell_type": "code",
   "execution_count": 67,
   "metadata": {},
   "outputs": [
    {
     "data": {
      "text/plain": [
       "y-point"
      ]
     },
     "execution_count": 67,
     "metadata": {},
     "output_type": "execute_result"
    }
   ],
   "source": [
    ";segment constructor\n",
    "(define (make-segment p1 p2 )\n",
    "  (cons p1 p2))\n",
    "\n",
    ";selectors\n",
    "(define (start-segment seg)\n",
    "  (car seg))\n",
    "(define (end-segment seg)\n",
    "  (cdr seg))\n",
    "\n",
    ";point constructor\n",
    "(define (make-point x y)\n",
    "  (cons x y))\n",
    "(define (x-point p) (car p))\n",
    "(define (y-point p) (cdr p))"
   ]
  },
  {
   "cell_type": "code",
   "execution_count": 70,
   "metadata": {},
   "outputs": [
    {
     "data": {
      "text/plain": [
       "print-point"
      ]
     },
     "execution_count": 70,
     "metadata": {},
     "output_type": "execute_result"
    }
   ],
   "source": [
    "(define (mid-point p1 p2)\n",
    "  (define (average a b) (/ (+ a b) 2))\n",
    "  (make-point (average (x-point p1) (x-point p2)) (average (y-point p1) (y-point p2))))\n",
    "(define (midpoint-segment seg)\n",
    "  (mid-point (start-segment seg) (end-segment seg)))\n",
    "(define (print-point p)\n",
    "    (newline)\n",
    "    (display \"(\")\n",
    "    (display (x-point p))\n",
    "    (display \",\")\n",
    "    (display (y-point p))\n",
    "    (display \")\"))"
   ]
  },
  {
   "cell_type": "code",
   "execution_count": 14,
   "metadata": {},
   "outputs": [
    {
     "data": {
      "text/plain": [
       "#!unspecific"
      ]
     },
     "execution_count": 14,
     "metadata": {},
     "output_type": "execute_result"
    }
   ],
   "source": [
    "(define p1 (make-point 0 0))\n",
    "(define p2 (make-point 10 8))\n",
    "(print-point p2)\n",
    "(print-point p1)\n",
    "(print-point (mid-point p1 p2))"
   ]
  },
  {
   "cell_type": "markdown",
   "metadata": {
    "collapsed": true
   },
   "source": [
    "**Exercise 2.3**\n",
    "\n",
    "*Notice the procedure now becomes very complicated.*\n",
    "\n",
    "Define `width` and `height`, so the perimeter and area are only relevant to the length of lines. \n",
    "\n",
    " Actually, there are more proper ways of representing rectangle, but here apparently there is a structure limit: `cons`, so our mind are limited in this frame. \n",
    "\n",
    "There are requirement in the argument. \n",
    "\n",
    "For `line1` and `line2`, their directions should be same, like ((0, 0),(0, 10)) ((2, 0), (2, 10)), not ((2, 10), (2, 0)).\n",
    "\n",
    "For `a, b, c, d`, they should in clockwise or anti clockwise. \n",
    "\n",
    "Judgement can be added to make these argument more flex. Just leave it.\n",
    "\n",
    "Represent rect as two lines."
   ]
  },
  {
   "cell_type": "code",
   "execution_count": 52,
   "metadata": {},
   "outputs": [
    {
     "data": {
      "text/plain": [
       "length"
      ]
     },
     "execution_count": 52,
     "metadata": {},
     "output_type": "execute_result"
    }
   ],
   "source": [
    ";(rect bottom-left bottom-right) or\n",
    ";(rect top-left top-right) or\n",
    ";(rect left-top left-bottom) or\n",
    ";(rect right-top right-bottom)\n",
    "\n",
    "(define (rect line1 line2)\n",
    "  (cons line1 line2))\n",
    "(define (line-a rect) (car rect))\n",
    "(define (line-c rect) (cdr rect))\n",
    "(define (line-b rect)\n",
    "  (make-segment (start-segment (line-a rect)) (start-segment (line-c rect))))\n",
    "(define (line-d rect)\n",
    "  (make-segment (end-segment (line-a rect)) (end-segment (line-c rect))))\n",
    "\n",
    "\n",
    "(define (width rect) (length (line-a rect)))\n",
    "(define (height rect) (length (line-b rect)))\n",
    "\n",
    "(define (perimeter rect)\n",
    "  (* 2 (+ (width rect) (height rect))))\n",
    "(define (area rect)\n",
    "  (* (width rect) (height rect)))\n",
    "(define (length line)\n",
    "  (sqrt ( + (square (- (x-point (start-segment line)) (x-point (end-segment line)))) \n",
    "            (square (- (y-point (start-segment line)) (y-point (end-segment line)))))))"
   ]
  },
  {
   "cell_type": "markdown",
   "metadata": {},
   "source": [
    "Represent rect as four points"
   ]
  },
  {
   "cell_type": "code",
   "execution_count": 79,
   "metadata": {},
   "outputs": [
    {
     "data": {
      "text/plain": [
       "line-d"
      ]
     },
     "execution_count": 79,
     "metadata": {},
     "output_type": "execute_result"
    }
   ],
   "source": [
    ";clockwise or anticlockwise\n",
    "(define (rect a b c d)\n",
    "  (cons (cons a b) (cons c d)))\n",
    "\n",
    "(define (point-a rect)\n",
    "  (car (car rect)))\n",
    "(define (point-b rect)\n",
    "  (cdr (car rect)))\n",
    "(define (point-c rect)\n",
    "  (car (cdr rect)))\n",
    "(define (point-d rect)\n",
    "  (cdr (cdr rect)))\n",
    "\n",
    "(define (line-a rect)\n",
    "  (make-segment (point-a rect) (point-b rect)))\n",
    "(define (line-b rect)\n",
    "  (make-segment (point-b rect) (point-c rect)))\n",
    "(define (line-c rect)\n",
    "  (make-segment (point-c rect) (point-d rect)))\n",
    "(define (line-d rect)\n",
    "  (make-segment (point-d rect) (point-a rect)))"
   ]
  },
  {
   "cell_type": "markdown",
   "metadata": {},
   "source": [
    "Make a test:"
   ]
  },
  {
   "cell_type": "code",
   "execution_count": 85,
   "metadata": {},
   "outputs": [
    {
     "data": {
      "text/plain": [
       "80"
      ]
     },
     "execution_count": 85,
     "metadata": {},
     "output_type": "execute_result"
    }
   ],
   "source": [
    "(define p1 (make-point 0 0))\n",
    "(define p2 (make-point 0 8))\n",
    "(define p3 (make-point 10 0))\n",
    "(define p4 (make-point 10 8))\n",
    "(define r1 (rect p1 p2 p4 p3))\n",
    "\n",
    "(area r1)\n"
   ]
  },
  {
   "cell_type": "markdown",
   "metadata": {
    "collapsed": true
   },
   "source": []
  }
 ],
 "metadata": {
  "kernelspec": {
   "display_name": "MIT Scheme",
   "language": "scheme",
   "name": "mit-scheme"
  },
  "language_info": {
   "codemirror_mode": "scheme",
   "file_extension": ".scm",
   "mimetype": "application/x-scheme",
   "name": "MIT Scheme",
   "pygments_lexer": "scheme",
   "version": "9.2.1"
  }
 },
 "nbformat": 4,
 "nbformat_minor": 5
}
