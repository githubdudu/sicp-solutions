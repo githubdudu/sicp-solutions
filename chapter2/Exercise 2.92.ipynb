{
 "cells": [
  {
   "cell_type": "markdown",
   "metadata": {},
   "source": [
    "**2.92**\n",
    "\n",
    "The key part is not just how to write code and implement every detail, it is about thinking in a same way that the chapter2 has showed which is :*** how to apply the ideas of abstract data and generic operations to help organize this effort ***."
   ]
  },
  {
   "cell_type": "markdown",
   "metadata": {},
   "source": [
    "We will introduce a new data structure of polynomial that can support and express multiple variables. We will follow the same way of data abstraction in the book."
   ]
  },
  {
   "cell_type": "code",
   "execution_count": null,
   "metadata": {
    "collapsed": true
   },
   "outputs": [],
   "source": [
    "(define (add-poly-mult-var p1 p2)\n",
    "  (make-poly-mult-var (union (var-set p1)  (var-set p2))\n",
    "                      (add-terms (term-list p1) (term-list p2))))\n",
    "\n",
    "(define (mul-poly-mult-var p1 p2)\n",
    "  (make-poly-mult-var (union (var-set p1)  (var-set p2))\n",
    "                      (mul-terms (term-list p1)(term-list p2))))\n"
   ]
  },
  {
   "cell_type": "code",
   "execution_count": null,
   "metadata": {
    "collapsed": true
   },
   "outputs": [],
   "source": [
    "(define (install-polynomial-mult-var-package)\n",
    "  ;; internal procedures\n",
    "  ;; representation of poly\n",
    "  (define (make-poly var-set term-list)\n",
    "    (list var-set term-list))\n",
    "  (define (var-set p) (car p))\n",
    "  (define (term-list p) (cdar p))\n",
    "\n",
    "  ;; representation of terms and term lists\n",
    "  <procedures adjoin-term ...coeff from text below>\n",
    "\n",
    "  ;; continued on next page\n",
    "\n",
    "  (define (add-poly-mult-var p1 p2) ...)\n",
    "\n",
    "  (define (mul-poly-mult-var p1 p2) ...)\n",
    "\n",
    "  ;; interface to rest of the system\n",
    "  (define (tag p) (attach-tag 'poly-mult-var p))\n",
    "  (put 'add '(poly-mult-var poly-mult-var) \n",
    "       (lambda (p1 p2) (tag (add-poly-mult-var p1 p2))))\n",
    "  (put 'mul '(poly-mult-var poly-mult-var) \n",
    "       (lambda (p1 p2) (tag (mul-poly-mult-var p1 p2))))\n",
    "  (put 'make 'poly-mult-var\n",
    "       (lambda (var-list terms) (tag (make-poly var-list terms))))\n",
    "\n",
    "  'done)\n",
    ";; Outside package\n",
    "(define (make-poly-mult-var V T)\n",
    "  ((get 'make 'poly-mult-var) V T))"
   ]
  },
  {
   "cell_type": "markdown",
   "metadata": {},
   "source": [
    "Like the textbook, we now implement `add-terms`. Original terms are constructed with `order` and `coeff`, now this term is constructed with `key` and `value` pairs in `Map`.\n",
    "\n",
    "We assume that terms are `Map`, which has a predicate `has?`, a selector `get` and procedure `set`"
   ]
  },
  {
   "cell_type": "code",
   "execution_count": 1,
   "metadata": {},
   "outputs": [
    {
     "data": {
      "text/plain": [
       "add-terms"
      ]
     },
     "execution_count": 1,
     "metadata": {},
     "output_type": "execute_result"
    }
   ],
   "source": [
    "(define (add-terms L1 L2)\n",
    "  (cond ((empty-termlist? L1) L2)\n",
    "        ((empty-termlist? L2) L1)\n",
    "        (else\n",
    "         (let ((t1 (first-term L1)))\n",
    "           (if (has? L2 (key t1))\n",
    "               (let ((new-L2 (set L2 (key t1) (add (value t1) (get L2 (key t1)))))\n",
    "                     (new-L1 (rest-terms L1)))\n",
    "                 (add-terms new-L1 new-L2))\n",
    "               (add-terms (rest-terms L1) (set L2 (key t1) (value t1))))))))\n"
   ]
  },
  {
   "cell_type": "code",
   "execution_count": 5,
   "metadata": {},
   "outputs": [
    {
     "data": {
      "text/plain": [
       "mul-term-by-all-terms"
      ]
     },
     "execution_count": 5,
     "metadata": {},
     "output_type": "execute_result"
    }
   ],
   "source": [
    "(define (mul-terms L1 L2)\n",
    "  (if (empty-termlist? L1)\n",
    "      (the-empty-termlist)\n",
    "      (add-terms (mul-term-by-all-terms (first-term L1) L2)\n",
    "                 (mul-terms (rest-terms L1) L2))))\n",
    "\n",
    "(define (mul-term-by-all-terms t1 L)\n",
    "  (if (empty-termlist? L)\n",
    "      (the-empty-termlist)\n",
    "      (let ((t2 (first-term L)))\n",
    "        (let ((new-L (set (rest-terms L) (combine (key t1) (key t2)) (mul (value t1) (value t2)))))\n",
    "          (mul-term-by-all-terms t1 new-L)))))\n"
   ]
  },
  {
   "cell_type": "markdown",
   "metadata": {},
   "source": [
    "Terms can be any data struture that is `Map` and `keys` are symbols like `'a3b4c5`.\n",
    "\n",
    "We transform string 'a3b4c5 (which means $a^{3}b^{4}c^{6}$) to $3a + 4b + 6c$, so the product procedure $a^{3}b^{4}c^{6} * a^{2}c^{1}f^{7}$ would be sum,\n",
    "\n",
    "$3a + 4b + 6c + 2a + 1c + 7f = 5a + 4b + 7c + 7f$, \n",
    "\n",
    "Then we transform sum back to product: $a^{5}b^{4}c^{7}f^{7}$.\n",
    "\n"
   ]
  },
  {
   "cell_type": "code",
   "execution_count": 8,
   "metadata": {},
   "outputs": [
    {
     "data": {
      "text/plain": [
       "string->terms"
      ]
     },
     "execution_count": 8,
     "metadata": {},
     "output_type": "execute_result"
    }
   ],
   "source": [
    "(define (combine K1 K2)\n",
    "  (terms->symbols (add-terms (symbols->terms K1) (symbols->terms K2))))\n",
    "\n",
    "(define (symbols->terms S)\n",
    "  (string->terms (symbol->string S)))\n",
    "\n",
    "(define (string->terms str)\n",
    "  (define (helper a map)\n",
    "    (if (< a (- (string-length str) 1))\n",
    "        (set map (string->symbol (string-ref str a)) (string-ref str (+ a 1)))\n",
    "        map))\n",
    "  (helper 0 the-empty-termlist))\n",
    "  "
   ]
  },
  {
   "cell_type": "markdown",
   "metadata": {},
   "source": [
    "We will not bother implement `Map`. Using list to represent `map` is not good either.\n",
    "\n",
    "One last thing, we should provide a way to raise the single variable polynomial to mult-var polynomial.\n",
    "\n",
    "We will not implement `get-all-var-set`, `sum-term`, `raise-order`. \n",
    "\n",
    "`get-all-var-set` is to find all the indeterminates both in coeff and variable and return as a set.\n",
    "\n",
    "`sum-term` is sum of the `add-terms` procedure.\n",
    "\n",
    "`raise-order` is to transform the variable list from orignal polynomial to mult-var-polynomial. Like below:"
   ]
  },
  {
   "cell_type": "markdown",
   "metadata": {},
   "source": [
    "$x^{5}+2x^{4}+3x^{2}-2x^{1}-5$ \n",
    "\n",
    "((5 1)(4 2)(2 3)(1 -2)(0 -5)) -> ((((x 5)) 1)(((x 4)) 2)(((x 2)) 3)(((x 1)) -2)(((x 0)) -5))\n",
    "\n",
    "$a^{5}b^{4}c^{7}f^{7}$. ((((a 5)(b 4)(c 7)(f 7)) 1))"
   ]
  },
  {
   "cell_type": "code",
   "execution_count": 2,
   "metadata": {},
   "outputs": [
    {
     "data": {
      "text/plain": [
       "raise"
      ]
     },
     "execution_count": 2,
     "metadata": {},
     "output_type": "execute_result"
    }
   ],
   "source": [
    "(define (raise poly)\n",
    "  (make-poly-mult-var (get-all-var-set poly) (sum-term (map (lambda (x) (mul-terms (raise (coeff x)) (raise-order (order x)))) term-list))))\n"
   ]
  },
  {
   "cell_type": "markdown",
   "metadata": {},
   "source": [
    "Other ref: https://github.com/kana/sicp/blob/master/ex-2.92.scm\n",
    "\n",
    "http://jots-jottings.blogspot.com/2012/06/sicp-exercise-292-dealing-with_24.html"
   ]
  },
  {
   "cell_type": "code",
   "execution_count": null,
   "metadata": {
    "collapsed": true
   },
   "outputs": [],
   "source": []
  }
 ],
 "metadata": {
  "kernelspec": {
   "display_name": "MIT Scheme",
   "language": "scheme",
   "name": "mit-scheme"
  },
  "language_info": {
   "codemirror_mode": "scheme",
   "file_extension": ".scm",
   "mimetype": "application/x-scheme",
   "name": "MIT Scheme",
   "pygments_lexer": "scheme",
   "version": "9.2.1"
  }
 },
 "nbformat": 4,
 "nbformat_minor": 2
}
