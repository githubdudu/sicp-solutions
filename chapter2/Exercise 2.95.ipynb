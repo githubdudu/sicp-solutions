{
 "cells": [
  {
   "cell_type": "markdown",
   "metadata": {},
   "source": [
    "Exercise 2.95"
   ]
  },
  {
   "cell_type": "markdown",
   "metadata": {},
   "source": [
    "(polynomial x (2 1458/169) (1 -2916/169) (0 1458/169)) \n",
    "\n",
    "This is introduced by 11 and 13. (which are both prime)\n",
    "\n",
    "Put P1 aside, try  (greatest-common-divisor P2 P3)\n",
    "\n",
    "`(div-poly P2 P3)`"
   ]
  },
  {
   "cell_type": "markdown",
   "metadata": {},
   "source": [
    "$$\\begin{align}\n",
    "  &\\frac{11x^{2}+7}{13x +5} \\\\\n",
    " = &\\frac{ \\frac{11}{13}x(13x+5) - \\frac{11\\times5}{13}x + 7}{13x +5} \\\\\n",
    " = &\\frac{11}{13}x + \\frac{ - \\frac{55}{13}x + 7}{13x +5} \\\\\n",
    " = &\\frac{11}{13}x + \\frac{ -\\frac{55}{13\\times13}(13x + 5)+\\frac{55\\times5}{13\\times13} +7}{13x +5} \\\\\n",
    " = &\\frac{11}{13}x - \\frac{55}{169} + \\frac{\\frac{275}{169} +7}{13x +5} \\\\\n",
    "  = &\\frac{11}{13}x - \\frac{55}{169} + \\frac{1458}{169}*\\frac{1}{13x +5} \\\\\n",
    "\\end{align}$$"
   ]
  },
  {
   "cell_type": "markdown",
   "metadata": {},
   "source": [
    "`(div-poly P3 (remainder P2 P3))`\n",
    "\n",
    "$$\\begin{align}\n",
    " &\\frac{13x +5}{\\frac{169}{1458}(13x +5)}\\\\\n",
    " = &\\frac{1458}{169}\n",
    "\\end{align}$$"
   ]
  },
  {
   "cell_type": "code",
   "execution_count": null,
   "metadata": {
    "collapsed": true,
    "vscode": {
     "languageId": "mit scheme"
    }
   },
   "outputs": [],
   "source": []
  }
 ],
 "metadata": {
  "kernelspec": {
   "display_name": "MIT Scheme",
   "language": "scheme",
   "name": "mit-scheme"
  },
  "language_info": {
   "codemirror_mode": "scheme",
   "file_extension": ".scm",
   "mimetype": "application/x-scheme",
   "name": "MIT Scheme",
   "pygments_lexer": "scheme",
   "version": "9.2.1"
  }
 },
 "nbformat": 4,
 "nbformat_minor": 2
}
