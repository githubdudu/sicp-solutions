{
 "cells": [
  {
   "cell_type": "markdown",
   "metadata": {},
   "source": [
    "**Exercise 2.41.**\n",
    "\n",
    "The part that produces triples needs a little thinking. Filter is simple."
   ]
  },
  {
   "cell_type": "code",
   "execution_count": 10,
   "metadata": {},
   "outputs": [
    {
     "data": {
      "text/plain": [
       "unique-pairs"
      ]
     },
     "execution_count": 10,
     "metadata": {},
     "output_type": "execute_result"
    }
   ],
   "source": [
    "; Support procedures\n",
    "\n",
    " (define nil '()) \n",
    "  \n",
    " (define accumulate fold-right) \n",
    "  \n",
    " (define (enumerate-interval low high) \n",
    "   (if (> low high) \n",
    "       nil \n",
    "       (cons low (enumerate-interval (+ low 1) high)))) \n",
    "  \n",
    " (define (flatmap proc seq) \n",
    "   (accumulate append nil (map proc seq)))\n",
    " (define (unique-pairs n)\n",
    "  (flatmap\n",
    "    (lambda (i)\n",
    "      (map (lambda (j) (list i j))\n",
    "           (enumerate-interval 1 (- i 1))))\n",
    "    (enumerate-interval 1 n)))"
   ]
  },
  {
   "cell_type": "code",
   "execution_count": 31,
   "metadata": {},
   "outputs": [
    {
     "data": {
      "text/plain": [
       "sum-triples"
      ]
     },
     "execution_count": 31,
     "metadata": {},
     "output_type": "execute_result"
    }
   ],
   "source": [
    ";smaller-sum?\n",
    "(define (smaller-sum? x s) (= (fold-right + 0 x) s))\n",
    "\n",
    "(define (sum-triples n s)\n",
    "  (filter (lambda (x) (smaller-sum? x s))\n",
    "          (flatmap\n",
    "            (lambda (i)\n",
    "                (map (lambda (k) (cons i k)) (unique-pairs (- i 1))))\n",
    "            (enumerate-interval 1 n))))"
   ]
  },
  {
   "cell_type": "code",
   "execution_count": 33,
   "metadata": {},
   "outputs": [
    {
     "data": {
      "text/plain": [
       "((5 4 3) (6 4 2) (6 5 1) (7 3 2) (7 4 1) (8 3 1) (9 2 1))"
      ]
     },
     "execution_count": 33,
     "metadata": {},
     "output_type": "execute_result"
    }
   ],
   "source": [
    "(sum-triples 4 7) ;'((4 2 1))\n",
    "(sum-triples 15 12) ;((5 4 3) (6 4 2) (6 5 1) (7 3 2) (7 4 1) (8 3 1) (9 2 1))"
   ]
  },
  {
   "cell_type": "markdown",
   "metadata": {},
   "source": [
    "**Exercise 2.42.**\n",
    "\n",
    "*The famous n-queen problem. The one in Leetcode has been solved by backtracking.* \n",
    "\n",
    "There are 92 solutions."
   ]
  },
  {
   "cell_type": "code",
   "execution_count": 7,
   "metadata": {},
   "outputs": [
    {
     "data": {
      "text/plain": [
       "flatmap"
      ]
     },
     "execution_count": 7,
     "metadata": {},
     "output_type": "execute_result"
    }
   ],
   "source": [
    "(define nil '()) \n",
    "(define accumulate fold-right) \n",
    "(define (enumerate-interval low high) \n",
    "   (if (> low high) \n",
    "       nil \n",
    "       (cons low (enumerate-interval (+ low 1) high)))) \n",
    "(define (flatmap proc seq) \n",
    "   (accumulate append nil (map proc seq)))\n"
   ]
  },
  {
   "cell_type": "code",
   "execution_count": 8,
   "metadata": {},
   "outputs": [
    {
     "data": {
      "text/plain": [
       "queens"
      ]
     },
     "execution_count": 8,
     "metadata": {},
     "output_type": "execute_result"
    }
   ],
   "source": [
    "(define (queens board-size)\n",
    "  (define (queen-cols k)  \n",
    "    (if (= k 0)\n",
    "        (list empty-board)\n",
    "        (filter\n",
    "         (lambda (positions) (safe? k positions))\n",
    "         (flatmap\n",
    "          (lambda (rest-of-queens)\n",
    "            (map (lambda (new-row)\n",
    "                   (adjoin-position new-row k rest-of-queens))\n",
    "                 (enumerate-interval 1 board-size)))\n",
    "          (queen-cols (- k 1))))))\n",
    "  (queen-cols board-size))"
   ]
  },
  {
   "cell_type": "code",
   "execution_count": 12,
   "metadata": {},
   "outputs": [
    {
     "data": {
      "text/plain": [
       "safe?"
      ]
     },
     "execution_count": 12,
     "metadata": {},
     "output_type": "execute_result"
    }
   ],
   "source": [
    "(define (adjoin-position new-r k rest)\n",
    "  (cons (list new-r k)  rest))\n",
    "(define empty-board nil)\n",
    "\n",
    "(define (safe? k pos) ;((1 1) (1 1) (x y) ...)\n",
    "  (let ((x (caar pos)) (prev (cdr pos)))\n",
    "    (define (iter li)\n",
    "      (cond ((null? li) #t)\n",
    "            ((or (= x (caar li)) (= (- k (cadar li)) (abs (- x (caar li))))) #f)\n",
    "            (else (iter (cdr li)))))\n",
    "    (iter prev)))"
   ]
  },
  {
   "cell_type": "code",
   "execution_count": 15,
   "metadata": {
    "scrolled": false
   },
   "outputs": [
    {
     "data": {
      "text/plain": [
       "92"
      ]
     },
     "execution_count": 15,
     "metadata": {},
     "output_type": "execute_result"
    }
   ],
   "source": [
    "(length (queens 8)) ;92\n",
    ";(queens 8)"
   ]
  },
  {
   "cell_type": "markdown",
   "metadata": {},
   "source": [
    "**Exercise 2.43.**"
   ]
  },
  {
   "cell_type": "markdown",
   "metadata": {},
   "source": [
    "In original version, `(queen-cols (- k 1))` is called once in `flatmap`; in Louis version, it is called `board-size` times.\n",
    "\n",
    "In whole program, it is called `board-size^board-size` times."
   ]
  },
  {
   "cell_type": "code",
   "execution_count": null,
   "metadata": {
    "collapsed": true
   },
   "outputs": [],
   "source": []
  },
  {
   "cell_type": "code",
   "execution_count": null,
   "metadata": {
    "collapsed": true
   },
   "outputs": [],
   "source": []
  }
 ],
 "metadata": {
  "kernelspec": {
   "display_name": "MIT Scheme",
   "language": "scheme",
   "name": "mit-scheme"
  },
  "language_info": {
   "codemirror_mode": "scheme",
   "file_extension": ".scm",
   "mimetype": "application/x-scheme",
   "name": "MIT Scheme",
   "pygments_lexer": "scheme",
   "version": "9.2.1"
  }
 },
 "nbformat": 4,
 "nbformat_minor": 2
}
